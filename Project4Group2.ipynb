{
 "cells": [
  {
   "cell_type": "markdown",
   "metadata": {},
   "source": [
    "# MATH20014 Mathematical Programming: Group 2 Project Sumbission - Knot Theory and Recursion "
   ]
  },
  {
   "cell_type": "markdown",
   "metadata": {},
   "source": [
    "## Table of Contents\n",
    "\n",
    "- [Introduction](#Intro)\n",
    "- Chapter 1: [Introduction to `PyGame`](#PartA)\n",
    "    - Section 1.1: [Animating Ball Motion](#S1)\n",
    "    - Section 1.2: [Sierpenski Triangle](#S2)\n",
    "    - Section 1.3: [Fractals and Trees](#S3)\n",
    "- Chapter 2: [Applications of `Pygame`](#PartB)\n",
    "    - Section 2.1: [Julia and Mandelbrot Sets](#S4)\n",
    "        - Part 2.1.1: [Animation of Julia Sets](#S4.1)\n",
    "        - Part 2.1.2: [Animation of Mandelbrot Sets](#S4.2)\n",
    "    - Section 2.2: [Tower of Hanoi](#S5)\n",
    "        - Part 2.2.1 [Definitions and Objectives](#S5.1)\n",
    "        - Part 2.2.2 [Producing a Solution](#S5.2)\n",
    "        - Part 2.2.3 [Identifying Valid Moves](#S5.3)\n",
    "        - Part 2.2.4 [Animation of the Puzzles](#S5.4)\n",
    "        - Part 2.2.5 [Extensions](#S5.5)\n",
    "- [Conclusion](#Conc)\n",
    "- [References and Bibilography](#Bib)"
   ]
  }
