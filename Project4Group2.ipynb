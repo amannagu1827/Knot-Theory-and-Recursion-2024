{
 "cells": [
  {
   "cell_type": "markdown",
   "metadata": {},
   "source": [
    "# MATH20014 Mathematical Programming: Group 3 Project Submission "
   ]
  },
  {
   "cell_type": "markdown",
   "metadata": {},
   "source": [
    "## Table of Contents\n",
    "\n",
    "- [Introduction](#Intro)\n",
    "- Chapter 1: [Introduction to `PyGame`](#PartA)\n",
    "    - Section 1.1: [Animating Ball Motion](#S1)\n",
    "    - Section 1.2: [Sierpenski Triangle](#S2)\n",
    "    - Section 1.3: [Fractals and Trees](#S3)\n",
    "- Chapter 2: [Applications of `Pygame`](#PartB)\n",
    "    - Section 2.1: [Julia and Mandelbrot Sets](#S4)\n",
    "        - Part 2.1.1: [Animation of Julia Sets](#S4.1)\n",
    "        - Part 2.1.2: [Animation of Mandelbrot Sets](#S4.2)\n",
    "    - Section 2.2: [Tower of Hanoi](#S5)\n",
    "        - Part 2.2.1 [Definitions and Objectives](#S5.1)\n",
    "        - Part 2.2.2 [Producing a Solution](#S5.2)\n",
    "        - Part 2.2.3 [Identifying Valid Moves](#S5.3)\n",
    "        - Part 2.2.4 [Animation of the Puzzles](#S5.4)\n",
    "        - Part 2.2.5 [Extensions](#S5.5)\n",
    "- [Conclusion](#Conc)\n",
    "- [References and Bibilography](#Bib)"
   ]
  },
  {
   "cell_type": "markdown",
   "metadata": {},
   "source": [
    "## Introduction <a name='Intro'></a>\n"
   ]
  },
  {
   "cell_type": "markdown",
   "metadata": {},
   "source": [
    "Recursion is one of the most powerful tools in programming. It is not only a rather intuitive mathematical concept, but it is also easy to implement in any programming language. In this Python project, we shall both visually and mathematically appreciate the power of recursion.  \n",
    "\n",
    "We shall focus on a set of modules collectively known as `PyGame` (see [(Shinners, 2021)](#PyGame_Intro)), as they provide a concise way for us to produce interactive animations within Python. The language of recursion naturally leads to the study of *fractals*, _id est_ self-repeating patterns and geometric objects. As we shall see later, a lot of patterns in nature are also closely related to fractals. "
   ]
  },
  {
   "cell_type": "markdown",
   "metadata": {},
   "source": [
    "The first chapter of the project consists of three short parts, aiming to understand the power of the `PyGame` module. Firstly, in section 1.1, we shall introduce and develop a simple PyGame animation function bouncing_ball, in which one or more balls bounce in a square box in two dimensions with various constraints. In section 1.2, we shall introduce fractals through the Sierpinski triangle and make an animation of how the Sierpinski triangles are produced. In section 1.3, we shall explore a particular construction and animation of a recursively defined “tree”. \n",
    "\n",
    "The second chapter of the project shall focus on some interesting applications when we shall integrate PyGame with different programming techniques. In section 2.1, we shall look at Julia sequences and we shall animate the Julia set as a transition from one picture to another. In addition to this, we shall look at Mandelbrot sequences, and then we shall create a program that zooms in and out of the Mandelbrot set. Finally, in section 2.2, we shall explore a classical puzzle - the Towers of Hanoi. We shall briefly look at the solution, the animation, and other space and time complexity issues."
   ]
  },
  {
   "cell_type": "markdown",
   "metadata": {},
   "source": [
    "<a id='PartA'></a>\n",
    "## Chapter 1: Introduction to `PyGame`\n"
   ]
  },
  {
   "cell_type": "markdown",
   "metadata": {},
   "source": [
    "In this part, we shall demonstrate animating and drawing in PyGame, which is very useful for our applications in [Chapter 2](#PartB)."
   ]
  },
  {
   "cell_type": "markdown",
   "metadata": {},
   "source": [
    "<a id='S1'></a>\n",
    "### Section 1.1: Animating Ball Motion \n"
   ]
  },
  {
   "cell_type": "markdown",
   "metadata": {},
   "source": [
    "In this section, we shall include some brief code to outline the main functionality of `PyGame`. For this, we shall recall that we are given a function `bouncing_ball` which allow users to play/pause an animation of a ball bouncing on a screen. We shall further develop it such that:\n",
    "\n",
    "1.\tThe user should be able to change the original position of the ball and should be able to change the speed of the ball.\n",
    "\n",
    "2.\tThe ball should slow down under the effect of gravity.\n",
    "\n",
    "3.\tTwo or more balls bounce within the same square (and of one another).\n",
    "\n",
    "We shall call the developed function `bouncing_ball_ext`."
   ]
  },
  {
   "cell_type": "markdown",
   "metadata": {},
   "source": [
    "To do this, we can utilize the power of classes in Python. We can observe that intuitively, a moving ball should have a size, its current position and its current velocity, and we shall introduce ourselves to the following definition:\n"
   ]
  },
  {
   "cell_type": "code",
   "execution_count": 1,
   "metadata": {},
   "outputs": [
    {
     "name": "stdout",
     "output_type": "stream",
     "text": [
      "pygame 2.1.2 (SDL 2.0.18, Python 3.9.7)\n",
      "Hello from the pygame community. https://www.pygame.org/contribute.html\n"
     ]
    }
   ],
   "source": [
    "from Ball_ext import Ball"
   ]
  },
  {
   "cell_type": "markdown",
   "metadata": {},
   "source": [
    "Note that we have set the attribute `size` as optional, as this would simplify the initialization of the object a bit.\n",
    "\n",
    "\n",
    "<a id = \"anim-explain\"></a>\n",
    "Now we shall discuss as to how we can implement the animation in the `PyGame` module. This will be a generic design that will be applied to every animation we shall create in the later sections.\n"
   ]
  },
  {
   "cell_type": "markdown",
   "metadata": {},
   "source": [
    "> **Note:** In `pygame`:\n",
    "> \n",
    "> 1. A click of a mouse button or pressing of a keyboard button consists of the following two actions.\n",
    ">\n",
    ">   - Pressing down on a button, which is detected by `event.type == pygame.KEYDOWN` and\n",
    ">\n",
    ">   - Releasing a button, which we will not being using.\n",
    ">\n",
    "> Note that `PyGame` considers the above as two different events.\n",
    ">\n",
    "> 2. A co-ordinate grid is implemented. And the $y$-axis $y=0$ is at the top of the screen, that is why when gravity is negative, the ball slows down at the top.\n",
    "\n",
    "We only use the pressing action to describe a press of the keyboard in this particular function. This is because, for this function, the only time the keyboard is used is when a button/key is being pressed.\n",
    "\n",
    "\n",
    "\n"
   ]
  },
  {
   "cell_type": "markdown",
   "metadata": {},
   "source": [
    "Firstly, an animation program needs to load the files, which can be done by using commnads like `pygame.bilt`, or `pygame.image.load`. Then, we need to initialise `PyGame` with an appropriate screen size and set the time `clock`. Then, we need to load the first picture, and wait for the clocks ticks for a few milliseconds, and then load the next picture. This goes on until the last picture. \n",
    "\n",
    "From here we add in extra features like pausing and speeding up and down the animation. The steps below describe on what the program should do in detail.\n",
    "\n",
    "> 1. Configure screen size and colour as tuples, and store the clock time in a variable.\n",
    ">\n",
    "> 2. Initialise `PyGame`, and set the program window using the screen size tuple used earlier and the title.\n",
    ">\n",
    "> 3. Load the picture above a white background and strech it to the program window.\n",
    ">\n",
    "> 4. Use the current speed factor and the clock time to wait for a specified amount of time, and then load the next picture, replacing the current picture.\n",
    ">\n",
    "> 5. Repeat Step 4 until the last image loads, then go back to the first image and go back to Step 5."
   ]
  },
  {
   "cell_type": "markdown",
   "metadata": {},
   "source": [
    "In addition to this, the program needs to allow the user to stop the animation, speed up the animation and slow down the animation. In order to do this, we shall detect keyboard presses from the user:\n",
    "\n",
    "> - If the user initiates the exit sequence, stop running the program and quit the PyGame window.\n",
    ">\n",
    "> - If the user presses the `Space` button, load the current picture rather than loading the next picture in Step 5 to create a static image.\n",
    ">\n",
    "> - If the user presses the `Up Arrow` button, increase the speed factor to speed up Step 4 above and as a result, this speeds up the animation.\n",
    ">\n",
    "> - If the user presses the `Down Arrow` button, decrease the speed factor to slow down Step 4 above and as a result, this slows down the animation."
   ]
  },
  {
   "cell_type": "markdown",
   "metadata": {},
   "source": [
    "Now we present the implementation of `bouncing_ball_ext` in Python."
   ]
  },
  {
   "cell_type": "code",
   "execution_count": 2,
   "metadata": {},
   "outputs": [],
   "source": [
    "from Ball_ext import bouncing_ball_ext"
   ]
  },
  {
   "cell_type": "markdown",
   "metadata": {},
   "source": [
    "We can test our function using one instance of our class `Ball`."
   ]
  },
  {
   "cell_type": "code",
   "execution_count": 3,
   "metadata": {},
   "outputs": [],
   "source": [
    "# A ball positioned at the middle, with velocity (1.2, 3).\n",
    "ballA = Ball(0.5, 0.5, 1.2, 3)\n",
    "bouncing_ball_ext(ballA)"
   ]
  },
  {
   "cell_type": "markdown",
   "metadata": {},
   "source": [
    "Next, we can implement collision between two balls. \n",
    "\n",
    "We assume every collision is *elastic*, that is,  we only have to exchange the velocity between the two balls when a collision is detected."
   ]
  },
  {
   "cell_type": "code",
   "execution_count": null,
   "metadata": {},
   "outputs": [],
   "source": [
    "from Ball_ext import bouncing_ball_two"
   ]
  },
  {
   "cell_type": "markdown",
   "metadata": {},
   "source": [
    "Now we can play around with different balls in the program."
   ]
  },
  {
   "cell_type": "code",
   "execution_count": null,
   "metadata": {},
   "outputs": [],
   "source": [
    "# Testing Cell\n",
    "ballA = Ball(0.5, 0.5, 1.2, 3, 70)\n",
    "ballB = Ball(0.5, 0.2, 1, -5, 100)\n",
    "bouncing_ball_two(ballA, ballB, gravity =0, speed_factor =20)"
   ]
  },
  {
   "cell_type": "markdown",
   "metadata": {},
   "source": [
    "We can also invite users to input their own parameters, this is very useful for testing different functions and will be used throughout the document. \n",
    "\n",
    "But first, we need a systemized way to ensure the user's input make sense.\n"
   ]
  },
  {
   "cell_type": "markdown",
   "metadata": {},
   "source": [
    "Now we are ready to provide an interactive version of the code."
   ]
  },
  {
   "cell_type": "code",
   "execution_count": null,
   "metadata": {},
   "outputs": [],
   "source": [
    "from Ball_ext import run_bouncing_ball"
   ]
  },
  {
   "cell_type": "code",
   "execution_count": null,
   "metadata": {},
   "outputs": [],
   "source": [
    "# Test Cell for interactive input\n",
    "run_bouncing_ball()"
   ]
  },
  {
   "cell_type": "markdown",
   "metadata": {},
   "source": [
    "\n",
    "### Section 1.2: Sierpenski Triangle \n",
    "<a id='S2'></a>"
   ]
  },
  {
   "cell_type": "markdown",
   "metadata": {},
   "source": [
    "Animating fractal constructions gives us a direct insight into how the function generating the fractal operates recursively. A typical example is the *Sierpinski Triangle*. It is a self-similar fractal, for which can be created by starting with one large, equilateral triangle, and then repeatedly cutting smaller triangles out of its centre. Interested readers are referred to [(Falconer, 1990)](#Falconer1990) for details. "
   ]
  },
  {
   "cell_type": "markdown",
   "metadata": {},
   "source": [
    "We are given a simple `PyGame` animation `draw_sierpinski`. Note that this function depends on `make_sierpinski`, which calls on itself using `depth-1` recursively. Similar constructs shall appear in our [next section](#S3) while drawing a recursive tree as well."
   ]
  },
  {
   "cell_type": "code",
   "execution_count": null,
   "metadata": {},
   "outputs": [],
   "source": [
    "from sierpinski import make_sierpinski"
   ]
  },
  {
   "cell_type": "markdown",
   "metadata": {},
   "source": [
    "We shall improve and develop on this basis to meet the following three conditions:\n",
    "\n",
    "1.\tThe user can be able to choose the depth of the triangle and stop and start the animation.\n",
    "\n",
    "2.\tThe user is also able to change the speed of the animation.\n",
    "\n",
    "3.\tAdding colours (in RGB value) to the triangles and the background.\n",
    "\n",
    "We shall call our developed function `draw_sierpinski_ext`. "
   ]
  },
  {
   "cell_type": "code",
   "execution_count": null,
   "metadata": {},
   "outputs": [],
   "source": [
    "from sierpinski import draw_sierpinski_ext, run_sierpinski_ext"
   ]
  },
  {
   "cell_type": "code",
   "execution_count": null,
   "metadata": {},
   "outputs": [],
   "source": [
    "# Test Cell:\n",
    "draw_sierpinski_ext()\n",
    "# With more parameters\n",
    "draw_sierpinski_ext(depth=8, speed = 60,colour=(255, 255, 255),backgroundColour = (171 ,31, 45))"
   ]
  },
  {
   "cell_type": "markdown",
   "metadata": {},
   "source": [
    "An interactive version for testing is given below:"
   ]
  },
  {
   "cell_type": "code",
   "execution_count": null,
   "metadata": {},
   "outputs": [],
   "source": [
    "# Test cell for interactive input\n",
    "run_sierpinski_ext()"
   ]
  },
  {
   "cell_type": "markdown",
   "metadata": {},
   "source": [
    "<a id='S3'></a>\n",
    "### Section 1.3: Fractals and Trees "
   ]
  },
  {
   "cell_type": "markdown",
   "metadata": {},
   "source": [
    "In this section, we shall visualize constructing a fractal tree as outlined in Chapter 16 of [(Mandelbrot, 1999)](#M1999). \n",
    "\n",
    "We shall first outline how we are going to construct a tree for any non-negative integer depth. \n",
    "\n",
    "We start with a straight line called a **trunk at depth 0**.  The trunk splits into three lines, which we call **branches**. The left branch and right branch make an angle $\\theta$ with the central branch, which is constructed by extending the trunk at depth 0. Then, all three branches can be considered as a **trunk of depth 1**, and each of them can split into three branches (i.e. trunk at depth 2) and so on. \n",
    "\n",
    "> **Definition**: the **tree of depth $n$ with angle $\\theta$** as the collection of line of trunk at depth $0, 1, 2 \\cdots n$ as outlined above. In particular, we will call the trunk at depth $n$ **leaves**.\n",
    "\n",
    "\n",
    "Note that as we employ a recursive definition of the tree, the tree should have $3^n$ trunks.\n"
   ]
  },
  {
   "cell_type": "markdown",
   "metadata": {},
   "source": [
    "Then, we shall use `PyGame` to create an animation of drawing the recursive tree. Meanwhile, four conditions need to be satisfied, and this is of the following:\n",
    "\n",
    "1.\tUsers should be able to change the depth of the tree. \n",
    "\n",
    "2.\tUsers should be able to start and stop the drawing of the tree. \n",
    "\n",
    "3.\tThe leaves should be coloured green and the trunk should be coloured brown.\n",
    "\n",
    "4.\tUsers should be able to change the speed of drawing the tree.\n"
   ]
  },
  {
   "cell_type": "code",
   "execution_count": null,
   "metadata": {},
   "outputs": [],
   "source": [
    "from tree import tree_anim, run_tree"
   ]
  },
  {
   "cell_type": "code",
   "execution_count": null,
   "metadata": {},
   "outputs": [],
   "source": [
    "# TEST CELL\n",
    "tree_anim(5, fps=30)"
   ]
  },
  {
   "cell_type": "markdown",
   "metadata": {},
   "source": [
    "An interactive version can be found below:\n"
   ]
  },
  {
   "cell_type": "code",
   "execution_count": null,
   "metadata": {},
   "outputs": [],
   "source": [
    "run_tree()"
   ]
  },
  {
   "cell_type": "markdown",
   "metadata": {},
   "source": [
    "<a id='PartB'></a>\n",
    "## Chapter 2: Applications of `PyGame` "
   ]
  },
  {
   "cell_type": "markdown",
   "metadata": {},
   "source": [
    "In this part, we shall focus on two major applications of `PyGame`, namely exploring complex function dynamics in section 4, and a famous recreational puzzle in section 5."
   ]
  },
  {
   "cell_type": "markdown",
   "metadata": {},
   "source": [
    "<a id='S4'></a>\n",
    "### Section 2.1: Julia and Mandelbrot Sets "
   ]
  },
  {
   "cell_type": "markdown",
   "metadata": {},
   "source": [
    "In light with the power of modern computers, dynamical systems become one of the most active research areas in mathematics. In particular, Mandelbrot in [(Mandelbrot, 1980)](#M1980) is interested in the dynamics of the complex function $f : \\mathbb{C} \\to \\mathbb{C},  z \\to \\lambda z (1-z)$. \n",
    "\n",
    "By dynamics, we are interested in the following question:\n",
    "\n",
    "> Given a value $c$, how do $f(c), f(f(c)), f(f(f(c))), ... f^n(c)$ behave? What is its value when $n$ tends to infinity?\n",
    "\n",
    "Note that $f$ above can be transformed into $w \\to w^2+D$ for some $D \\in \\mathbb{C}$ by doing a suitable translation $w \\to z-a$. Hence, we are motivated to the following definition:"
   ]
  },
  {
   "cell_type": "markdown",
   "metadata": {},
   "source": [
    "> **Definition:** Given $j_p \\in \\mathbb{C}$. The **filled in Julia set with parameter $\\mathit{j_p}$** is defined as the values of $c$ for which the following recurrence relation such that the sequence $(z_n)_{n \\geq 0}$ is *bounded*:\n",
    ">\n",
    "> $$ z_0 = c  \\quad \\text{and} \\quad z_n = z_{n-1}^2 + j_p, \\quad \\text{for } n = 1,2,3,\\dots $$\n",
    ">\n",
    "> We say that $(z_n)_{n \\geq 0}$ is the **Julia sequence with parameter $j_p$ induced by $c$**. From this, we can see that $(z_n)_{n \\geq 0}$ only relies on $c$ and the fixed parameter $j_p$.\n",
    ">\n",
    "> The boundary of the filled in Julia set is called a **Julia Set (with parameter $\\mathit{j_p}$)**."
   ]
  },
  {
   "cell_type": "markdown",
   "metadata": {},
   "source": [
    "> **Definition:** The **Mandelbrot set $M$** is defined as the values of $c$ for which the following recurrence relation is bounded for all $(z_n)_{n \\geq 0}$:\n",
    ">\n",
    "> $$ z_0 = 0  \\quad \\text{and} \\quad z_n = z_{n-1}^2 + c, \\quad \\text{for } n = 1,2,3,\\ldots$$\n",
    ">\n",
    "> We say that $(z_n)_{n \\geq 0}$ is the **Mandelbrot sequence induced by $c$**. From this, we can see that $(z_n)_{n \\geq 0}$ only relies on $c$."
   ]
  },
  {
   "cell_type": "markdown",
   "metadata": {},
   "source": [
    "We can immediately observe the similarity of the two definitions. In particular, we will take it as a fact without proof that, if $c \\in M$, then the Julia set with parameter $c$ will be connected. In particular, the most interesting Julia set is when we take the parameter at the  boundary of the Mandelbrot set."
   ]
  },
  {
   "cell_type": "markdown",
   "metadata": {},
   "source": [
    "Mandelbrot set become one of the most well known figure in mathematics due to the fractal nature of the set. We will develop a program that allow user to zoom in to the figure to explore the self-repeating pattern."
   ]
  },
  {
   "cell_type": "markdown",
   "metadata": {},
   "source": [
    "<a id='S4.1'></a> \n",
    "#### Part 2.1.1 Animation of Julia Sets\n"
   ]
  },
  {
   "cell_type": "markdown",
   "metadata": {},
   "source": [
    "Firstly, we shall look at Julia sets and animate images of Julia sets as transistioning slides."
   ]
  },
  {
   "cell_type": "markdown",
   "metadata": {},
   "source": [
    "We shall now create a function `julia` that calculates the largest term `n_max` for which each term $z_n$ of the corresponding Julia sequence with parameter $j_p$ induced by $c$ is bounded by $2$, otherwise the sequence $(z_n)_{n \\geq 0}$ diverges as $n$ tends to infinity. To avoid long processing times, we shall set a maximum number of terms `max_n` that is looped through in the function and if it is reached, the function returns the value of `max_n`."
   ]
  },
  {
   "cell_type": "markdown",
   "metadata": {},
   "source": [
    "We shall now create data for our Julia set. In order to do this, we need to create vectors `x_vector` and `y_vector` in order to create grid matrices `x_matrix` and `y_matrix` as input matricies. The vectors must be a number `c_intervals` of equally spaced intervals between the values `c_min` and `c_max`. \n",
    "\n"
   ]
  },
  {
   "cell_type": "markdown",
   "metadata": {},
   "source": [
    "We shall create the following function that takes a number `c_intervals` of equally spaced intervals between the values `c_min` and `c_max` and calculates `x_matrix` and `y_matrix`, and inputs the matrices into the `julia` function to create an output matrix `z_matrix`. In order to generate data needed for the set, we need `x_matrix`, `y_matrix` and `z_matrix`."
   ]
  },
  {
   "cell_type": "markdown",
   "metadata": {},
   "source": [
    "We shall create a folder, so that we can export the images into an appropriate directory entitled \"JULIA_GRAPHS\"."
   ]
  },
  {
   "cell_type": "code",
   "execution_count": null,
   "metadata": {},
   "outputs": [],
   "source": [
    "# Obtain the current working directory.\n",
    "currwd1 = str(os.getcwd())\n",
    "# Create a subdirectory within the current working directory using the system terminal.\n",
    "createdir1 = \"mkdir \\\"{}//JULIA_GRAPHS\\\"\".format(currwd1)\n",
    "os.system(createdir1)"
   ]
  },
  {
   "cell_type": "markdown",
   "metadata": {},
   "source": [
    "We shall now create a function that generates and exports the Julia set."
   ]
  },
  {
   "cell_type": "markdown",
   "metadata": {},
   "source": [
    "Now, we shall create a function that exports `n_img` images from the Julia graph for $j_p = re^{ai}$, where $r$ is determined by the input of the function and $a$ is chosen at equally spaced intervals between $[0, 2\\pi]$."
   ]
  },
  {
   "cell_type": "markdown",
   "metadata": {},
   "source": [
    "Now, we shall create a `PyGame` animation for displaying the Julia graphs. Note that the additional argument `runfile` is added for easier testing purpose, if it was set to `False`, then it will display the animation using the preset `.jpg` files in the directory."
   ]
  },
  {
   "cell_type": "code",
   "execution_count": null,
   "metadata": {},
   "outputs": [],
   "source": [
    "from JuliaMandelbrot import *"
   ]
  },
  {
   "cell_type": "markdown",
   "metadata": {},
   "source": [
    "We shall now use the default parameters of the `julia_animation` function, which will generate $200$ image files of the Julia sets with parameter $j_p = 0.7885e^{ai}$ where the numbers $a$ are chosen at equally spaced intervals in $[0, 2 \\pi]$, and display these image files in a film like animation with the program resolution being $800$ pixels by $600$ pixels."
   ]
  },
  {
   "cell_type": "code",
   "execution_count": null,
   "metadata": {},
   "outputs": [],
   "source": [
    "# Original export-then-run command, takes about 5 minutes\n",
    "# julia_animation()\n",
    "# Using exported graphs\n",
    "julia_animation('JULIA_GRAPHS', r = 0.7885, n_img = 200, runfile= False)"
   ]
  },
  {
   "cell_type": "markdown",
   "metadata": {},
   "source": [
    "From experimenting with the parameter `r` in the `julia_animation` function, one can see that changing the value of $r$ in $j_p = re^{ai}$ changes the distance between multiple \"clusters\" in the image, and it is only when these \"clusters\" meet that a significant visual effect happens. Upon trial and error, another value of $r$ that creates striking effects is $0.66$, and from this, one can see that there are many values of $r$ that creates such visual effects."
   ]
  },
  {
   "cell_type": "code",
   "execution_count": null,
   "metadata": {},
   "outputs": [],
   "source": [
    "# Original export-then-run command, takes about 30 minutes\n",
    "# julia_animation('JULIA_GRAPHS', r = 0.66, n_img=400,c_intervals = 400)\n",
    "# Using Exported graphs in JULIA_GRAPHS2\n",
    "julia_animation('JULIA_GRAPHS2', r = 0.66, n_img = 400,runfile= False)"
   ]
  },
  {
   "cell_type": "markdown",
   "metadata": {},
   "source": [
    "<a id='S4.2'></a> \n",
    "#### Part 2.1.2 Animation of Mandlebrot Sets"
   ]
  },
  {
   "cell_type": "markdown",
   "metadata": {},
   "source": [
    "We shall now create data for our Mandelbrot set. In order to do this, we need to create vectors `x_vector` and `y_vector` in order to create grid matrices `x_matrix` and `y_matrix` as input matricies. The `x_vector` must be a number `n_xpts` of equally spaced intervals between the values `x_min` and `x_max`, and the `y_vector` must be a number `n_ypts` of equally spaced intervals between the values `y_min` and `y_max`."
   ]
  },
  {
   "cell_type": "markdown",
   "metadata": {},
   "source": [
    "We shall create the following function that takes a number `n_xpts` of equally spaced intervals between the values `x_min` and `x_max`, and takes a number `n_ypts` of equally spaced intervals between the values `y_min` and `y_max` and calculates `x_matrix` and `y_matrix`, and inputs the matrices into the `mandelbrot` function to create an output matrix `z_matrix`. In order to generate data needed for the set, we need `x_matrix`, `y_matrix` and `z_matrix`."
   ]
  },
  {
   "cell_type": "markdown",
   "metadata": {},
   "source": [
    "We shall create a folder, so that we can export the images into an appropriate directory entitled \"MANDELBROT_GRAPHS\"."
   ]
  },
  {
   "cell_type": "code",
   "execution_count": null,
   "metadata": {},
   "outputs": [],
   "source": [
    "# Obtain the current working directory.\n",
    "currwd2 = str(os.getcwd())\n",
    "# Create a subdirectory within the current working directory using the system terminal.\n",
    "createdir2 = \"mkdir \\\"{}//MANDELBROT_GRAPHS\\\"\".format(currwd2)\n",
    "os.system(createdir2)"
   ]
  },
  {
   "cell_type": "markdown",
   "metadata": {},
   "source": [
    "We shall now create a function that generates and exports the Mandelbrot set."
   ]
  },
  {
   "cell_type": "markdown",
   "metadata": {},
   "source": [
    "Before we create a function that zooms in and out of a Mandelbrot set, we need to create a \"recipe\" for the function.\n",
    "\n",
    "We shall now define as to what \"clicking and dragging\" the mouse is in terms of the actions.\n",
    "\n",
    "> **Definition:** A **click and drag** of a mouse button consists of the following three actions in succession.\n",
    ">\n",
    "> 1. Pressing down on the left mouse button,\n",
    ">\n",
    "> 2. Moving the mouse, and\n",
    ">\n",
    "> 3. Releasing the left mouse button.\n",
    ">\n",
    "> All of these are stipulated by different events in PyGame.\n",
    "\n",
    "Hence, for our program, the \"recipe\" for a \"cropbox\" is of the following, we initiate new boolean variable `drag` and `rext`:\n",
    "\n",
    "> 1. If the user presses down the left mouse button, then set `drag` to be `True` and obtain position of the mouse (initial position).\n",
    ">\n",
    "> 2. If the user then moves the mouse around, and if `drag` is `True`, then set `rect` to be `True`.\n",
    "> \n",
    "> 3. If `rect` is `True`, then obtain current poisition of the mouse whenever the mouse moves around and display an outline box based on the initial position of the mouse and the current position of the mouse.\n",
    ">\n",
    "> 4. If the user releases the mouse button, then set `rect` and `drag` to be `False`.\n",
    "\n",
    "PyGame has no definitive function for a button, hence we shall need a \"recipe\" for the buttons in our program, and the \"recipe\" is of the following: Using a new boolean variable `button`,\n",
    "\n",
    "> 1. Create a filled box with a shade of green, and position the box with appropriate co-ordinates.\n",
    ">\n",
    "> 2. If the user presses down the left mouse button within the co-ordinates of the button, set a variable `button` to be `True`, and update the colour of the button to be a lighter green.\n",
    ">\n",
    "> 3. Once the processes initiated by the user or by the button has been completed and the `button` variable is set to `False`, the colour of the button will go back to the initial colour, that being green in this case.\n",
    "\n",
    "Using the principles above, we shall now create a program that zooms in and out of the animation, and we shall call the associated function `mandelbrot_program`. Due to the textboxes from within the program, we must set the minimum compatibility resolution width as $680$ pixels."
   ]
  },
  {
   "cell_type": "markdown",
   "metadata": {},
   "source": [
    "We shall now call the function with the default variables. This in turn produces a program with resolution of $800$ pixels by $600$ pixels, with the initial Mandelbrot set within the region $[-2, 1] \\times [-1.5, 1.5]$. "
   ]
  },
  {
   "cell_type": "code",
   "execution_count": null,
   "metadata": {},
   "outputs": [],
   "source": [
    "mandelbrot_program()"
   ]
  },
  {
   "cell_type": "markdown",
   "metadata": {},
   "source": [
    "<a id='S5'></a>\n",
    "### Section 2.2: Tower of Hanoi "
   ]
  },
  {
   "cell_type": "markdown",
   "metadata": {},
   "source": [
    "The Tower of Hanoi is a famous mathematical puzzle dating back to the $19^{th}$ century (see the introductory chapter of [(Hinz, Klavzar and Petr, 2018)](#HKP2018)). We have three poles/pegs and $n$ discs/disks that fit onto the poles. The discs differ in size and are initially arranged in a stack on one of the poles, in order from the largest disc (disc $n$) at the bottom to the smallest disc (disc $1$) at the top.\n",
    "\n",
    "The problem is to move the stack of discs from one pole to another pole while obeying the following rules: \n",
    "- Move only one disc at a time.\n",
    "- Never place a disc on top of one smaller than it.\n",
    "\n",
    "In this section, we will look at a way to solve and animate the puzzles, as well as more restrictions, variants, and limitations of our code."
   ]
  },
  {
   "cell_type": "markdown",
   "metadata": {},
   "source": [
    "<a id='S5.1'></a> \n",
    "#### Part 2.2.1 Definitions and Objectives"
   ]
  },
  {
   "cell_type": "markdown",
   "metadata": {},
   "source": [
    "\n",
    "In this part, we shall look at the necessary definitions and code to describe our objectives accurately in terms of the output of the code.\n",
    "\n",
    "Firstly, we need to make some key definitions. Note that we shall call the pegs from left to right pegs $A$, $B$ and $C$ respectively.\n"
   ]
  },
  {
   "cell_type": "markdown",
   "metadata": {},
   "source": [
    "> **Definition**: In the puzzle, A **move** consists of the following two pieces of information:\n",
    ">\n",
    "> •\tA positive integer $d$ as the disc (of size $d$) being moved, and\n",
    ">\n",
    "> •\tAn indicator of the direction of the move, for which the values can only be Left or Right.\n",
    "\n",
    "> **Definition**: A **peg** is a list of discs. A **configuration** (of the pegs) is the ordered triple $T =  (A, B, C)$ of the pegs mentioned thereof.\n",
    "\n",
    "Remark: We shall explain further what an \"indicator\" means in this context when we implement the class `Move` later.\n"
   ]
  },
  {
   "cell_type": "markdown",
   "metadata": {},
   "source": [
    "Next, we need to know mathematically what a puzzle is.\n",
    "\n",
    "> **Definition**: A **puzzle** $P$ consists of the following three pieces of information:\n",
    ">\n",
    "> •\tA configuration called an **initial configuration** $T_0$,\n",
    ">\n",
    "> •\tA configuration called an **objective configuration** $T_f$, and\n",
    ">\n",
    "> •\tA set of Rules $R$.\n",
    "\n",
    "Different variants of the Towers of Hanoi has different initial configurations, objective configurations, and rules.\n"
   ]
  },
  {
   "cell_type": "markdown",
   "metadata": {},
   "source": [
    "We shall now introduce a rigorous definition of solving a puzzle.\n",
    "\n",
    "> **Definition**: Given a puzzle, a move $M$ and a configuration $T$, $M$ is **a valid move of $T$ under $P$** if the rules $R$ in $P$ are followed.\n",
    ">\n",
    "> For such a move, the configuration $T$ shall be changed accordingly to T′, which we shall call $T’$ as **the configuration attained by $M$ on $T$** (under $P$).\n",
    "\n",
    "> **Definition**: For a positive integer n, a **solution for the puzzle $P$ with $n$ disks** is a sequence of moves $<M_1, M_2, …, M_s>$ such that the following holds under $P$:\n",
    ">\n",
    "> 1. $T_i$ is the configuration attained by $M_i$ on $T_{i-1}$ ,\n",
    "> 2. $M_i$ is a valid move of $T_{i - 1}$,\n",
    "> 3. $T_s$ is the objective configuration of the puzzle $T_f$,\n",
    ">\n",
    "> for all $1 ≤ i ≤ s$. We shall call $s$ the **length** of the solution. This gives rise to a configuration list under a solution for the puzzle $<T_1, T_2, …, T_s>$.\n"
   ]
  },
  {
   "cell_type": "markdown",
   "metadata": {},
   "source": [
    "Using the terminology, we can state our objectives rigorously.\n",
    "\n",
    "> Objective: Given the number of discs $n$, we should find a solution and a configuration list of the following puzzles:\n",
    ">\n",
    "> •\t$P$, the Classical Tower of Hanoi Problem,\n",
    ">\n",
    "> •\t$P$, the No Wrap Variant Problem, where wrap-around is prohibited, and\n",
    ">\n",
    "> •\t$P$, the Bicolor Variant Problem, where the task is to separate 2 colours of discs.\n",
    "\n",
    "Note that the output, namely the solution and the configuration list, shall be useful when we animate the problem in [Part 2.2.4](#S5.4).\n",
    "\n",
    "It would be convenient for us to define $M$ and $T$ as a type of their own, as it would be easier to produce solutions and configuration lists in Python in that we can realize them as a `list` of a particular type.\n"
   ]
  },
  {
   "cell_type": "markdown",
   "metadata": {},
   "source": [
    "We shall initialise $T$ as a list of lists. The structure of the tower is also noticeably clear from this. Lists are also mutable; hence it shall be easier for us to change the content later."
   ]
  },
  {
   "cell_type": "code",
   "execution_count": null,
   "metadata": {},
   "outputs": [],
   "source": [
    "A = list(range(1, 7))\n",
    "B = []\n",
    "C= []\n",
    "Tow = [A, B, C]\n",
    "print(Tow)"
   ]
  },
  {
   "cell_type": "markdown",
   "metadata": {},
   "source": [
    "In contrast, a move does not have to be mutable. Thus, it would be beneficial to exploit the object-oriented programming aspect of Python, which is well-explained in their documentation [(Python Software Foundation, 2022)](#PSF2022). Abiding by the definition, we shall define a new class `Move` that contains the two aspects: `disk` and `direction`."
   ]
  },
  {
   "cell_type": "code",
   "execution_count": null,
   "metadata": {},
   "outputs": [],
   "source": [
    "from ToH import *"
   ]
  },
  {
   "cell_type": "code",
   "execution_count": null,
   "metadata": {},
   "outputs": [],
   "source": [
    "# Example: Explore the Use of the class Move\n",
    "# Declare a Move\n",
    "M1 = Move()\n",
    "M1.direction = \"Right\"\n",
    "M1.disk = 5\n",
    "# Print out a Move\n",
    "print(M1)\n",
    "# Another way to Declare a Move\n",
    "M2 = Move(3, \"Left\")\n",
    "# Accessing the Variable \n",
    "print(M2.disk)\n",
    "print(M2.direction)\n",
    "# Note: We can integrate f-strings in classes as follows:\n",
    "print(f\"{M1} is a good move!\")\n",
    "print(f\"Do we want to {M2}?\")\n",
    "# We can test whether two moves are equal,\n",
    "# obviously, they are equal iff they contain the same disk and direction\n",
    "print(M1 == M2)"
   ]
  },
  {
   "cell_type": "markdown",
   "metadata": {},
   "source": [
    "It is now easier to determine the following types of solutions that we are looking for:\n",
    "\n",
    "-\tA Solution: A `list` of Type `Move`, and\n",
    "\n",
    "-\tA configuration list under a solution: a `list` of type `int list X int list X int list`, where `X` denotes the Cartesian product.\n",
    "\n",
    "From now on, we shall assume that everything shall be of the right type. That is, $n$ shall automatically denote the number of discs by default, and a solution and configuration shall always have the aforementioned type. This is a general programming concept called *duck typing*, and it stems from the following claim:\n",
    "\n",
    "> If something walks and quacks like a duck, then it must be a duck. \n",
    ">\n",
    "> [(“Understanding Interfaces in Go – Duncan Leung”)](#Leung2021)\n",
    "\n",
    "This is a *pythonic* design, for which the concept is explained in their documentation in (Python Software Foundation, 2001)."
   ]
  },
  {
   "cell_type": "markdown",
   "metadata": {},
   "source": [
    "<a id='S5.2'></a> \n",
    "#### Part 2.2.2 Producing a Solution"
   ]
  },
  {
   "cell_type": "markdown",
   "metadata": {},
   "source": [
    "Using the above, we shall create a function that solves the puzzles using a powerful technique called **mutual recursion**. We have seen a lot of examples of simple recursion in lectures, but to produce the required solution for this case, we need to harness the power of mutual recursion. That is, we use multiple functions that recursively call each other.\n",
    "\n",
    "Mutual recursion is a powerful idea, and there are many practical applications. One can see [(Rubio-Sánchez, Urquiza-Fuentes and Pareja-Flores, 2008)](#RUP2008) for more examples.\n",
    "\n",
    "In particular, the following pseudocode illustrates the idea. Note that `MoveLeft(n)` produces the solution we need since the objective of the puzzle is to move the discs from peg A to C."
   ]
  },
  {
   "cell_type": "markdown",
   "metadata": {},
   "source": [
    "```\n",
    "DEFINE MoveLeft(n): \\\\ Solution for the classical Puzzle - Move n discs from peg A to C\n",
    "    if n = 1 \\\\ Base Case\n",
    "        return [Move (1, 'Left')]\n",
    "    else:\n",
    "        \\\\ Perform the Following 3 Steps in order:\n",
    "        1. MoveRight(n-1) \\\\ Move the first n-1 discs from peg A to B\n",
    "        2. Move(n, 'Left') \\\\ Move disc n from peg A to C\n",
    "        3. MoveRight(n-1) \\\\ Move the first n-1 discs from peg B to Peg C\n",
    "END\n",
    "\n",
    "DEFINE MoveRight(n): \\\\ Solution for moving n discs from peg C to A\n",
    "    if n = 1 \\\\ Base Case\n",
    "        return [Move(1, 'Right')]\n",
    "    else:\n",
    "        \\\\ Perform the Following 3 Steps in order:\n",
    "        1. MoveLeft(n-1) \\\\ Move the first n-1 discs from peg A to C\n",
    "        2. Move(n, 'Right') \\\\ Move disc n from peg A to B\n",
    "        3. MoveLeft(n-1) \\\\ Move the first n-1 discs from peg C to Peg B\n",
    "END\n",
    "```"
   ]
  },
  {
   "cell_type": "markdown",
   "metadata": {},
   "source": [
    "As seen, the function `MoveLeft` and `MoveRight` recursively call each other, this is an idea we shall keep on using. Now we shall see how it is implemented in Python."
   ]
  },
  {
   "cell_type": "markdown",
   "metadata": {},
   "source": [
    "Note that, other than the recursive call, memoization is implemented. This drastically improves the running time of the command, especially on large $n$. We will look at the space/time complexity issue in the [last part](#S5.5).\n",
    "\n",
    "Now let us see the solution to the puzzle with $n = 4$:\n"
   ]
  },
  {
   "cell_type": "code",
   "execution_count": null,
   "metadata": {},
   "outputs": [],
   "source": [
    "print(ToH_Move_Left(4))"
   ]
  },
  {
   "cell_type": "markdown",
   "metadata": {},
   "source": [
    "This is not particularly useful, because every element had been masked as an object. In order to see the moves, we can use a for loop:"
   ]
  },
  {
   "cell_type": "code",
   "execution_count": null,
   "metadata": {},
   "outputs": [],
   "source": [
    "for move in ToH_Move_Left(4):\n",
    "    print(move)"
   ]
  },
  {
   "cell_type": "markdown",
   "metadata": {},
   "source": [
    "So, we have produced our solution for the classical puzzle as required. We can also investigate the length of the solution:"
   ]
  },
  {
   "cell_type": "code",
   "execution_count": null,
   "metadata": {},
   "outputs": [],
   "source": [
    "for i in range(3, 7):\n",
    "    print(f'for {i} disks, length of solution is {len(ToH_Move_Left(i))}')\n"
   ]
  },
  {
   "cell_type": "markdown",
   "metadata": {},
   "source": [
    "It is not hard to show the (optimal) length for this classical version of the puzzle is always $2^n - 1$. This is because the length $T(n)$ always follow the recursive relation:\n",
    "$$\\begin{cases}T(1) = 1 \\\\ T(n) = T(n-1) + 1 + T(n-1) = 2T(n-1)+1\\end{cases}$$\n",
    "\n",
    "Note that how the recursive relation above closely resembles the implementation above. Solving it using any techniques we can get $T(n) = 2^n - 1$ (it can also be readily proven from mathematical induction).\n",
    "\n",
    "This actually means as $n$ grows, the length of the list called by `ToH_Move_Left(n)` increases exponentially. This will quickly causes space issue when $n > 16$ . But as we can see in the [later sections](#S5.5), even with an exponentially long list, the running time can stay rather constant with memoization.\n"
   ]
  },
  {
   "cell_type": "markdown",
   "metadata": {},
   "source": [
    "We shall now look at different variants of the puzzle. Firstly, we shall deal with the variant where no wrapping is allowed. Another equivalent way of forming this puzzle would be considering the puzzle as the classical variation of the Tower of Hanoi puzzle, with an additional rule that *every move must involve peg $B$*."
   ]
  },
  {
   "cell_type": "markdown",
   "metadata": {},
   "source": [
    "We shall also handle the problem with mutual recursion with a pseudocode algorithm; this one is particularly inspired by the discussion at [(Chen, 2015)](#Chen2015).\n",
    "\n",
    "```\n",
    "DEFINE NoWrap_Left(n): \\\\ Solution for the puzzle - Move n discs from peg A to C\n",
    "    if n = 1: \n",
    "        \\\\ Perform the following 2 steps in order:\n",
    "        1. Move(1, 'Right') \\\\ move disc from A to B\n",
    "        2. Move(1, 'Right') \\\\ move disc from B to C\n",
    "    else:\n",
    "        \\\\ Perform the 5 Steps in Order:\n",
    "        1. NoWrap_Left(n) \\\\ move n-1 from A to C \n",
    "        2. Move(n, 'Right') \\\\ move disc n from A to B\n",
    "        3. NoWrap_Right(n) \\\\ move n-1 from C to A \n",
    "        4. Move(n, 'Right') \\\\ move disc n from B to C\n",
    "        5. NoWrap_Left(n) \\\\move n-1 from A to C \n",
    "END    \n",
    "\n",
    "DEFINE NoWrap_Right(n): \\\\ Solution for Moving n discs from peg C to A\n",
    "    if n = 1:\n",
    "        \\\\ Perform the following 2 steps in order:\n",
    "        1. Move(1, 'Left') \\\\ move disc from C to B\n",
    "        2. Move(1, 'Left') \\\\ move disc from B to A\n",
    "    else:\n",
    "        \\\\ Perform the 5 Steps in Order:\n",
    "        1. NoWrap_Right(n) \\\\ move n-1 from C to A \n",
    "        2. Move(n, 'Left') \\\\ move disc n from C to B\n",
    "        3. NoWrap_Left(n) \\\\ move n-1 from A to C \n",
    "        4. Move(n, 'Left') \\\\ move disc n from B to A\n",
    "        5. NoWrap_Right(n) \\\\move n-1 from C to A \n",
    "END\n",
    "```\n",
    "The implementation is analogous to the classical variant of the puzzle. We shall also have a look at the solution and its length.\n"
   ]
  },
  {
   "cell_type": "code",
   "execution_count": null,
   "metadata": {},
   "outputs": [],
   "source": [
    "for move in ToH_NoWrap_Move_Left(3):\n",
    "    print(move)"
   ]
  },
  {
   "cell_type": "code",
   "execution_count": null,
   "metadata": {},
   "outputs": [],
   "source": [
    "for i in range(3, 7):\n",
    "    print(f'for {i} disks, length of solution is {len(ToH_NoWrap_Move_Left(i))}')"
   ]
  },
  {
   "cell_type": "markdown",
   "metadata": {},
   "source": [
    "And, in fact, we can show that the (optimal) length of this solution is $3^n -1$. The intuition would be that we use one extra move in every iteration to accommodate the fact that it must pass through peg B.\n",
    "\n",
    "\n",
    "\n"
   ]
  },
  {
   "cell_type": "markdown",
   "metadata": {},
   "source": [
    "Finally, we shall deal with the bicolour variant. Note that this implementation is not optimal, as we would see in the [next part](#S5.3).\n",
    "\n",
    "The strategy here is to first move everything to peg $B$ and then redistribute it after changing the bottom two discs. Again, we shall start by introducing pseudocode:\n",
    "\n",
    "```\n",
    "DEFINE ToCenter(n): \\\\ Solution for Moving n discs to peg B\n",
    "    if n = 1:  Move(1, 'Right') \n",
    "    Elif n = 2: [Move(2, 'Left'), Move(1, 'Right')]\n",
    "    else:\n",
    "        if n is even:\n",
    "            \\\\ Perform the 4 Steps in Order:\n",
    "            1. ToCenter(n-2) \\\\ move n-2 discs to peg B\n",
    "            2. Left(n-2) \\\\ move n-2 discs from B to A\n",
    "            3. Move(n, 'Left') \\\\ move n from C to B \n",
    "            4. Right(n-1) \\\\move n-1 discs from A to B \n",
    "        else: \\\\ if n is odd\n",
    "            \\\\ Perform the 4 Steps in Order:\n",
    "            1. ToCenter(n-1) \\\\ move n-1 discs to peg B\n",
    "            2. Right(n-1) \\\\ move n-1 discs from B to C\n",
    "            3. Move(n, 'Right') \\\\ move n from A to B \n",
    "            4. Left(n-1) \\\\move n-1 discs from C to B \n",
    "END    \n",
    "\n",
    "DEFINE Solve_Bicolor(n): \\\\ Solution for the Bicolor Variant\n",
    "    if n is not even, RAISE error\n",
    "    if n = 2: [Move(2, 'Left'), Move(1, 'Left'), Move(2, 'Left')]\n",
    "    else:\n",
    "        \\\\ Perform the 3 Steps in Order:\n",
    "        1. ToCenter(n-1) \\\\ move n-1 discs to peg B\n",
    "        2. Move(n, 'Left') \\\\ move disc n from C to A\n",
    "        3. REVERSE ToCenter(n) \\\\ redistribute the n-1 discs to their opposite pegs\n",
    "END\n",
    "```"
   ]
  },
  {
   "cell_type": "markdown",
   "metadata": {},
   "source": [
    "Note that, for the last step, we shall need to reverse the whole list. In this case, we shall need to create a new function `rev_list` to reverse a list."
   ]
  },
  {
   "cell_type": "code",
   "execution_count": null,
   "metadata": {},
   "outputs": [],
   "source": [
    "for i in range(2, 12, 2):\n",
    "    print(f'for {i} disks, length of solution is {len(ToH_Bicolor_Solve(i))}')"
   ]
  },
  {
   "cell_type": "markdown",
   "metadata": {},
   "source": [
    "<a id='S5.3'></a> \n",
    "#### Part 2.2.3 Identifying Valid Moves"
   ]
  },
  {
   "cell_type": "markdown",
   "metadata": {},
   "source": [
    "In this part, we shall introduce the function `ToH_Valid_Move` in order to detect whether a move $M$ is a valid move of $T$ under $P$. We shall then use it to return the configuration list under a solution. This will achieve the objective set in the first part of our discussion. From here, we shall also present an interactive version of the puzzle.\n"
   ]
  },
  {
   "cell_type": "markdown",
   "metadata": {},
   "source": [
    "The key idea of the `ToH_Valid_Move` Command is as follows:\n",
    "\n",
    ">1.\tGiven a move `m`, assign a direction of m (i.e., `m.direction`) as Left or Right with a direction number `dir_num`, with the value being `1` when the direction is Right, and `-1` otherwise.\n",
    "> 2. Given the Move `m,` ensure that the disc m.disc is at the top of one of the pegs. Find the peg and call that peg `count`.\n",
    "> 3. Calculate the value of `count + dir_num` and assign it to `tar`. This tells us where we can put the disc at the target configuration. If wrapping around is allowed, we can work modulo 3; otherwise `tar` can only be 0, 1 or 2.\n",
    ">\n",
    "> 4. Mutate the configuration such that it becomes the configuration attained by `m` on `config` if the boolean variable `Validmove` is true, otherwise, return the unchanged configuration.\n"
   ]
  },
  {
   "cell_type": "markdown",
   "metadata": {},
   "source": [
    "The key point here is point 4. Due to the process of mutating the original configuration `config`, it will change whenever we call the function, so we do not have to redefine it upon successive calls of the function. \n",
    "\n",
    "This is an immensely powerful design (in technical jargon, he variable `config` is *dynamic*) that will save us some lines when designing the interactive version of the puzzles. The following code block illustrates this idea."
   ]
  },
  {
   "cell_type": "code",
   "execution_count": null,
   "metadata": {},
   "outputs": [],
   "source": [
    "# Test Cell: The ToH_Valid_Move Function is dynamic\n",
    "A = [1, 2, 3]\n",
    "B = []\n",
    "C = []\n",
    "Tow = [A, B, C]\n",
    "M_1 = Move(1, 'Left')\n",
    "M_2 = Move(2, 'Left')\n",
    "print(ToH_Valid_Move(M_1, Tow, WrapAround = False, Verbose = True))\n",
    "print(ToH_Valid_Move(M_1, Tow, WrapAround = True, Verbose = True))\n",
    "# Note that how Tow changed to [[2, 3], [], [1]] instead of the original configuration\n",
    "print(Tow)\n",
    "print(ToH_Valid_Move(M_2, Tow, Verbose = True))\n",
    "print(ToH_Valid_Move(M_1, Tow, WrapAround = False))"
   ]
  },
  {
   "cell_type": "markdown",
   "metadata": {},
   "source": [
    "From here, we shall display the configuration list under a solution for the puzzle. We shall first start with the classical variant."
   ]
  },
  {
   "cell_type": "code",
   "execution_count": null,
   "metadata": {},
   "outputs": [],
   "source": []
  },
  {
   "cell_type": "code",
   "execution_count": null,
   "metadata": {},
   "outputs": [],
   "source": [
    "ToH_ConList_Display(4)"
   ]
  },
  {
   "cell_type": "markdown",
   "metadata": {},
   "source": [
    "We can deal with the no wrap variant and bicolor variant similarly."
   ]
  },
  {
   "cell_type": "code",
   "execution_count": null,
   "metadata": {},
   "outputs": [],
   "source": [
    "# No Wrap Variant\n",
    "ToH_NoWrap_ConList_Display(3)"
   ]
  },
  {
   "cell_type": "code",
   "execution_count": null,
   "metadata": {},
   "outputs": [],
   "source": [
    "#Bicolor Variant\n",
    "ToH_BiColor_ConList_Display(4)"
   ]
  },
  {
   "cell_type": "markdown",
   "metadata": {},
   "source": [
    "As we can see, the answer of the configuration list indeed matches the definition and the objective configuration. Note that, in the `ToH_BiColor_Solve` function, the output is sub-optimal. For example, note that the output, shown below, after 4 steps,\n",
    "\n",
    "```\n",
    "[[1, 3], [], [2, 4]] <-- HERE\n",
    "Step 1: move disc 2 to the Left\n",
    "[[1, 3], [2], [4]]\n",
    "Step 2: move disc 1 to the Right\n",
    "[[3], [1, 2], [4]]\n",
    "Step 3: move disc 1 to the Left\n",
    "[[1, 3], [2], [4]]\n",
    "Step 4: move disc 2 to the Right\n",
    "[[1, 3], [], [2, 4]] <-- HERE\n",
    "```\n",
    "\n",
    "brings us back to the original configuration, so this does not need to be part of the solution.\n",
    "\n",
    "From here, it is not hard for us to produce an interactive version of the three puzzles, where the user can feed in a move and play until the objective is reached."
   ]
  },
  {
   "cell_type": "code",
   "execution_count": null,
   "metadata": {},
   "outputs": [],
   "source": [
    "# Test: key press are c - 1 - 1 - Left\n",
    "ToH_interactive()"
   ]
  },
  {
   "cell_type": "markdown",
   "metadata": {},
   "source": [
    "<a id='S5.4'></a> \n",
    "#### Part 2.2.4 Animation of the Puzzles"
   ]
  },
  {
   "cell_type": "markdown",
   "metadata": {},
   "source": [
    "In this part, we shall look as to how we can integrate the solution and configuration list such that the puzzles can be displayed as an animation.\n",
    "\n",
    "First we shall create a background with a base and 3 pegs, just like the usual Tower of Hanoi setup."
   ]
  },
  {
   "cell_type": "markdown",
   "metadata": {},
   "source": [
    "Please run this line of code to export `ToH_BG.jpg` in the directory."
   ]
  },
  {
   "cell_type": "code",
   "execution_count": null,
   "metadata": {},
   "outputs": [],
   "source": [
    "ToH_Draw_Background()"
   ]
  },
  {
   "cell_type": "markdown",
   "metadata": {},
   "source": [
    "Now, in order to access and update the background, we just need to use the `image`, `load` and `bilt` command in the `PyGame` module.\n",
    "\n",
    "Note that we do not want to do the same and save discs as PNG files, and this is because they depend on the configuration, and they will be moved around in the animation.\n"
   ]
  },
  {
   "cell_type": "markdown",
   "metadata": {},
   "source": [
    "Another hurdle to overcome is the fact that discs come in varied sizes. Usually, they are cylinders of the same height, but since we are looking at the puzzle from a side view, we shall treat the discs as rectangles with different widths but the same height.\n",
    "\n",
    "In our implementation, the discs are labelled by the positive integers (which stemmed from the class `Move`), and we can set disc $1$ as $10$ pixels long, disc $2$ as $20$ pixels, ... et cetera.\n"
   ]
  },
  {
   "cell_type": "markdown",
   "metadata": {},
   "source": [
    "If the disc size is fixed, where the discs are placed is uniquely determined by the configuration. We shall take advantage of this and write a function that, given the configuration, outputs where the discs should be drawn.\n",
    "\n"
   ]
  },
  {
   "cell_type": "markdown",
   "metadata": {},
   "source": [
    "The `ToH_Get_Coordinate` acts as a helper to our animation functions, and we shall enumerate over the list to draw all the discs in a configuration."
   ]
  },
  {
   "cell_type": "code",
   "execution_count": null,
   "metadata": {},
   "outputs": [],
   "source": []
  },
  {
   "cell_type": "code",
   "execution_count": null,
   "metadata": {},
   "outputs": [],
   "source": [
    "ToH_Basic(5,1)"
   ]
  },
  {
   "cell_type": "markdown",
   "metadata": {},
   "source": [
    "(Note that the animation shows the configuration before applying the last move, thus it is easy to see that the animation produces the objective configuration.)\n",
    "\n",
    "Now we shall discuss the key difference between implementing this and the other two variants of the puzzle.\n",
    "\n",
    "1.\tThe No Wrap Variant is similar, except with WrapAround = False in the ToH_Valid_Move command.\n",
    "\n",
    "2.\tThe Bicolor Variant: The initial configuration of the discs shall be changed accordingly. We shall also colour the discs red and green instead of blue for visual effects.\n"
   ]
  },
  {
   "cell_type": "code",
   "execution_count": null,
   "metadata": {},
   "outputs": [],
   "source": [
    "ToH_NoWrap(3, 5)"
   ]
  },
  {
   "cell_type": "code",
   "execution_count": null,
   "metadata": {},
   "outputs": [],
   "source": [
    "ToH_BiColor(4, 8)"
   ]
  },
  {
   "cell_type": "markdown",
   "metadata": {},
   "source": [
    "From here, we can let the user choose the mode, discs, and speed factor using an interactive command."
   ]
  },
  {
   "cell_type": "code",
   "execution_count": null,
   "metadata": {},
   "outputs": [],
   "source": [
    "ToH_Animation_Interactive()"
   ]
  },
  {
   "cell_type": "markdown",
   "metadata": {},
   "source": [
    "<a id='S5.5'></a> \n",
    "#### Part 2.2.5 Extensions"
   ]
  },
  {
   "cell_type": "markdown",
   "metadata": {},
   "source": [
    "There are a lot of features we can add to the functions introduced in this part. Firstly, we look at implementing a smooth version of ToH_Basic, where the discs transfer smoothly."
   ]
  },
  {
   "cell_type": "code",
   "execution_count": null,
   "metadata": {},
   "outputs": [],
   "source": [
    "# Test Cells\n",
    "ToH_Basic_Smooth(4, 60) "
   ]
  },
  {
   "cell_type": "markdown",
   "metadata": {},
   "source": [
    "Now as promised in the previous parts, we look at different time and space complexity issue. \n",
    "\n",
    "First, recall that we discussed the classical amnd no wrap variant have optimal length of solution $2^n-1$ and $3^n-1$ respectively. The informal reason of why they are optimal is as follows:\n",
    "\n",
    "- In the classical variant, there must be one move where disk $n$ is moved from peg $A$ to $C$, before and after that, the move can be copied from the optimal moves in the solution of $n-1$ disks to solve the puzzle. That explains the $T(n-1)$ term in the recurrence relation.\n",
    "\n",
    "- Similarly, in the no wrap variant, there must be two move that move disk $n$ from peg $A$ to $B$, then peg $B$ to $C$, that leaves three 'gaps' in between the two moves. That's why there are three $T(n-1)$ term present.\n",
    "\n",
    "So in conclusion, the code for `ToH_Move_Left` and `ToH_NoWrap_Move_Left` is fully optimized in terms of solution length. However, we note that there exists numerous iterative solution that involve searching a valid move under a configuration (see the 'Solution' tab in [(Wikipedia Contributors, 2022)](#Wiki)). In our project, this may mean searching in a loop inside the function `ToH_Valid_Move`, which, to the authors, is an unncessary complication which may cause further runtime loss.\n",
    "\n",
    "However, We shall look at how memoization speeds up the function call for large values of $n$ to show the importance of this technique.  We first start by implementing the no memoization version of functions that produces a solution, with a suffix `_NoMem` after their usual names in order to distinguish them.\n"
   ]
  },
  {
   "cell_type": "code",
   "execution_count": null,
   "metadata": {},
   "outputs": [],
   "source": [
    "# Test Cell: The contemt of the no memoization version is the same as that of the original, memomized verion.\n",
    "all([ToH_Move_Left_Nomem(i) == ToH_Move_Left(i) for i in range(1, 9)])"
   ]
  },
  {
   "cell_type": "code",
   "execution_count": null,
   "metadata": {},
   "outputs": [],
   "source": [
    "%timeit ToH_Move_Left(12)\n",
    "%timeit ToH_Move_Left_Nomem(12)"
   ]
  },
  {
   "cell_type": "code",
   "execution_count": null,
   "metadata": {},
   "outputs": [],
   "source": [
    "all([ToH_NoWrap_Move_Left_Nomem(i) == ToH_NoWrap_Move_Left(i) for i in range(1, 9)])"
   ]
  },
  {
   "cell_type": "code",
   "execution_count": null,
   "metadata": {},
   "outputs": [],
   "source": [
    "%timeit ToH_NoWrap_Move_Left(12) \n",
    "%timeit ToH_NoWrap_Move_Left_Nomem(12) "
   ]
  },
  {
   "cell_type": "code",
   "execution_count": null,
   "metadata": {},
   "outputs": [],
   "source": [
    "all([ToH_Bicolor_Solve_Nomem(i) == ToH_Bicolor_Solve(i) for i in range(2, 12, 2)])"
   ]
  },
  {
   "cell_type": "code",
   "execution_count": null,
   "metadata": {},
   "outputs": [],
   "source": [
    "%timeit ToH_Bicolor_Solve(12)\n",
    "%timeit ToH_Bicolor_Solve_Nomem(12)"
   ]
  },
  {
   "cell_type": "markdown",
   "metadata": {},
   "source": [
    "As seen, as $n$ increases, the run time for no memoization dramatically increases, but with memoization, the running time can be kept to around $200$ nanoseconds."
   ]
  },
  {
   "cell_type": "markdown",
   "metadata": {},
   "source": [
    "<a id='Conc'></a>\n",
    "## Conclusion "
   ]
  },
  {
   "cell_type": "markdown",
   "metadata": {},
   "source": [
    "Throughout the project, we have explained the complex topic of fractals and we have seen examples of how mathematical concepts like recursion can be implemented using various computational techniques. As Mandelbrot himself [(Benoît Mandelbrot, 1983)](#M1983) put it:\n",
    "\n",
    "> *“Fractals Geometry reveals that some of the most austerely formal chapters of mathematics had a hidden face: a world of pure plastic beauty unsuspected till now.”*\n",
    ">\n",
    "> Benoît Mandelbrot, 1983"
   ]
  },
  {
   "cell_type": "markdown",
   "metadata": {},
   "source": [
    "<a id='Bib'></a>\n",
    "## References and Bibilography"
   ]
  },
  {
   "cell_type": "markdown",
   "metadata": {},
   "source": [
    "<a id='Chen2015'></a> Chen, Y.L. (2015). *Efficient Algorithm for Tower of Hanoi Variation*. [online] Stack Overflow. Available at: https://stackoverflow.com/questions/32463594/efficient-algorithm-for-tower-of-hanoi-variation [Accessed 3 May 2022].\n",
    "\n",
    "<a id='Falconer1990'></a> Falconer, K.J. (1990). *Fractal Geometry*. Wiley.\n",
    "\n",
    "<a id='HKP2018'></a> Hinz, A.M., Klavzar, S. and Petr, C. (2018). *The Tower of Hanoi - Myths and Maths*. [online] Cham: Springer International Publishing. Available at: https://link.springer.com/content/pdf/10.1007/978-3-319-73779-9.pdf [Accessed 3 Apr. 2022].\n",
    "\n",
    "<a id='Leung2021'></a> Leung, D. (2021). *Understanding Interfaces in Go*. [online] Duncanleung.com. Available at: https://duncanleung.com/understand-go-golang-interfaces/ [Accessed 17 Apr. 2022].\n",
    "\n",
    "<a id='M1980'></a> Mandelbrot, B.B. (1980). FRACTAL ASPECTS OF THE ITERATION OF $z → \\lambda z(1- z)$ FOR COMPLEX $\\lambda$ AND $z$. *Annals of the New York Academy of Sciences*, [online] 357(1), pp.249–259. doi:10.1111/j.1749-6632.1980.tb29690.x.\n",
    "\n",
    "<a id='M1983'></a> Mandelbrot, B.B. (1983). *The Fractal Geometry of Nature*. New York: W.H. Freeman and Company.\n",
    "\n",
    "<a id='M1999'></a> Mandelbrot, B.B. and Frame, M. (1999). The Canopy and Shortest Path in a Self-Contacting Fractal Tree. *The Mathematical Intelligencer*, 21(2), pp.18–27. doi:10.1007/bf03024842.\n",
    "\n",
    "<a id='PSF2022'></a> Python Software Foundation (2022). *9. Classes - Python 3.10.4 Documentation*. [online] Python.org. Available at: https://docs.python.org/3/tutorial/classes.html [Accessed 3 Apr. 2022].\n",
    "\n",
    "<a id='RUP2008'></a> Rubio-Sánchez, M., Urquiza-Fuentes, J. and Pareja-Flores, C. (2008). A Gentle Introduction to Mutual Recursion. *Proceedings of the 13th Annual Conference on Innovation and Technology in Computer Science Education*, 2008(June). doi:10.1145/1384271.1384334.\n",
    "\n",
    "<a id='PyGame_Intro'></a> Shinners, P. (2021). *Pygame Intro — Pygame v2.1.1 Documentation*. [online] Pygame.org. Available at: http://www.pygame.org/docs/tut/PygameIntro.html [Accessed 5 May 2022].\n",
    "\n",
    "<a id='Wiki'></a> Wikipedia Contributors (2022). *Tower of Hanoi*. [online] Wikipedia. Available at: https://en.wikipedia.org/wiki/Tower_of_Hanoi#cite_ref-8 [Accessed 9 May 2022].\n"
   ]
  }
 ],
 "metadata": {
  "interpreter": {
   "hash": "f08154012ddadd8e950e6e9e035c7a7b32c136e7647e9b7c77e02eb723a8bedb"
  },
  "kernelspec": {
   "display_name": "Python 3.9.7 ('base')",
   "language": "python",
   "name": "python3"
  },
  "language_info": {
   "codemirror_mode": {
    "name": "ipython",
    "version": 3
   },
   "file_extension": ".py",
   "mimetype": "text/x-python",
   "name": "python",
   "nbconvert_exporter": "python",
   "pygments_lexer": "ipython3",
   "version": "3.9.7"
  }
 },
 "nbformat": 4,
 "nbformat_minor": 2
}
