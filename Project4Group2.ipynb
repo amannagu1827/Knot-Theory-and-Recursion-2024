{
 "cells": [
  {
   "cell_type": "markdown",
   "metadata": {},
   "source": [
    "# MATH20014 Mathematical Programming: Group 2 Project Submission - Knot Theory and Recursion "
   ]
  },
  {
   "cell_type": "markdown",
   "metadata": {},
   "source": [
    "#### Written by **Vishal Farma, Daniel Flett, Xane Miles, Aman Nagu, Ella Womack, Susan Yuan**"
   ]
  },
  {
   "cell_type": "markdown",
   "metadata": {},
   "source": [
    "## Table of Contents\n",
    "\n",
    "- [Introduction to Knot Theory](#Intro)\n",
    "- Chapter 1: [Continued Fractions](#PartA)\n",
    "    - Section 1.1: [Continued Fractions Generators](#S1)\n",
    "    - Section 1.2: [Extensions](#S2)\n",
    "- Chapter 2: [2-Bridge Links](#PartB)\n",
    "    - Section 2.1: [Refresher of the Diagram Algorithm](#S4)\n",
    "        - Part 2.1.1: [Generating 2-Bridge Link Diagrams](#S4.1)\n",
    "        - Part 2.1.2: [Sample Diagrams](#S4.2)\n",
    "    - Section 2.2: [Testing Hypotheses using 2-Bridge Link Diagrams](#S5)\n",
    "        - Part 2.2.1 [Definitions and Objectives](#S5.1)\n",
    "        - Part 2.2.2 [Extensions](#S5.2)\n",
    "    - Section 2.3: [Relations between Links](#S5.3)\n",
    "- Chapter 3: [The $d$-invariant of a Knot](#PartC)\n",
    "    - Section 3.1: [Definitions](#S6.1)\n",
    "    - Section 3.2: [The $d$-invariants of Equivalent Links](#S6.2)\n",
    "    - Section 3.3: [The $d$-invariants of Inequivalent Links](#S6.3)\n",
    "- [Conclusion](#Conc)\n",
    "- [References and Bibilography](#Bib)"
   ]
  },
  {
   "cell_type": "markdown",
   "metadata": {},
   "source": [
    "## Introduction to Knot Theory <a name='Introduction to Knot Theory'></a>\n"
   ]
  },
  {
   "cell_type": "markdown",
   "metadata": {},
   "source": [
    "Knots have played an indelible role in the evolution of human civilisations, serving as fundamental tools for binding objects to each other. It was only in the mid 19th century when knots were studied mathematically. In 1833, Carl Friedrich Gauss pioneered the advancement of Knot Theory by analysing various knots and links using techniques developed in differential geometry (See <a href='#Wiki1'>[3]</a>). Gauss prefigured the idea that knots can be share the same behavioural tendencies as geometric objects. This motivates the utility of certain programming techniques, particularly recursion and recursive relations, that can be employed to further manipulate these objects. Such algorithms can be developed to efficiently study arbitrarily intricate knot structures, identifying patterns and allowing us to test hypotheses on properties of abstract knots. As a result, developments in Knot Theory in the past 50 years is directly correlated the increased usage of programming in mathematics. \n",
    "\n",
    "We begin by building intuition on recursive relations through the exploration of continuted fractions. In Section 1.1, we establish two unique functions that calculate a continued fraction for a given $\\frac{p}{q}$, where $p$, $q$ are coprime. In doing so, we motivate the use of Euclid's Algorithm. Next, in Section 1.2, we develop an efficient function that will recalculate and output a rational number given an arbitrary list. These introductory exercises will provide the reader with a foundation on working with fractions and recursions computationally. As we progress, we shall delve deeper into the subtle relationship between recursion and knots - in particular, how we use recursive relations to define, examine, and test properties of knots. "
   ]
  },
  {
   "cell_type": "markdown",
   "metadata": {},
   "source": [
    "Having established the fundamentals, in the next chapter, we shall explore knot theory more abstractly, testing our hypotheses using the computational tools we have previously developed. We first introduce 2-bridge links - an object with several loops containing two local maxima - and design a function to output a 2-bridge link diagram for a given rational number $\\frac{p}{q}$ with certain conditions. We make use of the fact that, for every rational number $\\frac{p}{q}$, where $p, q$ are coprime, there exists an associated 2-bridge link $S(p,q)$. Having constructed and optimised this algorithm, we proceed to run tests to deduce properties about 2-bridge links. This includes experiments on manipulating the parity of $p$ and $q$, and testing potential periodicity of $S(p,q)$. We then summarise by investigating the relationship between $S(p,q)$ and $S(p,q’)$, where $p$ is fixed and $qq’$ satisfies a given modular relation.  \n",
    "\n",
    "We conclude this project by introducing knot invariants, particularly 2-bridge link invariants. We analyse d-invariants of $S(p,q)$, i.e. a collection of $p$ rational numbers denoted $d(S(p,q),i)$. We do so by establishing a homomorphism between our $S(p,q)$ knot group and an arbitrary 3-dimensional manifold, say $L(p,q)$, and then take the 'd'-invariant of this manifold. First, we will write a function to calculate $d(S(p,q),i)$, and list the outputted rational numbers. Then, we study the effect of the d-invariant in the special case that $S(p,q_1) = S(p,q_2)$ for arbitrary coprime $p, q_1, q_2$. We conclude by examining some more theory on d-invariants using our code. "
   ]
  },
  {
   "cell_type": "markdown",
   "metadata": {},
   "source": [
    "<a id='PartA'></a>\n",
    "## Chapter 1: Continued Fractions\n"
   ]
  },
  {
   "cell_type": "markdown",
   "metadata": {},
   "source": [
    "In this section, we shall construct two separate functions to compute differing continued factions for a rational number $\\frac{p}{q}$, where $p$ and $q$ are coprime. Following this we also construct a function which recalculates a rational $\\frac{p}{q}$ from a given continued fraction list. These functions will show to be very useful for our applications in <a href=\"#chapter-2-2-bridge-links\">Chapter 2</a>, where we focus on creating 2-bridge link diagrams to verify a number of intriguing properties about 2-bridge knots."
   ]
  },
  {
   "cell_type": "markdown",
   "metadata": {},
   "source": [
    "<a id='S1'></a>\n",
    "### Section 1.1: Continued Fraction Generators. \n"
   ]
  },
  {
   "cell_type": "markdown",
   "metadata": {},
   "source": [
    "Our first function, `cont_frac_exp1(p,q)`, makes use of modulo arithmetic to obtain our result. Our function operates as follows:\n",
    "\n",
    "1.\tWe begin by taking the integer division of $\\frac{p}{q}$, which we assign to a value $r$.\n",
    "\n",
    "2.\tFollowing this integer division, we take the remainder of this division which we assign to a value $s$.\n",
    "\n",
    "3.\tWe then repeat this step recursively, appending each $r$ value to a contnued fraction list until we reach a point where $s = 0$.\n",
    "\n",
    "At this point, our list is complete."
   ]
  },
  {
   "cell_type": "markdown",
   "metadata": {},
   "source": [
    "See below for the code definition of our function.\n"
   ]
  },
  {
   "cell_type": "code",
   "execution_count": 1,
   "metadata": {},
   "outputs": [],
   "source": [
    "# First continued fraction function\n",
    "def cont_frac_exp1(p,q):\n",
    "    result=[]\n",
    "    while q != 0:\n",
    "        r=p//q\n",
    "        s=p%q # Making use of the modulo arithmetic\n",
    "        result.append(r)\n",
    "        p, q = q, s\n",
    "    return result"
   ]
  },
  {
   "cell_type": "markdown",
   "metadata": {},
   "source": [
    "Below we use our function to compute the continued fraction sequence for $\\frac{p}{q} = \\frac{9}{7}$; here, we see that our initial $r$ value is $r = 1$ (as integer division of $\\frac{p}{q}$ gives us $1$), and our initial $s$ value is $s = 2$. Note this aligns with the fact that $9\\bmod{7} = 2$.\n",
    "The steps are as follows:\n",
    "\n",
    "1. We assign `r = 9 // 7 = 1`.\n",
    "\n",
    "2. We assign `s = 9 % 7 = 2`. \n",
    "\n",
    "3. We append `r = 1` to our list, so our list result = `[1]`, as in the code. Then reassigning `p, q = q, s`, i.e `9, 7 = 7, 2`, we begin the process again.\n",
    "Now `r = 7 // 2 = 3`, and `s = 7 % 2 = 1`. And our list, result = `[1,3]`. As earlier, we reassign `7, 2 = 2, 1`. Now `r = 2 // 1 = 2` and `s = 2 % 1 = 0`. We have `s = 0`, so as our final step we append `'2'` to our list, and we are done.\n",
    "So our resulting list will be `[1, 3, 2]`, after appending each value of $r$.\n",
    "\n"
   ]
  },
  {
   "cell_type": "code",
   "execution_count": 2,
   "metadata": {},
   "outputs": [
    {
     "data": {
      "text/plain": [
       "[1, 3, 2]"
      ]
     },
     "execution_count": 2,
     "metadata": {},
     "output_type": "execute_result"
    }
   ],
   "source": [
    "# Testing Cell\n",
    "cont_frac_exp1(9,7)"
   ]
  },
  {
   "cell_type": "code",
   "execution_count": 3,
   "metadata": {},
   "outputs": [],
   "source": [
    "#Second continued fraction function\n",
    "import random\n",
    "def cont_frac_exp2(p, q):\n",
    "    result_exp1 = cont_frac_exp1(p, q)\n",
    "    result = []\n",
    "    while True: # We want a continued fraction expansion that will always be different to cont_frac_exp1\n",
    "        random_int = random.randint(1, 5) # We will generate a random number between 1 and 5 as the first number in the cont_frac_exp2, a dif its the same as cont_frac_exp1, then it will generate another interger between 1 and 5        if random_int != result_exp1[0]:  # Check if it's different from the first element of result_exp1\n",
    "        result.append(random_int)\n",
    "        break\n",
    "\n",
    "    if q == 0: # Can't divide by zero\n",
    "        raise ZeroDivisionError('The denominator of the Fraction cannot be zero.')\n",
    "    while result[0] != result_exp1[0]:\n",
    "        if result[0] == p // q:\n",
    "            print('This will give you the same expansion list as cont_frac_exp1, please try a different p and q')\n",
    "        elif result[0] > p // q: # There are 4 cases in which we need to consider when doing the expansion with a random integer\n",
    "            if q > abs(p - q * result[0]):# Case 1 and 2 are when the first term in the results list is bigger than p(modq)  \n",
    "                p, q = -q, abs(result[0] * q - p) # Case 1 is when q is bigger than the absolute value of the numerator subtracted from q*result[0]\n",
    "                r, s = p // q, abs(p % q) # Doing Euclid Algorithm by hand to compute the first terms of p and q\n",
    "                result.append(r)\n",
    "                p, q = q, s\n",
    "                Normal_exp1 = cont_frac_exp1(p, q)\n",
    "                for i in Normal_exp1:\n",
    "                    result.append(i)\n",
    "                return result\n",
    "            else: # Case 2 is when q is smaller than the absolute value of the numerator subtracted from q*result[0]\n",
    "                p, q = abs(p - q * result[0]) - q, abs(p - q * result[0])\n",
    "                result.append(-1)\n",
    "                p, q = q, p\n",
    "                Normal_exp2 = cont_frac_exp1(p, q)\n",
    "                for i in Normal_exp2:\n",
    "                    result.append(i)\n",
    "                return result\n",
    "        else: # Case 3 and 4 are when the first term in the results list is smaller than p(modq)\n",
    "            if q > p - (q * result[0]): # Case 3 is when q is bigger than the absolute value of the numerator subtracted from q*result[0]\n",
    "                p, q = q, p % q\n",
    "                r = p // q\n",
    "                result.append(r)\n",
    "                Normal_exp3 = cont_frac_exp1(p, q)\n",
    "                for i in Normal_exp3:\n",
    "                    result.append(i)\n",
    "                return result\n",
    "            else: # Case 4 is when q is smaller than the absolute value of the numerator subtracted from q*result[0]\n",
    "                p, q = q, p - (q * result[0])\n",
    "                result.append(1)\n",
    "                p, q = -q, q - p\n",
    "                Normal_exp4 = cont_frac_exp1(p, q)\n",
    "                for i in Normal_exp4:\n",
    "                    result.append(i)\n",
    "                return result\n"
   ]
  },
  {
   "cell_type": "markdown",
   "metadata": {},
   "source": [
    "We now create a function which recalculates a rational $p/q$ from a continued fraction list. This code will work for any given continued fractional expansion of a number."
   ]
  },
  {
   "cell_type": "code",
   "execution_count": 4,
   "metadata": {},
   "outputs": [],
   "source": [
    "def recalc_1(cont_frac1): \n",
    "\n",
    "    if cont_frac1 == []:\n",
    "        return 0, 1         # If the continued fraction array is empty return 0\n",
    "\n",
    "    p, q = cont_frac1[-1], 1 \n",
    "\n",
    "    for value in cont_frac1[-2::-1]:     # Iterating in reverse order \n",
    "        p, q = value * p + q, p \n",
    "\n",
    "    if p < 0 and q < 0:      # If both p,q have a common factor of -1 we remove this factor to generate two positive values below\n",
    "        p = -1 * p \n",
    "        q = -1 * q \n",
    "    return p, q\n"
   ]
  },
  {
   "cell_type": "code",
   "execution_count": 5,
   "metadata": {},
   "outputs": [
    {
     "name": "stdout",
     "output_type": "stream",
     "text": [
      "[4, -1, 1, 2, 6, 2]\n"
     ]
    },
    {
     "data": {
      "text/plain": [
       "(11, 13)"
      ]
     },
     "execution_count": 5,
     "metadata": {},
     "output_type": "execute_result"
    }
   ],
   "source": [
    "x = cont_frac_exp2(11, 13) # We test by letting p=11 and q=13 \n",
    "print(x)\n",
    "recalc_1(x)"
   ]
  },
  {
   "cell_type": "markdown",
   "metadata": {},
   "source": [
    "<a id='PartB'></a>\n",
    "## Chapter 2: 2-Bridge Links "
   ]
  },
  {
   "cell_type": "markdown",
   "metadata": {},
   "source": [
    "In this section, we shall focus on producing 2-bridge link diagrams from continued fractions as discussed in <a href=\"#chapter-1-continued-fractions\">Chapter 1</a>, and using these diagrams to verify certain properties of knots and 2-bridge links.\n",
    "Note that every continued fraction $[a_1,a_2,...,a_n]$, generated from a rational $\\frac{p}{q}$, has an associated 2-bridge link $S(p,q)$, from which we can generate a visual representation.\n"
   ]
  },
  {
   "cell_type": "markdown",
   "metadata": {},
   "source": [
    "<a id='S4'></a>\n",
    "### Section 2.1: Refresher of the Diagram Algorithm"
   ]
  },
  {
   "cell_type": "markdown",
   "metadata": {},
   "source": [
    "We start our diagram off with four parallel strands. \n",
    "\n",
    "Consider a continued fraction, given as a list [$a_1,a_2,...,a_n$]. For each $a_i$ in out list, we add a twist between two parallel strands:\n",
    "\n",
    "> If $i$ is even, we twist the middle two strands.\n",
    "\n",
    "> If $i$ is odd, we twist the rightmost two strands.\n",
    "\n",
    "Additionally, we ensure we twist the rightmost strand over the left if $i$ is odd AND $a_i$ is positive; we switch this twist to left over right if either of these change.\n",
    "\n",
    "Finally, we must connect the diagram at the beginning and end.\n"
   ]
  },
  {
   "cell_type": "markdown",
   "metadata": {},
   "source": [
    "<a id='S4.1'></a> \n",
    "#### Part 2.1.1 Generating 2-Bridge Link Diagrams\n"
   ]
  },
  {
   "cell_type": "markdown",
   "metadata": {},
   "source": [
    "We begin by writing code to diaplay the various twists we will need to use when drawing a 2-bridge diagram for any rational number $p/q$, as discussed in Chapter 1.\n",
    "\n",
    "This function, `print_crossing(type)`, will take four strands and display twists corresponding to each possibility from our algorithm, as mentioned above.\n",
    "\n",
    "Note that we will align these crossing types with a function, `diagram(p,q)`, to draw our diagrams (see below in Section ...).\n"
   ]
  },
  {
   "cell_type": "code",
   "execution_count": 6,
   "metadata": {},
   "outputs": [],
   "source": [
    "# Code to display various twists in a 2-bridge link.\n",
    "def print_crossing(type):\n",
    "    output = []\n",
    "    if type == 1:\n",
    "        output.append(r'| |  \\ / ')\n",
    "        output.append(r'| |   /  ')\n",
    "        output.append(r'| |  / \\ ')\n",
    "    elif type == -1:\n",
    "        output.append(r'| |  \\ / ')\n",
    "        output.append(r'| |   \\  ')\n",
    "        output.append(r'| |  / \\ ')\n",
    "    elif type == 2:\n",
    "        output.append(r'| \\ /  | ')\n",
    "        output.append(r'|  /   | ')\n",
    "        output.append(r'| / \\  | ')\n",
    "    elif type == -2:\n",
    "        output.append(r'| \\ /  | ')\n",
    "        output.append(r'|  \\   | ')\n",
    "        output.append(r'| / \\  | ')\n",
    "    elif type == 10:\n",
    "        output.append(r' ______  ')\n",
    "        output.append(r'|  __  | ')\n",
    "        output.append(r'| |  | | ')\n",
    "    elif type == -10:\n",
    "        output.append(r'| |__| | ')\n",
    "        output.append(r'|______| ')\n",
    "    elif type == -20:\n",
    "        output.append(r'| |  | | ')\n",
    "        output.append(r'|_|  |_| ')\n",
    "    return output\n"
   ]
  },
  {
   "cell_type": "markdown",
   "metadata": {},
   "source": [
    "We shall now create a function, `diagram(p,q)`, which generates a 2-bridge link diagram for given rational $\\frac{p}{q}$."
   ]
  },
  {
   "cell_type": "markdown",
   "metadata": {},
   "source": [
    "This function works by inputting said $p,q$, generating an array $[a_1,a_2,...,a_n]$ from our function `cont_frac_exp1(p,q)`, then implementing various twists as indicated by our function `print_crossing(type)`."
   ]
  },
  {
   "cell_type": "code",
   "execution_count": 7,
   "metadata": {},
   "outputs": [],
   "source": [
    "def make_diagram_general(array): #  A function which makes a single diagram given a continued fraction expansion.\n",
    "    num = len(array)\n",
    "\n",
    "    output = []\n",
    "\n",
    "    output += print_crossing(10)\n",
    "\n",
    "    for i in range(num):\n",
    "        if array[i] > 0 and (i+1)%2 != 0:\n",
    "            for j in range(array[i]):\n",
    "                output += print_crossing(1)\n",
    "        elif array[i-1] < 0 and (i+1)%2 != 0:\n",
    "            for j in range(abs(array[i])):\n",
    "                output += print_crossing(-1)\n",
    "        elif array[i-1] > 0 and (i+1)%2 == 0:\n",
    "            for j in range(abs(array[i])):\n",
    "                output += print_crossing(-2)\n",
    "        elif array[i-1] < 0 and (i+1)%2 == 0:\n",
    "            for j in range(abs(array[i])):\n",
    "                output += print_crossing(2)  \n",
    "    \n",
    "    if num%2 == 0:\n",
    "        output += print_crossing(-20)\n",
    "    else:\n",
    "        output += print_crossing(-10)\n",
    "\n",
    "    return output\n",
    "\n",
    "def make_diagram(p, q): # A function which makes a single diagram using the expansion generated from cont_frac_exp1.\n",
    "    return make_diagram_general(cont_frac_exp1(p, q))"
   ]
  },
  {
   "cell_type": "markdown",
   "metadata": {},
   "source": [
    "As we need to display diagrams side by side in many cases, we have written code to allow us to display a row of diagrams, adding labels as necessary."
   ]
  },
  {
   "cell_type": "code",
   "execution_count": 8,
   "metadata": {},
   "outputs": [],
   "source": [
    "def print_diagrams_general(diagrams): # A function that given a 2D array of diagrams, prints each diagram side by side.\n",
    "    final_diagram = []\n",
    "    final_diagram_length = max([len(diagram) for diagram in diagrams])\n",
    "    for i in range(final_diagram_length):\n",
    "        final_diagram.append([])\n",
    "    for diagram in diagrams:\n",
    "        for key in range(final_diagram_length):\n",
    "            if key < len(diagram):\n",
    "                final_diagram[key] += [diagram[key]]\n",
    "            else:\n",
    "                final_diagram[key] += ['         '] # The number of spaces here matches the length of each line in the diagram.\n",
    "    for line in final_diagram:\n",
    "        print(\"   \".join(line))\n",
    "\n",
    "def generate_diagrams(*fractions): # A function which given tuples uses the cont_frac_exp1 make_diagram function to generate diagrams.\n",
    "    return [[\"{}         \".format(fraction[0])[0:9]] +\n",
    "            [\"/        \"] +\n",
    "            [\"{}         \".format(fraction[1])[0:9]] +  make_diagram(fraction[0], fraction[1]) for fraction in fractions]\n",
    "\n",
    "def print_diagrams(*fractions): # A function which given tuples calls generate_diagrams on the tuples and then prints the diagram.\n",
    "    print_diagrams_general(generate_diagrams(*fractions))"
   ]
  },
  {
   "cell_type": "markdown",
   "metadata": {},
   "source": [
    "<a id='S4.1'></a> \n",
    "#### Part 2.1.2 Examples of Diagrams\n"
   ]
  },
  {
   "cell_type": "markdown",
   "metadata": {},
   "source": [
    "We illustrate the above function with an example."
   ]
  },
  {
   "cell_type": "code",
   "execution_count": 9,
   "metadata": {},
   "outputs": [
    {
     "name": "stdout",
     "output_type": "stream",
     "text": [
      "9           11       \n",
      "/           /        \n",
      "7           13       \n",
      " ______      ______  \n",
      "|  __  |    |  __  | \n",
      "| |  | |    | |  | | \n",
      "| |  \\ /    | |  \\ / \n",
      "| |   /     | |   /  \n",
      "| |  / \\    | |  / \\ \n",
      "| \\ /  |    | |  \\ / \n",
      "|  \\   |    | |   /  \n",
      "| / \\  |    | |  / \\ \n",
      "| \\ /  |    | |  \\ / \n",
      "|  \\   |    | |   /  \n",
      "| / \\  |    | |  / \\ \n",
      "| \\ /  |    | |  \\ / \n",
      "|  \\   |    | |   /  \n",
      "| / \\  |    | |  / \\ \n",
      "| |  \\ /    | |  \\ / \n",
      "| |   /     | |   /  \n",
      "| |  / \\    | |  / \\ \n",
      "| |  \\ /    | \\ /  | \n",
      "| |   /     |  \\   | \n",
      "| |  / \\    | / \\  | \n",
      "| |__| |    | \\ /  | \n",
      "|______|    |  \\   | \n",
      "            | / \\  | \n",
      "            | |  | | \n",
      "            |_|  |_| \n"
     ]
    }
   ],
   "source": [
    "# generate_diagrams((9, 7), (11, 13))\n",
    "print_diagrams((9, 7), (11, 13))"
   ]
  },
  {
   "cell_type": "markdown",
   "metadata": {},
   "source": [
    "<a id='S4'></a>\n",
    "### Section 2.2:  Verification of Results using 2-Bridge Link Diagrams "
   ]
  },
  {
   "cell_type": "markdown",
   "metadata": {},
   "source": [
    "We will use our previous function `diagram(p,q)` as dicussed in <a href=\"#section-21-refresher-of-the-diagram-algorithm\">Section 2.1</a> which allows us to generate 2-bridge link diagrams to test certain properties of 2-bridge links. "
   ]
  },
  {
   "cell_type": "markdown",
   "metadata": {},
   "source": [
    "First, we look to briefly introduce Reidemeister moves. These are 3 types of topological deformations that can be applied to knots to determine whether knots are equivalent. This was developed by German mathematician Kurt Reidemeister in 1927. \n",
    "\n",
    "Reidemeister Moves (See <a href='#Torianyk'>[5]</a>, <a href='#Wiki2'>[6]</a>):\n",
    "\n",
    "(i) Twisting/untwisting a string in either direction. \n",
    "\n",
    "(ii) Moving a string over another string. \n",
    "\n",
    "(iii) Moving a strand from one side of a crossing to another. \n",
    "\n",
    "We use a simplified form of the Reidemeister theorem: two knots are equivalent if and only if they result from each other by a finite number of Reidemeister moves. In many cases, we assert that two knots are equivalent. By default this should be assumed to be through this simplified form of the Reidemeister theorem. As there is not enough space to manually draw each Reidemeister move for each example, the reader is cordially requested to verify the assertions that two diagrams are equivalent by performing Reidemeister moves on the diagrams in their heads until they match."
   ]
  },
  {
   "cell_type": "markdown",
   "metadata": {},
   "source": [
    "**Claim (a):** $S(p,q)$ is a knot if $p$ is odd, and has 2 components if $p$ is even. "
   ]
  },
  {
   "cell_type": "markdown",
   "metadata": {},
   "source": [
    "**Solution + Explanation:**  We find that this claim is true, and will demonstrate so by providing an exhaustive list of examples.\n",
    "1. Assume $p$ is not prime. Let $p = 25$. Case (i) - $S(25,4)$. Then, $\\lfloor \\frac{p}{q} \\rfloor$ is even, $p\\bmod{q}$ is odd and we get the unknot. Case (ii) - $S(25,7)$. Then, $\\lfloor \\frac{p}{q} \\rfloor$ is odd, and $p\\bmod{q}$ is even, and we get the unknot. Case (iii) - $S(25,8)$. Then, $\\lfloor \\frac{p}{q} \\rfloor$ is odd, $p\\bmod{q}$ is odd, and we get the unknot."
   ]
  },
  {
   "cell_type": "code",
   "execution_count": 10,
   "metadata": {},
   "outputs": [
    {
     "name": "stdout",
     "output_type": "stream",
     "text": [
      "25          25          25       \n",
      "/           /           /        \n",
      "4           7           8        \n",
      " ______      ______      ______  \n",
      "|  __  |    |  __  |    |  __  | \n",
      "| |  | |    | |  | |    | |  | | \n",
      "| |  \\ /    | |  \\ /    | |  \\ / \n",
      "| |   /     | |   /     | |   /  \n",
      "| |  / \\    | |  / \\    | |  / \\ \n",
      "| |  \\ /    | |  \\ /    | |  \\ / \n",
      "| |   /     | |   /     | |   /  \n",
      "| |  / \\    | |  / \\    | |  / \\ \n",
      "| |  \\ /    | |  \\ /    | |  \\ / \n",
      "| |   /     | |   /     | |   /  \n",
      "| |  / \\    | |  / \\    | |  / \\ \n",
      "| |  \\ /    | \\ /  |    | \\ /  | \n",
      "| |   /     |  \\   |    |  \\   | \n",
      "| |  / \\    | / \\  |    | / \\  | \n",
      "| |  \\ /    | |  \\ /    | \\ /  | \n",
      "| |   /     | |   /     |  \\   | \n",
      "| |  / \\    | |  / \\    | / \\  | \n",
      "| |  \\ /    | \\ /  |    | \\ /  | \n",
      "| |   /     |  \\   |    |  \\   | \n",
      "| |  / \\    | / \\  |    | / \\  | \n",
      "| \\ /  |    | \\ /  |    | \\ /  | \n",
      "|  \\   |    |  \\   |    |  \\   | \n",
      "| / \\  |    | / \\  |    | / \\  | \n",
      "| \\ /  |    | \\ /  |    | \\ /  | \n",
      "|  \\   |    |  \\   |    |  \\   | \n",
      "| / \\  |    | / \\  |    | / \\  | \n",
      "| \\ /  |    | |  | |    | \\ /  | \n",
      "|  \\   |    |_|  |_|    |  \\   | \n",
      "| / \\  |                | / \\  | \n",
      "| \\ /  |                | \\ /  | \n",
      "|  \\   |                |  \\   | \n",
      "| / \\  |                | / \\  | \n",
      "| |  | |                | \\ /  | \n",
      "|_|  |_|                |  \\   | \n",
      "                        | / \\  | \n",
      "                        | |  | | \n",
      "                        |_|  |_| \n"
     ]
    }
   ],
   "source": [
    "print_diagrams((25, 4), (25, 7), (25, 8))"
   ]
  },
  {
   "cell_type": "markdown",
   "metadata": {},
   "source": [
    "2. Assume p is prime. Let $p = 53$. Case (i) - $S(53,7)$. Then, $\\frac{p}{q}$ is odd, $p \\bmod{q}$ is even, and we get the unknot. Case (ii) - $S(53,10)$. Then, $\\frac{p}{q}$ is odd, $p \\bmod{q}$ is odd, and we get the unknot. Case (iii) - $S(53,5)$. Then $\\frac{p}{q}$ is even, $p\\bmod{q}$ is odd, and we get the unknot. This should demonstrate that $S(p,q)$ is a knot if p is odd. Note that we cannot have $\\frac{p}{q}$ be even and $p\\bmod{q}$ be even as it would require an odd number multipled by even number to produce an odd number, which is not possible. "
   ]
  },
  {
   "cell_type": "code",
   "execution_count": 11,
   "metadata": {},
   "outputs": [
    {
     "name": "stdout",
     "output_type": "stream",
     "text": [
      "53          53          53       \n",
      "/           /           /        \n",
      "7           10          5        \n",
      " ______      ______      ______  \n",
      "|  __  |    |  __  |    |  __  | \n",
      "| |  | |    | |  | |    | |  | | \n",
      "| |  \\ /    | |  \\ /    | |  \\ / \n",
      "| |   /     | |   /     | |   /  \n",
      "| |  / \\    | |  / \\    | |  / \\ \n",
      "| |  \\ /    | |  \\ /    | |  \\ / \n",
      "| |   /     | |   /     | |   /  \n",
      "| |  / \\    | |  / \\    | |  / \\ \n",
      "| |  \\ /    | |  \\ /    | |  \\ / \n",
      "| |   /     | |   /     | |   /  \n",
      "| |  / \\    | |  / \\    | |  / \\ \n",
      "| |  \\ /    | |  \\ /    | |  \\ / \n",
      "| |   /     | |   /     | |   /  \n",
      "| |  / \\    | |  / \\    | |  / \\ \n",
      "| |  \\ /    | |  \\ /    | |  \\ / \n",
      "| |   /     | |   /     | |   /  \n",
      "| |  / \\    | |  / \\    | |  / \\ \n",
      "| |  \\ /    | \\ /  |    | |  \\ / \n",
      "| |   /     |  \\   |    | |   /  \n",
      "| |  / \\    | / \\  |    | |  / \\ \n",
      "| |  \\ /    | \\ /  |    | |  \\ / \n",
      "| |   /     |  \\   |    | |   /  \n",
      "| |  / \\    | / \\  |    | |  / \\ \n",
      "| \\ /  |    | \\ /  |    | |  \\ / \n",
      "|  \\   |    |  \\   |    | |   /  \n",
      "| / \\  |    | / \\  |    | |  / \\ \n",
      "| |  \\ /    | |  \\ /    | |  \\ / \n",
      "| |   /     | |   /     | |   /  \n",
      "| |  / \\    | |  / \\    | |  / \\ \n",
      "| \\ /  |    | |  \\ /    | |  \\ / \n",
      "|  \\   |    | |   /     | |   /  \n",
      "| / \\  |    | |  / \\    | |  / \\ \n",
      "| \\ /  |    | |  \\ /    | \\ /  | \n",
      "|  \\   |    | |   /     |  \\   | \n",
      "| / \\  |    | |  / \\    | / \\  | \n",
      "| \\ /  |    | |__| |    | |  \\ / \n",
      "|  \\   |    |______|    | |   /  \n",
      "| / \\  |                | |  / \\ \n",
      "| |  | |                | \\ /  | \n",
      "|_|  |_|                |  \\   | \n",
      "                        | / \\  | \n",
      "                        | \\ /  | \n",
      "                        |  \\   | \n",
      "                        | / \\  | \n",
      "                        | |  | | \n",
      "                        |_|  |_| \n"
     ]
    }
   ],
   "source": [
    "print_diagrams((53, 7), (53, 10), (53, 5))"
   ]
  },
  {
   "cell_type": "markdown",
   "metadata": {},
   "source": [
    "Now we consider how $S(p,q)$ changes when p is even. \n",
    "\n",
    "Let p be an even number, say $p = 28$. Case (i) - $S(28,5)$. Then $\\lfloor \\frac{p}{q} \\rfloor$ is odd and $p \\bmod{q}$ is odd. Case (ii) - $S(28,13)$. Then $\\lfloor \\frac{p}{q} \\rfloor$ is even and $p \\bmod{q}$ is even. It is impossible for $\\frac{p}{q}$ to be odd and $p \\bmod{q}$ to be even, as $q$ must be coprime to $p$, $q$ is even and therefore $p$ must be odd and an even number modulus an odd number is always odd. Similarly if $\\lfloor \\frac{p}{q} \\rfloor$ is even, it is impossible for $p \\bmod q$ to be odd. Let $k$ be the integer result of $\\lfloor \\frac{p}{q} \\rfloor$. $q \\times k$ is even, and since $p$ is even, $p - q \\times k = p \\bmod{q}$ is even. Since $p$ and $q$ are coprime, we don't need to evaluate the case where both $p$ and $q$ are even.\n",
    "\n",
    "All in all, we see that claim (a) is true. "
   ]
  },
  {
   "cell_type": "code",
   "execution_count": 12,
   "metadata": {},
   "outputs": [
    {
     "name": "stdout",
     "output_type": "stream",
     "text": [
      "28          28       \n",
      "/           /        \n",
      "5           15       \n",
      " ______      ______  \n",
      "|  __  |    |  __  | \n",
      "| |  | |    | |  | | \n",
      "| |  \\ /    | |  \\ / \n",
      "| |   /     | |   /  \n",
      "| |  / \\    | |  / \\ \n",
      "| |  \\ /    | \\ /  | \n",
      "| |   /     |  \\   | \n",
      "| |  / \\    | / \\  | \n",
      "| |  \\ /    | |  \\ / \n",
      "| |   /     | |   /  \n",
      "| |  / \\    | |  / \\ \n",
      "| |  \\ /    | |  \\ / \n",
      "| |   /     | |   /  \n",
      "| |  / \\    | |  / \\ \n",
      "| |  \\ /    | |  \\ / \n",
      "| |   /     | |   /  \n",
      "| |  / \\    | |  / \\ \n",
      "| \\ /  |    | |  \\ / \n",
      "|  \\   |    | |   /  \n",
      "| / \\  |    | |  / \\ \n",
      "| |  \\ /    | |  \\ / \n",
      "| |   /     | |   /  \n",
      "| |  / \\    | |  / \\ \n",
      "| \\ /  |    | |  \\ / \n",
      "|  \\   |    | |   /  \n",
      "| / \\  |    | |  / \\ \n",
      "| \\ /  |    | \\ /  | \n",
      "|  \\   |    |  \\   | \n",
      "| / \\  |    | / \\  | \n",
      "| |  | |    | \\ /  | \n",
      "|_|  |_|    |  \\   | \n",
      "            | / \\  | \n",
      "            | |  | | \n",
      "            |_|  |_| \n"
     ]
    }
   ],
   "source": [
    "print_diagrams((28, 5), (28, 15))"
   ]
  },
  {
   "cell_type": "markdown",
   "metadata": {},
   "source": [
    "**Claim (b):** The link $S(p, q)$ does not depend on the choice of continued fraction, even though the diagram does."
   ]
  },
  {
   "cell_type": "markdown",
   "metadata": {},
   "source": [
    "**Solution + Explanation:** This statement is true. We introduce the two lists `[1, 3, 2]` and `[2, -2, 2, -3]`. Consider these two continued fraction expansions."
   ]
  },
  {
   "cell_type": "code",
   "execution_count": 13,
   "metadata": {},
   "outputs": [
    {
     "name": "stdout",
     "output_type": "stream",
     "text": [
      "[1, 3, 2]   [2, -2, 2, -3]\n",
      " ______      ______  \n",
      "|  __  |    |  __  | \n",
      "| |  | |    | |  | | \n",
      "| |  \\ /    | |  \\ / \n",
      "| |   /     | |   /  \n",
      "| |  / \\    | |  / \\ \n",
      "| \\ /  |    | |  \\ / \n",
      "|  \\   |    | |   /  \n",
      "| / \\  |    | |  / \\ \n",
      "| \\ /  |    | \\ /  | \n",
      "|  \\   |    |  \\   | \n",
      "| / \\  |    | / \\  | \n",
      "| \\ /  |    | \\ /  | \n",
      "|  \\   |    |  \\   | \n",
      "| / \\  |    | / \\  | \n",
      "| |  \\ /    | |  \\ / \n",
      "| |   /     | |   /  \n",
      "| |  / \\    | |  / \\ \n",
      "| |  \\ /    | |  \\ / \n",
      "| |   /     | |   /  \n",
      "| |  / \\    | |  / \\ \n",
      "| |__| |    | \\ /  | \n",
      "|______|    |  \\   | \n",
      "            | / \\  | \n",
      "            | \\ /  | \n",
      "            |  \\   | \n",
      "            | / \\  | \n",
      "            | \\ /  | \n",
      "            |  \\   | \n",
      "            | / \\  | \n",
      "            | |  | | \n",
      "            |_|  |_| \n"
     ]
    }
   ],
   "source": [
    "print_diagrams_general([[\"[1, 3, 2]\"] + make_diagram_general([1, 3, 2]),\n",
    "                       [\"[2, -2, 2, -3]\"] + make_diagram_general([2, -2, 2, -3])])"
   ]
  },
  {
   "cell_type": "markdown",
   "metadata": {},
   "source": [
    "Inputting these two lists into our diagram-generating functions, we find that two unique 2-bridge link diagrams are outputted. However, using Euclid's division algorithm, we find that these continued fractions simplify to $\\frac{9}{7}$."
   ]
  },
  {
   "cell_type": "code",
   "execution_count": 14,
   "metadata": {},
   "outputs": [
    {
     "name": "stdout",
     "output_type": "stream",
     "text": [
      "(9, 7), (9, 7)\n"
     ]
    }
   ],
   "source": [
    "print(\"{}, {}\".format(recalc_1([1, 3, 2]), recalc_1([2, -2, 2, -3])))"
   ]
  },
  {
   "cell_type": "markdown",
   "metadata": {},
   "source": [
    "We can double-check this by applying a sequence of Reidemeister moves to the two diagrams, which will eventually give us the same knot. More abstractly, this claim is suggesting that the topological properties of the $S(p,q)$ link remains consistent. Hence, a rigorous proof would entail showing the resulting knots are topologically equivalent regardless of how $\\frac{p}{q}$ is represented. "
   ]
  },
  {
   "cell_type": "markdown",
   "metadata": {},
   "source": [
    "**Claim (c):** If $n \\in \\mathbb{Z}$, then $S(p,q) = S(p,q+np)$."
   ]
  },
  {
   "cell_type": "markdown",
   "metadata": {},
   "source": [
    "**Solution + Explanation:** We find this to be false in general. Claim (c) holds for positive integers, such as $S(17,12) = S(17, 29)$ when $n = 1$, but does not hold for n negative, such as $S(17, 12) \\neq S(17, -5)$, where n = 1. "
   ]
  },
  {
   "cell_type": "code",
   "execution_count": 15,
   "metadata": {},
   "outputs": [
    {
     "name": "stdout",
     "output_type": "stream",
     "text": [
      "17          17       \n",
      "/           /        \n",
      "12          29       \n",
      " ______      ______  \n",
      "|  __  |    |  __  | \n",
      "| |  | |    | |  | | \n",
      "| |  \\ /    | |  \\ / \n",
      "| |   /     | |   /  \n",
      "| |  / \\    | |  / \\ \n",
      "| \\ /  |    | \\ /  | \n",
      "|  \\   |    |  \\   | \n",
      "| / \\  |    | / \\  | \n",
      "| \\ /  |    | \\ /  | \n",
      "|  \\   |    |  \\   | \n",
      "| / \\  |    | / \\  | \n",
      "| |  \\ /    | |  \\ / \n",
      "| |   /     | |   /  \n",
      "| |  / \\    | |  / \\ \n",
      "| |  \\ /    | |  \\ / \n",
      "| |   /     | |   /  \n",
      "| |  / \\    | |  / \\ \n",
      "| \\ /  |    | \\ /  | \n",
      "|  \\   |    |  \\   | \n",
      "| / \\  |    | / \\  | \n",
      "| \\ /  |    | \\ /  | \n",
      "|  \\   |    |  \\   | \n",
      "| / \\  |    | / \\  | \n",
      "| |  | |    | |  | | \n",
      "|_|  |_|    |_|  |_| \n",
      "17          17       \n",
      "/           /        \n",
      "12          -5       \n",
      " ______      ______  \n",
      "|  __  |    |  __  | \n",
      "| |  | |    | |  | | \n",
      "| |  \\ /    | \\ /  | \n",
      "| |   /     |  /   | \n",
      "| |  / \\    | / \\  | \n",
      "| \\ /  |    | |  \\ / \n",
      "|  \\   |    | |   /  \n",
      "| / \\  |    | |  / \\ \n",
      "| \\ /  |    | \\ /  | \n",
      "|  \\   |    |  \\   | \n",
      "| / \\  |    | / \\  | \n",
      "| |  \\ /    | \\ /  | \n",
      "| |   /     |  \\   | \n",
      "| |  / \\    | / \\  | \n",
      "| |  \\ /    | |  | | \n",
      "| |   /     |_|  |_| \n",
      "| |  / \\             \n",
      "| \\ /  |             \n",
      "|  \\   |             \n",
      "| / \\  |             \n",
      "| \\ /  |             \n",
      "|  \\   |             \n",
      "| / \\  |             \n",
      "| |  | |             \n",
      "|_|  |_|             \n",
      "17          17       \n",
      "/           /        \n",
      "-5          -22      \n",
      " ______      ______  \n",
      "|  __  |    |  __  | \n",
      "| |  | |    | |  | | \n",
      "| \\ /  |    | \\ /  | \n",
      "|  /   |    |  /   | \n",
      "| / \\  |    | / \\  | \n",
      "| |  \\ /    | \\ /  | \n",
      "| |   /     |  /   | \n",
      "| |  / \\    | / \\  | \n",
      "| \\ /  |    | \\ /  | \n",
      "|  \\   |    |  /   | \n",
      "| / \\  |    | / \\  | \n",
      "| \\ /  |    | \\ /  | \n",
      "|  \\   |    |  /   | \n",
      "| / \\  |    | / \\  | \n",
      "| |  | |    | |  \\ / \n",
      "|_|  |_|    | |   /  \n",
      "            | |  / \\ \n",
      "            | |  \\ / \n",
      "            | |   /  \n",
      "            | |  / \\ \n",
      "            | \\ /  | \n",
      "            |  \\   | \n",
      "            | / \\  | \n",
      "            | \\ /  | \n",
      "            |  \\   | \n",
      "            | / \\  | \n",
      "            | |  | | \n",
      "            |_|  |_| \n"
     ]
    }
   ],
   "source": [
    "print_diagrams((17, 12), (17, 29))\n",
    "print_diagrams((17, 12), (17, -5))\n",
    "print_diagrams((17, -5), (17, -22))"
   ]
  },
  {
   "cell_type": "markdown",
   "metadata": {},
   "source": [
    "**Claim (d):** Changing the sign of all the crossings in $S(p, q)$ gives you $S(p, -q) = S(p, p-q)$. "
   ]
  },
  {
   "cell_type": "markdown",
   "metadata": {},
   "source": [
    "**Solution + Explanation:** We find this claim to be incorrect in general using counterexamples."
   ]
  },
  {
   "cell_type": "code",
   "execution_count": 16,
   "metadata": {},
   "outputs": [
    {
     "name": "stdout",
     "output_type": "stream",
     "text": [
      "8           8           8        \n",
      "/           /           /        \n",
      "5           -5          3        \n",
      " ______      ______      ______  \n",
      "|  __  |    |  __  |    |  __  | \n",
      "| |  | |    | |  | |    | |  | | \n",
      "| |  \\ /    | \\ /  |    | |  \\ / \n",
      "| |   /     |  /   |    | |   /  \n",
      "| |  / \\    | / \\  |    | |  / \\ \n",
      "| \\ /  |    | \\ /  |    | |  \\ / \n",
      "|  \\   |    |  /   |    | |   /  \n",
      "| / \\  |    | / \\  |    | |  / \\ \n",
      "| |  \\ /    | |  \\ /    | \\ /  | \n",
      "| |   /     | |   /     |  \\   | \n",
      "| |  / \\    | |  / \\    | / \\  | \n",
      "| \\ /  |    | |  \\ /    | |  \\ / \n",
      "|  \\   |    | |   /     | |   /  \n",
      "| / \\  |    | |  / \\    | |  / \\ \n",
      "| \\ /  |    | |__| |    | |  \\ / \n",
      "|  \\   |    |______|    | |   /  \n",
      "| / \\  |                | |  / \\ \n",
      "| |  | |                | |__| | \n",
      "|_|  |_|                |______| \n",
      "7           7           7        \n",
      "/           /           /        \n",
      "4           -4          3        \n",
      " ______      ______      ______  \n",
      "|  __  |    |  __  |    |  __  | \n",
      "| |  | |    | |  | |    | |  | | \n",
      "| |  \\ /    | \\ /  |    | |  \\ / \n",
      "| |   /     |  /   |    | |   /  \n",
      "| |  / \\    | / \\  |    | |  / \\ \n",
      "| \\ /  |    | \\ /  |    | |  \\ / \n",
      "|  \\   |    |  /   |    | |   /  \n",
      "| / \\  |    | / \\  |    | |  / \\ \n",
      "| |  \\ /    | \\ /  |    | \\ /  | \n",
      "| |   /     |  /   |    |  \\   | \n",
      "| |  / \\    | / \\  |    | / \\  | \n",
      "| |  \\ /    | \\ /  |    | \\ /  | \n",
      "| |   /     |  /   |    |  \\   | \n",
      "| |  / \\    | / \\  |    | / \\  | \n",
      "| |  \\ /    | |  | |    | \\ /  | \n",
      "| |   /     |_|  |_|    |  \\   | \n",
      "| |  / \\                | / \\  | \n",
      "| |__| |                | |  | | \n",
      "|______|                |_|  |_| \n",
      "13          13          13       \n",
      "/           /           /        \n",
      "6           -6          7        \n",
      " ______      ______      ______  \n",
      "|  __  |    |  __  |    |  __  | \n",
      "| |  | |    | |  | |    | |  | | \n",
      "| |  \\ /    | \\ /  |    | |  \\ / \n",
      "| |   /     |  /   |    | |   /  \n",
      "| |  / \\    | / \\  |    | |  / \\ \n",
      "| |  \\ /    | |  \\ /    | \\ /  | \n",
      "| |   /     | |   /     |  \\   | \n",
      "| |  / \\    | |  / \\    | / \\  | \n",
      "| \\ /  |    | |  \\ /    | |  \\ / \n",
      "|  \\   |    | |   /     | |   /  \n",
      "| / \\  |    | |  / \\    | |  / \\ \n",
      "| \\ /  |    | |  \\ /    | |  \\ / \n",
      "|  \\   |    | |   /     | |   /  \n",
      "| / \\  |    | |  / \\    | |  / \\ \n",
      "| \\ /  |    | |  \\ /    | |  \\ / \n",
      "|  \\   |    | |   /     | |   /  \n",
      "| / \\  |    | |  / \\    | |  / \\ \n",
      "| \\ /  |    | |  \\ /    | |  \\ / \n",
      "|  \\   |    | |   /     | |   /  \n",
      "| / \\  |    | |  / \\    | |  / \\ \n",
      "| \\ /  |    | |__| |    | |  \\ / \n",
      "|  \\   |    |______|    | |   /  \n",
      "| / \\  |                | |  / \\ \n",
      "| \\ /  |                | |  \\ / \n",
      "|  \\   |                | |   /  \n",
      "| / \\  |                | |  / \\ \n",
      "| |  | |                | |__| | \n",
      "|_|  |_|                |______| \n"
     ]
    }
   ],
   "source": [
    "print_diagrams((8, 5), (8, -5), (8, 3))\n",
    "print_diagrams((7, 4), (7, -4), (7, 3))\n",
    "print_diagrams((13, 6), (13, -6), (13, 7))"
   ]
  },
  {
   "cell_type": "markdown",
   "metadata": {},
   "source": [
    "We analyse this claim in two parts. First, we will show that $S(p,q) = S(p,-q)$. Then, we will show that $S(p,q) \\neq S(p-q)$, implying that $S(p,-q) \\neq S(p,p-q)$. \n",
    "\n",
    "Changing the signs of crossings of $S(p,q)$ will always give us $S(p,-q)$. We will show that when $S(p,q)$ has each element in its continued fraction expansion sign changed, it produces an expansion equivalent to $S(p,-q)$. We use induction. \n",
    "\n",
    "**[BASE CASE]** The smallest continued fraction expansion has length 2. Consider `cont_frac_exp1(p,q) = [a,b]`. Now, we flip the signs of the elements to get `[-a,-b]`. When expanded, this gives us $-a + \\frac{1}{-b} = \\frac{ab+1}{-b} = \\frac{p}{-q}$, which gives us the diagram $S(p,-q)$ for the base case.\n",
    "\n",
    "**[INDUCTIVE HYPOTHESIS]** Now consider a continued fraction expansion `cont_frac_exp1(p,q)` of length n, i.e. $[a_1, a_2, ..., a_n]$, and assume that when flipping the sign of each element in the expansion, our new expansion is of the form $frac{p}{-q}$. \n",
    "\n",
    "**[INDUCTIVE STEP]** We need to show this property holds for `cont_frac_exp1(p,q)` of length `n+1`. Let $\\frac{p}{-q}$ be the expansion of $[-a_1, -a_2, ..., -a_n]$ with list length `n`. We add another term, say $-a_{n+1}$ to make the list length n+1 and get $[-a_1, -a_2, ..., -a_n, -a_{n+1}]$, where $[a_1, a_2, ..., a_n, a_{n+1}]$ is `cont_frac_exp1(p,q)`. Let $a_{n+1} = z$, and $so -a_{n+1} = -z$. By our inductive hypothesis, we know that $[-a_1, -a_2, ..., -a_n]$ is of the form $\\frac{p}{-q}$. Adding $-a_{n+1}$, we get\n",
    "$[-a_1, -a_2, ..., -a_n, -a_{n+1}] = \\frac{-z + 1}{\\frac{p}{-q}} = -z + \\frac{-q}{p}  = \\frac{-zp - q}{p} = \\frac{-(zp + q)}{p} = \\frac{(zp + q)}{-p}$, which is of the form $\\frac{P}{-Q}$. \n",
    "\n",
    "Hence, by the principle of mathematical induction, we have proven that changing the signs of the crossings of $S(p,q)$ gives us $S(p,-q)$, and this holds for all $n \\in \\mathbb{N_{>0}}$.\n",
    "\n",
    "Though this does not imply that $S(p,-q) = S(p, p-q)$. We will use claim (c) to prove this. We have shown previously that $S(p,q) \\neq S(p, q + np)$ in general unless $n = 0$. Now, let $-q = r$. Then $S(p,-q) = S(p,r)$. Note that $S(p, p + r)$ is of the form $S(p, np + r)$ when $n = 1$. As per (c), $S(p,r) \\neq S(p, np + r)$ for $n \\neq = 0$, and here, $n = 1$. So, $S(p,r) \\neq S(p, r + p)$. Substituting back, $S(p, -q) \\neq S(p,p-q)$. Hence, claim (d) is incorrect."
   ]
  },
  {
   "cell_type": "markdown",
   "metadata": {},
   "source": [
    "### Section 2.3"
   ]
  },
  {
   "cell_type": "markdown",
   "metadata": {},
   "source": [
    "Investigating the relationship between the links $S(p, q)$ and $S(p,q')$ when $qq' \\equiv 1\\bmod{p}$, we find that the diagrams are vertically flipped and the continued fraction expansion of both $(p,q)$ and $(p,q')$ are (i) flipped and (ii) are always of length 3. To see (i) and (ii), let us consider a numerical example. We let $p = 23$, $q = 4$, and $q' = 6$. Then, upon evaluation we get `[5, 1, 3]` and `[3, 1, 5]` respectively. We can justify this pattern with a range of examples. Thus, let us generalise this process, considering (i) `cont_frac_exp1(p,q) =[a,b,c]` and (ii) `cont_frac_exp1(p,q') = [c, b, a]`. For (i), we get that $\\frac{p}{q} = a + \\frac{1}{b + \\frac{1}{c}} = \\frac{acb + a + c}{cb +1 }$, where $p = acb + a + c$ and $q = cb + 1$. For (ii), we get that $\\frac{p}{q'} = c + \\frac{1}{b + \\frac{1}{a}} = \\frac{acb + a + c}{ab + 1}$, where $p = acb + a + c$, and $q' = ab + 1$. Performing some basic algebraic manipulation, we find that $qq' = (acb^{2} + ab + cb + 1) \\equiv b(acb+a+c) + 1 \\bmod{acb + a + c}$. Hence, $qq' \\equiv bp + 1\\bmod{p}$, i.e. $qq' \\equiv 1\\bmod{p}$. So, we have shown algebraically why $qq' \\equiv 1\\bmod{p}$. \n",
    "\n",
    "We now move on to why `cont_frac_exp1(p,q)` always outputs a list of length 3, given $qq' \\equiv 1\\bmod{p}$. We have already provided an example on how `cont_frac_exp1(p,q)` does output a list of length 3, but we will show that any list it outputs will be of length 3, with the condition that $qq' \\equiv 1\\bmod{p}$. \n",
    "\n",
    "Consider a continued fraction of length 1. This implies $q \\vert p$, i.e. $q = mp$ for some integer $m$, and so $qq' \\bmod{p} \\equiv 0$. Now, consider a continued fraction of length 2, say `cont_frac_exp1[a,b]` and `cont_frac_exp1[b,a]`. Then, $\\frac{p}{q} = a+\\frac{1}{b} = \\frac{ab+1}{b}$, and $\\frac{p}{q'} = b + \\frac{1}{a} = \\frac{ab+1}{a}$. So, $qq' = ab$ and $p = ab +1 $, implying that $qq' \\bmod{p} = -1 \\neq 1$. Now, let us jump to a list of length 4. Consider $(p,q) = $`[a, b, c, d]` and $(p,q') = $`[d, c, b, a]`. Then, $\\frac{p}{q} = a + \\frac{1}{b + \\frac{1}{c + \\frac{1}{d}}} = a + (cd + \\frac{1}{bcd+b+d}) = \\frac{abcd + ba + bd + cd + 1}{bcd + b + d} = \\frac{a(bcd + b + d) + cd +1}{bcd + b + d}$. Here, $p = a(bcd + b +d ) + cd + 1$ and $q = bcd + b + d$, and thus $q \\bmod{p} \\equiv cd + 1$. Using the same logic for $\\frac{p}{q'}$ to find $q'$, we can swap $a$ and $d, b$ and $c$, to get $q' = cba + b + a$. Thus, $qq' = (bcd + b + d)(cba + c + a)$, which naturally does not factor to 1. Now, for a length 5 or more, since the factorisation of `[a, b, c, d, e, ...]` depends on the factorisation of length 4, we arrive at the conclusion that it will not satisfy $qq' \\equiv 1\\bmod{p}$. \n",
    "\n",
    "Hence, we have shown that $qq' \\equiv 1\\bmod{p}$) is only possible when `len(cont_frac_exp1(p,q)) = len(cont_frac_exp1(p,q')) = 3`. Further, we have shown that the continued fraction expansions are always flipped, and so the diagrams $S(p,q)$ and $S(p,q')$ preserve the same structure as they are knots and crossings. Though, note that the diagrams are vertically flipped. \n"
   ]
  },
  {
   "cell_type": "markdown",
   "metadata": {},
   "source": [
    "<a id='PartC'></a>\n",
    "## Chapter 3: The $d$-Invariant\n"
   ]
  },
  {
   "cell_type": "markdown",
   "metadata": {},
   "source": [
    "We now move on to the final topic of this project. We introduce the d-invariant of $S(p,q)$. Recall that this is an arbitrary collection of $p$ rational numbers assigned to a 2-bridge link $S(p,q)$, denoted by $d(S(p,q), i)$, where $p,q$ are coprime. As mentioned previously, we use the 2-bridge link $S(p,q)$ to determine a 3-dimensional manifold $L(p,q)$. While beyond the scope of this project, we do so by constructing a homomorphism between our link and $L(p,q)$. The existence of this homomorphism is proven by Kronheimer and Mrowka in 2010 (See <a href='#KronMrow2018'>[1]</a>). Then '$d$' is the invariant of this manifold.\n",
    "\n",
    "A natural question may arise. What exactly do we mean by the 'invariant' of a manifold? This refers to a property associated with the manifold $L(p,q)$ which remains unchanged under certain transformations. We find that the $d$-invariant displays certain characteristics and behaviours. For all $p>0$, $d(S(p,q), i)$ satisfies some recursive relations. First, for $p=1$, and any $q,i$, we define $d(S(1,q),i) = 0$. Next, letting $a \\% p$ denote the integer between 0 and $p$ that is congruent to $a \\bmod p$, we find that $d(S(p,q), i)$ = $d(S(p,q \\% p),i \\% p)$. Last, for $p>q>0$ and $0≤i<p+q$, we have $d(S(p,q),i)$ = $\\frac{(2i+1-p-q)^2-pq}{4pq} - d(S(p,q),i)$. (See <a href='#Osvath'>[3]</a>)\n",
    "\n",
    "Given these relations, we now look to write a function to calculate $d(S(p,q), i)$. Subsequently, we will develop code that will allow us to compute the list of $d$-invariants for any 2-bridge link $S(p,q)$. We move on to analysing two topologically equivalent links $S(p,q_1)$ and $S(p,q_2)$. We explore how this topological equivalence impacts the $d$-invariant. This leads us to our final question - when $S(p,q_1)$ and $S(p,q_2)$ are different links, does that guarantee a different $d$-invariant? We thoroughly investigate these claims by running tests using our functions and providing ample examples to support our arguments.\n",
    "\n"
   ]
  },
  {
   "cell_type": "markdown",
   "metadata": {},
   "source": [
    "<a id='S6.1'></a>\n",
    "### Section 3.1:  Definitions "
   ]
  },
  {
   "cell_type": "markdown",
   "metadata": {},
   "source": [
    "Recall the recursive rules used to calculate the $d$-invariant of a 2-bridge link mentioned above. Given a 2-bridge link $S(p,q)$, we first define `calculate_d_invariant(p,q,i)` which  recursively calculates the $i$-th entry of the $d$-invariant, and then we define `compute_d_invariants(p,q)` which compiles all of these such entries.\n"
   ]
  },
  {
   "cell_type": "code",
   "execution_count": 17,
   "metadata": {},
   "outputs": [],
   "source": [
    "dinv_entry_memo = {} # Dictionary to memoize computed d-invariant entries\n",
    "\n",
    "def calculate_d_invariant(p, q, i): # Function to calculate the d-invariant\n",
    "    if (p, q, i) not in dinv_entry_memo: # Check if the d-invariant for this triplet is already memoized\n",
    "        if p == 1: # Base case\n",
    "            dinv_entry_memo[(p, q, i)] = 0\n",
    "        p_mod_q = p % q\n",
    "        i_mod_p = i % p\n",
    "        if p_mod_q == 0:\n",
    "            dinv_entry_memo[(p, q, i)] = 0\n",
    "        else:\n",
    "            dinv_entry_memo[(p, q, i)] = ((2 * i + 1 - p - q) ** 2 - p * q) / (4 * p * q) - calculate_d_invariant(q, p_mod_q, i_mod_p) # Calculate d-invariant recursively\n",
    "    return dinv_entry_memo[(p, q, i)]\n"
   ]
  },
  {
   "cell_type": "code",
   "execution_count": 18,
   "metadata": {},
   "outputs": [],
   "source": [
    "def compute_d_invariants(p, q): #Function to compute d-invariant list for a given (p, q) pair\n",
    "   d_invariants = []\n",
    "   for i in range(p+q):\n",
    "       d_invariants.append(calculate_d_invariant(p, q, i)) # Calculate the d-invariant for each i and append to the list\n",
    "   return d_invariants\n"
   ]
  },
  {
   "cell_type": "markdown",
   "metadata": {},
   "source": [
    "As a quick example, let's revisit our old example of $p=9$ and $q=7$, hence we calculate the $d$-invariant of $S(9,7)$."
   ]
  },
  {
   "cell_type": "code",
   "execution_count": 19,
   "metadata": {},
   "outputs": [
    {
     "name": "stdout",
     "output_type": "stream",
     "text": [
      "[-0.25, 0.02777777777777779, 0.19444444444444442, 0.25, 0.19444444444444445, 0.02777777777777779, -0.25, -0.6388888888888888, -1.1388888888888888, -1.1071428571428572, -0.5436507936507936, -0.09126984126984126, 0.25, 0.4801587301587301, 0.5992063492063492, 0.6071428571428572]\n"
     ]
    }
   ],
   "source": [
    "print(compute_d_invariants(9,7))\n"
   ]
  },
  {
   "cell_type": "markdown",
   "metadata": {},
   "source": [
    "<a id='S6.2'></a>\n",
    "### Section 3.2: The $d$-invariants of Equivalent Links \n"
   ]
  },
  {
   "cell_type": "markdown",
   "metadata": {},
   "source": [
    "As mentioned earlier, one question regarding the $d$-invariant we may ask ourselves is: Given two equivalent 2-bridge links, i.e $S(p,q_1)=S(p,q_2)$ for some $p,q_1,q_2\\in\\mathbb{Z}$, how does this equivalence correspond to the $d$-invariant? Luckily for us, we have shown in Section 2.3 that given $p,q$ are co-prime and $n\\in\\mathbb{N}$, then we have $S(p,q)=S(p,q+np)$. Hence we will attack this question directly using this example.\n",
    "\n",
    "First let us define a function which checks if the $d$-invariants of two fractions `f1` and `f2` are the same.\n"
   ]
  },
  {
   "cell_type": "code",
   "execution_count": 20,
   "metadata": {},
   "outputs": [],
   "source": [
    "def d_invariant_checker(f1,f2,tolerance):              # Takes inputs f1 and f2 our two fractions (in list or tuple format) which we will compute the d-invariants of, and a tolerance of difference\n",
    "    L1 = compute_d_invariants(f1[0],f1[1])\n",
    "    L2 = compute_d_invariants(f2[0],f2[1])\n",
    "    length = len(L1)\n",
    "    truth = []\n",
    "    for i in range(length):\n",
    "        if abs(L1[i] - L2[i]) < tolerance:             # If difference between values in L1 and L2 is sufficiently small\n",
    "            truth.append(True)                         # Add True to the list truth\n",
    "        if all(truth):\n",
    "            print(f'The d-invariants of {f1} and {f2} are the same.')\n",
    "            return True                                # If all the elements in truth are True then the lists are essentially the same\n",
    "        else:\n",
    "            print(f'The d-invariants of {f1} and {f2} are not the same.')\n",
    "            return False\n"
   ]
  },
  {
   "cell_type": "markdown",
   "metadata": {},
   "source": [
    "We want to test the claim on random $p$ and $q$, so now we define a function `coprime_pair_generator(n)` which returns two co-prime integers less than or equal to `n`. In order to do this, we first define `divisors(x)` which returns the set of proper divisors of a positive integer `x` . \n"
   ]
  },
  {
   "cell_type": "code",
   "execution_count": 21,
   "metadata": {},
   "outputs": [],
   "source": [
    "def divisors(x):\n",
    "    divs = set()                    # Use a set so that we can use python's intersection() function later\n",
    "    for i in range(1,x+1):\n",
    "        if x % i == 0:\n",
    "            divs.add(i)\n",
    "    return divs\n",
    "\n",
    "from random import randrange\n",
    "def coprime_pair_generator(n):\n",
    "    num1 = randrange(n+1)\n",
    "    num1_divs = divisors(num1)       # Choose the first number randomly and generate its set of divisors\n",
    "    done = False\n",
    "    while done == False:\n",
    "        num2 = randrange(n+1)\n",
    "        if divisors(num2).intersection(num1_divs) == {1}:   # If num1 and num2 only have 1 in common in their sets of divisors\n",
    "            done = True                                     # This num2 works so break out of the while loop\n",
    "    return (num1,num2)\n"
   ]
  },
  {
   "cell_type": "markdown",
   "metadata": {},
   "source": [
    "First let us check a simple example we've seen earlier, $S(9,7)$ and pick $n=2$ so check this against $S(9,25)$. Note that if $p,q$ are co-prime and $n\\in\\mathbb{Z}$ then $p,q+np$ are co-prime so we don't need to worry about the new inputs.\n"
   ]
  },
  {
   "cell_type": "code",
   "execution_count": 22,
   "metadata": {},
   "outputs": [
    {
     "name": "stdout",
     "output_type": "stream",
     "text": [
      "The d-invariants of (9, 7) and (9, 25) are the same.\n"
     ]
    },
    {
     "data": {
      "text/plain": [
       "True"
      ]
     },
     "execution_count": 22,
     "metadata": {},
     "output_type": "execute_result"
    }
   ],
   "source": [
    "d1 = (9,7)\n",
    "d2 = (9,25)\n",
    "tol = 1e-5\n",
    "d_invariant_checker(d1,d2,tol)\n"
   ]
  },
  {
   "cell_type": "markdown",
   "metadata": {},
   "source": [
    "So our initial test shows that the equivalent links produce equivalent $d$-invariants. Now let us check with random inputs for $n$ and $p,q$ using `coprime_pair_generator`. Run the cell below multiple times.\n"
   ]
  },
  {
   "cell_type": "code",
   "execution_count": 23,
   "metadata": {},
   "outputs": [
    {
     "name": "stdout",
     "output_type": "stream",
     "text": [
      "The d-invariants of (555, 322) and (555, 24061) are the same.\n"
     ]
    },
    {
     "data": {
      "text/plain": [
       "True"
      ]
     },
     "execution_count": 23,
     "metadata": {},
     "output_type": "execute_result"
    }
   ],
   "source": [
    "random_pair = coprime_pair_generator(1000)\n",
    "n = randrange(100)\n",
    "modified_rp = (random_pair[0],random_pair[0] + n*random_pair[1])\n",
    "\n",
    "d_invariant_checker(random_pair, modified_rp, tol)\n"
   ]
  },
  {
   "cell_type": "markdown",
   "metadata": {},
   "source": [
    "Hence we see from our tests that in this example, equivalent 2-bridge links imply equivalent $d$-invariants. Next, we will look at whether the contrapositive of this is true: do inequivalent 2-bridge links correspond with differing $d$-invariants?\n"
   ]
  },
  {
   "cell_type": "markdown",
   "metadata": {},
   "source": [
    "<a id='S6.3'></a>\n",
    "### Section 3.3: The $d$-invariants of Inequivalent Links \n"
   ]
  },
  {
   "cell_type": "code",
   "execution_count": 24,
   "metadata": {},
   "outputs": [],
   "source": [
    "from math import gcd\n",
    "from random import sample\n",
    "\n",
    "def dinvprint(array): # A function for printing each term in a d-invariant to 3 d.p.\n",
    "    output = \"[\"\n",
    "    for item in array:\n",
    "        output += \"{0:.3f}, \".format(item)\n",
    "    return output[0:-2] + \"]\"\n",
    "\n",
    "dinv_memo = {}\n",
    "calls = 0\n",
    "\n",
    "def compute_dinv_memo(p, q):\n",
    "    global calls\n",
    "    if (p, q) not in dinv_memo:\n",
    "        dinv_memo[(p, q)] = compute_d_invariants(p, q)\n",
    "        calls += 1\n",
    "    return dinv_memo[(p, q)]\n",
    "\n",
    "# We define a function to distinguish between 2-bridge links for a given range of p values, say p<1000\n",
    "def distinguish_2_bridge_links(p_max):\n",
    "    # Now, iterate over all possible values of p\n",
    "    global calls\n",
    "    log = []\n",
    "    tests = 0\n",
    "    successes = 0\n",
    "    for p in range(2, p_max):\n",
    "        # Similarly, iterate over all possible values of q_1 and q_2 that satisfy the co-primality condition\n",
    "        for q_1 in range(2, p):\n",
    "            if gcd(p, q_1) == 1:\n",
    "                d_1 = compute_dinv_memo(p, q_1)\n",
    "                for q_2 in range(2, q_1):\n",
    "                    if gcd(p, q_2) == 1:\n",
    "                        tests += 1\n",
    "                        # Next, compute the d-invariants for both pairs\n",
    "                        d_2 = compute_dinv_memo(p, q_2)\n",
    "                        # If d-invariants are different, print a message and return\n",
    "                        if d_1 != d_2:\n",
    "                            successes += 1\n",
    "                            log.append(\"S({},{}) and S({},{}) are different knots, and therefore have differing d-invariants.\\n\".format(p, q_1, p, q_2) +\n",
    "                                \"S({},{}) has d-invariant {}. .\\nS({},{}) has d-invariant {}.\".format(p, q_1, dinvprint(d_1), p, q_2, dinvprint(d_2)))\n",
    "    print(calls)\n",
    "    print(\"We tested {} pairs of unequivalent knots and found that {} of them had different d-invariants, a {:.1f}% success rate\".format(tests, successes, (tests / successes) * 100))\n",
    "    for entry in sample(log, min(5, len(log))):\n",
    "        print(entry)"
   ]
  },
  {
   "cell_type": "markdown",
   "metadata": {},
   "source": [
    "We can use this function to test a range of 2-bridge links. Given the examples below, we find that inequivalent 2-bridge links have unique d-invariants."
   ]
  },
  {
   "cell_type": "code",
   "execution_count": 25,
   "metadata": {},
   "outputs": [
    {
     "name": "stdout",
     "output_type": "stream",
     "text": [
      "2905\n",
      "We tested 64988 pairs of unequivalent knots and found that 64988 of them had different d-invariants, a 100.0% success rate\n",
      "S(73,28) and S(73,7) are different knots, and therefore have differing d-invariants.\n",
      "S(73,28) has d-invariant [0.795, 0.625, 0.499, 0.416, 0.378, 0.384, 0.433, 0.526, 0.663, 0.844, 1.068, 0.970, 0.549, 0.172, -0.161, -0.451, -0.696, 0.159, 0.117, 0.118, 0.162, 0.251, 0.384, 0.560, 0.780, 1.044, 1.352, 1.704, 0.749, 0.489, 0.273, 0.101, -0.028, -0.113, -0.154, -0.151, -0.104, -0.014, 0.121, -0.068, -0.579, -1.046, -1.470, -1.850, -2.185, -1.420, -1.553, -1.642, -1.688, -1.689, -1.647, -1.561, -1.431, -1.257, -1.040, -0.778, -1.823, -2.173, -2.480, -2.742, -2.961, -3.136, -3.267, -3.355, -3.398, -3.398, -3.354, -3.632, -4.234, -4.792, -5.305, -5.775, -6.202, -0.170, -0.268, -0.323, -0.334, -0.300, -0.224, -0.103, 0.062, 0.270, 0.522, 0.818, 0.792, 0.442, 0.136, -0.125, -0.344, -0.518, 0.409, 0.438, 0.510, 0.627, 0.787, 0.991, 1.238, 1.530, 1.866, 2.245, 2.668]. .\n",
      "S(73,7) has d-invariant [2.089, 2.317, 2.454, 2.500, 2.454, 2.317, 2.089, 1.769, 1.358, 0.856, 0.263, -0.422, -1.199, -2.066, -3.025, -4.075, -5.217, -6.450, -7.774, -9.189, -10.696, -12.295, -13.984, -15.765, -17.637, -19.600, -21.655, -23.801, -26.039, -28.368, -30.788, -33.299, -35.902, -38.596, -41.381, -44.258, -47.226, -50.285, -53.436, -56.678, -60.011, -63.436, -66.952, -70.559, -74.258, -78.048, -81.929, -85.902, -89.966, -94.121, -98.368, -102.705, -107.135, -111.655, -116.267, -120.970, -125.765, -130.651, -135.628, -140.696, -145.856, -151.107, -156.450, -161.884, -167.409, -173.025, -178.733, -184.532, -190.422, -196.404, -202.477, -208.642, -214.897, 1.232, 1.746, 2.169, 2.500, 2.740, 2.889, 2.946].\n",
      "S(59,47) and S(59,24) are different knots, and therefore have differing d-invariants.\n",
      "S(59,47) has d-invariant [0.169, 0.074, -0.009, -0.080, -0.139, -0.185, -0.219, -0.240, -0.250, -0.247, -0.231, -0.203, -0.163, -0.111, -0.046, 0.031, 0.120, 0.222, 0.336, 0.462, 0.601, 0.752, 0.915, 1.091, 1.279, 1.479, 1.692, 1.917, 2.154, 2.404, 2.666, 2.940, 3.227, 3.525, 3.837, 4.160, 4.496, 4.844, 5.205, 5.578, 5.963, 6.361, 6.770, 7.193, 7.627, 8.074, 8.533, 0.103, -0.125, -0.341, -0.545, -0.736, -0.915, -1.082, -1.236, -1.378, -1.508, -1.625, -1.730, -0.809, -0.862, -0.903, -0.931, -0.947, -0.951, -0.942, -0.921, -0.888, -0.842, -0.784, -0.714, -0.631, -0.536, -0.429, -0.310, -0.178, -0.033, 0.123, 0.292, 0.473, 0.667, 0.873, 1.091, 1.321, 1.564, 1.819, 2.087, 2.367, 2.659, 2.964, 3.280, 3.609, 3.951, 4.305, 4.671, 5.049, 5.440, 5.843, 6.259, 6.686, 7.127, 7.579, 8.044, 8.521, 9.010, 9.512]. .\n",
      "S(59,24) has d-invariant [1.479, 1.047, 0.699, 0.436, 0.258, 0.165, 0.157, 0.233, 0.394, 0.640, 0.970, 1.386, 1.886, 2.470, 3.140, 3.894, 4.733, 5.657, 6.665, 7.758, 8.936, 10.199, 11.547, 12.979, 1.405, 0.825, 0.329, -0.081, -0.407, -0.648, -0.805, -0.876, -0.863, -0.765, -0.583, -0.315, 0.037, 0.473, 0.995, 1.601, 2.292, 3.068, 3.929, 4.874, 5.904, 7.019, 8.218, 9.503, -2.219, -2.947, -3.591, -4.149, -4.623, -5.012, -5.316, -5.536, -5.671, -5.721, -5.686, 0.520, 0.172, -0.093, -0.272, -0.367, -0.376, -0.302, -0.142, 0.102, 0.431, 0.845, 1.344, 1.927, 2.595, 3.348, 4.186, 5.108, 6.115, 7.207, 8.383, 9.645, 10.991, 12.422, 13.937].\n",
      "S(97,33) and S(97,13) are different knots, and therefore have differing d-invariants.\n",
      "S(97,33) has d-invariant [4.209, 3.729, 3.281, 2.863, 2.477, 2.121, 1.796, 1.503, 1.240, 1.008, 0.807, 0.637, 0.497, 0.389, 0.312, 0.265, 0.250, 0.265, 0.312, 0.389, 0.497, 0.637, 0.807, 1.008, 1.240, 1.503, 1.796, 2.121, 2.477, 2.863, 3.281, 3.729, 4.209, 4.187, 3.664, 3.171, 2.710, 2.279, 1.880, 1.511, 1.173, 0.867, 0.591, 0.346, 0.132, -0.051, -0.203, -0.325, -0.415, -0.474, -0.503, -0.500, -0.467, -0.402, -0.307, -0.181, -0.024, 0.164, 0.383, 0.633, 0.914, 1.226, 1.568, 1.942, 2.347, 2.782, 2.716, 2.149, 1.613, 1.107, 0.633, 0.190, -0.223, -0.605, -0.955, -1.275, -1.564, -1.822, -2.049, -2.245, -2.410, -2.544, -2.647, -2.720, -2.761, -2.771, -2.751, -2.700, -2.617, -2.504, -2.360, -2.185, -1.979, -1.742, -1.474, -1.175, -0.845, 3.239, 2.820, 2.432, 2.076, 1.750, 1.454, 1.190, 0.957, 0.755, 0.583, 0.443, 0.334, 0.255, 0.207, 0.191, 0.205, 0.250, 0.326, 0.433, 0.571, 0.740, 0.940, 1.170, 1.432, 1.725, 2.048, 2.402, 2.788, 3.204, 3.651, 4.129, 4.638, 5.178]. .\n",
      "S(97,13) has d-invariant [1.317, 1.449, 1.558, 1.642, 1.702, 1.738, 1.750, 1.738, 1.702, 1.642, 1.558, 1.449, 1.317, 1.161, 0.980, 0.776, 0.547, 0.295, 0.018, -0.283, -0.607, -0.956, -1.329, -1.726, -2.147, -2.592, -3.061, -3.554, -4.071, -4.613, -5.178, -5.767, -6.381, -7.018, -7.680, -8.365, -9.075, -9.808, -10.566, -11.348, -12.154, -12.984, -13.838, -14.716, -15.618, -16.544, -17.494, -18.468, -19.466, -20.489, -21.535, -22.606, -23.700, -24.819, -25.961, -27.128, -28.319, -29.534, -30.772, -32.035, -33.322, -34.633, -35.968, -37.327, -38.710, -40.118, -41.549, -43.004, -44.484, -45.987, -47.515, -49.066, -50.642, -52.241, -53.865, -55.513, -57.185, -58.881, -60.601, -62.345, -64.113, -65.905, -67.721, -69.561, -71.425, -73.314, -75.226, -77.162, -79.123, -81.107, -83.116, -85.149, -87.205, -89.286, -91.391, -93.520, -95.673, 0.394, 0.680, 0.942, 1.180, 1.394, 1.584, 1.750, 1.892, 2.010, 2.103, 2.173, 2.219, 2.240].\n",
      "S(85,84) and S(85,24) are different knots, and therefore have differing d-invariants.\n",
      "S(85,84) has d-invariant [0.738, 0.715, 0.692, 0.669, 0.646, 0.624, 0.602, 0.580, 0.559, 0.538, 0.517, 0.496, 0.476, 0.456, 0.436, 0.417, 0.398, 0.379, 0.360, 0.342, 0.324, 0.306, 0.288, 0.271, 0.254, 0.238, 0.221, 0.205, 0.189, 0.174, 0.158, 0.143, 0.129, 0.114, 0.100, 0.086, 0.073, 0.059, 0.046, 0.034, 0.021, 0.009, -0.003, -0.015, -0.026, -0.037, -0.048, -0.058, -0.068, -0.078, -0.088, -0.097, -0.107, -0.115, -0.124, -0.132, -0.140, -0.148, -0.155, -0.162, -0.169, -0.176, -0.182, -0.188, -0.194, -0.199, -0.205, -0.210, -0.214, -0.218, -0.223, -0.226, -0.230, -0.233, -0.236, -0.239, -0.241, -0.243, -0.245, -0.246, -0.248, -0.249, -0.249, -0.250, -0.250, -0.250, -0.249, -0.249, -0.248, -0.246, -0.245, -0.243, -0.241, -0.239, -0.236, -0.233, -0.230, -0.226, -0.223, -0.218, -0.214, -0.210, -0.205, -0.199, -0.194, -0.188, -0.182, -0.176, -0.169, -0.162, -0.155, -0.148, -0.140, -0.132, -0.124, -0.115, -0.107, -0.097, -0.088, -0.078, -0.068, -0.058, -0.048, -0.037, -0.026, -0.015, -0.003, 0.009, 0.021, 0.034, 0.046, 0.059, 0.073, 0.086, 0.100, 0.114, 0.129, 0.143, 0.158, 0.174, 0.189, 0.205, 0.221, 0.238, 0.254, 0.271, 0.288, 0.306, 0.324, 0.342, 0.360, 0.379, 0.398, 0.417, 0.436, 0.456, 0.476, 0.496, 0.517, 0.538, 0.559, 0.580, 0.602, 0.624, 0.646, 0.669, 0.692, 0.715, 0.738]. .\n",
      "S(85,24) has d-invariant [-0.321, 0.085, 0.409, 0.650, 0.809, 0.885, 0.879, 0.791, 0.621, 0.368, 0.032, -0.385, -0.885, -0.877, -0.360, 0.075, 0.428, 0.698, 0.885, 0.991, 1.014, 0.954, 0.813, 0.589, -0.386, -0.110, 0.083, 0.194, 0.222, 0.169, 0.032, -0.186, -0.487, -0.870, -1.336, -1.884, -2.514, -2.636, -2.249, -1.945, -1.723, -1.583, -1.526, -1.551, -1.658, -1.848, -2.120, -2.474, -3.579, -3.433, -3.370, -3.390, -3.492, -3.676, -3.942, -4.291, -4.722, -5.236, -5.832, -6.510, -7.271, -7.523, -7.266, -7.092, -7.001, -6.991, -7.064, -7.219, -7.457, -7.777, -8.179, -8.664, -9.899, -9.884, -9.951, -10.101, -10.333, -10.648, -11.045, -11.524, -12.085, -12.729, -13.455, -14.264, -15.155, -1.279, -0.790, -0.383, -0.058, 0.184, 0.344, 0.421, 0.416, 0.329, 0.159, -0.093, -0.427, -0.844, -0.752, -0.151, 0.367, 0.803, 1.156, 1.427, 1.616, 1.722, 1.746, 1.688, 1.547].\n",
      "S(99,79) and S(99,76) are different knots, and therefore have differing d-invariants.\n",
      "S(99,79) has d-invariant [0.182, 0.123, 0.069, 0.019, -0.027, -0.068, -0.105, -0.138, -0.167, -0.191, -0.212, -0.228, -0.239, -0.247, -0.250, -0.249, -0.243, -0.234, -0.220, -0.202, -0.180, -0.153, -0.122, -0.087, -0.048, -0.004, 0.044, 0.096, 0.152, 0.213, 0.278, 0.347, 0.420, 0.498, 0.579, 0.666, 0.756, 0.851, 0.949, 1.053, 1.160, 1.272, 1.388, 1.508, 1.632, 1.761, 1.894, 2.031, 2.172, 2.318, 2.468, 2.622, 2.780, 2.943, 3.110, 3.281, 3.457, 3.636, 3.820, 4.009, 4.201, 4.398, 4.599, 4.804, 5.013, 5.227, 5.445, 5.667, 5.894, 6.124, 6.359, 6.599, 6.842, 7.090, 7.342, 7.598, 7.859, 8.123, 8.392, 0.142, 0.004, -0.130, -0.260, -0.386, -0.507, -0.624, -0.737, -0.845, -0.949, -1.049, -1.145, -1.237, -1.324, -1.407, -1.486, -1.560, -1.630, -1.696, -1.758, -0.806, -0.839, -0.868, -0.892, -0.913, -0.929, -0.941, -0.948, -0.952, -0.951, -0.946, -0.936, -0.923, -0.905, -0.883, -0.856, -0.826, -0.791, -0.752, -0.708, -0.661, -0.609, -0.553, -0.492, -0.428, -0.359, -0.286, -0.208, -0.126, -0.041, 0.050, 0.144, 0.243, 0.346, 0.453, 0.564, 0.680, 0.800, 0.924, 1.053, 1.185, 1.322, 1.464, 1.609, 1.759, 1.913, 2.071, 2.233, 2.400, 2.571, 2.746, 2.926, 3.110, 3.298, 3.490, 3.686, 3.887, 4.092, 4.301, 4.515, 4.733, 4.955, 5.181, 5.411, 5.646, 5.885, 6.129, 6.376, 6.628, 6.884, 7.144, 7.409, 7.678, 7.951, 8.228, 8.509, 8.795, 9.085, 9.380]. .\n",
      "S(99,76) has d-invariant [-0.205, 0.154, 0.381, 0.477, 0.442, 0.275, -0.023, -0.452, -1.013, -1.705, -2.528, -3.482, -4.568, -5.785, -7.134, -8.614, -10.225, -11.967, -13.841, -15.846, -17.982, -20.250, -22.649, -0.536, 0.088, 0.580, 0.942, 1.172, 1.271, 1.238, 1.075, 0.780, 0.353, -0.205, -0.894, -1.714, -2.666, -3.749, -4.963, -6.308, -7.785, -9.394, -11.133, -13.004, -15.006, -17.140, 5.238, 6.128, 6.886, 7.513, 8.009, 8.373, 8.606, 8.708, 8.679, 8.518, 8.225, 7.802, 7.247, 6.561, 5.744, 4.795, 3.715, 2.503, 1.161, -0.313, -1.919, -3.655, -5.523, 17.120, 18.275, 19.299, 20.192, 20.953, 21.583, 22.081, -0.238, 0.054, 0.214, 0.244, 0.142, -0.092, -0.457, -0.953, -1.580, -2.339, -3.229, -4.250, -5.403, -6.687, -8.102, -9.648, -11.326, -13.135, -15.076, -17.148, -19.351, -21.685, -24.151, -1.191, -0.806, -0.553, -0.431, -0.440, -0.580, -0.852, -1.255, -1.789, -2.455, -3.251, -4.180, -5.239, -6.430, -7.752, -9.206, -10.791, -12.507, -14.354, -16.333, -18.443, -20.684, -23.057, -0.918, -0.268, 0.251, 0.639, 0.896, 1.021, 1.015, 0.877, 0.609, 0.208, -0.323, -0.986, -1.780, -2.705, -3.762, -4.950, -6.269, -7.720, -9.301, -11.015, -12.859, -14.835, -16.942, 5.462, 6.378, 7.163, 7.816, 8.338, 8.729, 8.988, 9.116, 9.113, 8.978, 8.712, 8.315, 7.787, 7.127, 6.336, 5.413, 4.359, 3.174, 1.858, 0.410, -1.169, -2.879, -4.721, 17.949, 19.131, 20.181, 21.099, 21.887, 22.543, 23.068].\n",
      "2905\n"
     ]
    }
   ],
   "source": [
    "distinguish_2_bridge_links(100)\n",
    "print(len(dinv_memo))\n",
    "\n",
    "# distinguish_2_bridge_links(200) # Takes 83.9 seconds to run with two levels of memoisation. 'Works' for p = 1000 but not in any efficient way."
   ]
  },
  {
   "cell_type": "markdown",
   "metadata": {},
   "source": [
    "## Conclusion"
   ]
  },
  {
   "cell_type": "markdown",
   "metadata": {},
   "source": [
    "While relatively unknown, the study of knots is widely applicable in the natural sciences, including the study of DNA strands and molecular structures. Further, in the late 19th Century, it was believed that knots make up the structure of the atom, developed by William Thomson, coined the Vortex theory of the atom (See <a href='#ThomWill'>[2]</a>). Through this project, we hope to have motivated the study of knots, and demonstrated how we can use robust programming techniques and recursive relations to characterise/differentiate unique knots and 2-bridge links. "
   ]
  },
  {
   "cell_type": "markdown",
   "metadata": {},
   "source": [
    "<a id='Bib'></a>\n",
    "## References and Bibilography"
   ]
  },
  {
   "cell_type": "markdown",
   "metadata": {},
   "source": [
    "<a id='KronMrow2018'>[1]</a> Kronheimer, Peter B., and Tomasz S. Mrowka. Knots, Three-Manifolds and Instantons, Int. Cong. of Math., 2018, <a>eta.impa.br/dl/PL014.pdf</a>\n",
    "\n",
    "<a id='ThomWill'>[2]</a>  Thomson, William. “On Vortex Atoms.” Lord Kelvin | On Vortex Atoms, Proceedings of the Royal Society of Edinburgh,  <a>zapatopi.net/kelvin/papers/on_vortex_atoms.html</a> [Accessed 5 May 2024]\n",
    "\n",
    "<a id='Wiki1'>[3]</a>  “History of Knot Theory.” Wikipedia, Wikimedia Foundation.  <a>en.wikipedia.org/wiki/History_of_knot_theory</a> [Accessed 5 May 2024]\n",
    "\n",
    "<a id='Oszvath'>[4]</a>  “P. Oszváth and Z. Szabó. Absolutely graded Floer homologies and intersection forms for four-manifolds with boundary, Adv. Math. 173 (2003), 179–261.\n",
    "\n",
    "<a id='Torianyk'>[5]</a>  Torianyk, Maksym, and Ivan Balashov. Knots and Reidemeister Theorem, MIT Dept. of Mathematics, May 2023,  <a>math.mit.edu/research/highschool/primes/YuliasDream/2023/slides/2-1-BT.pdf</a>. \n",
    "\n",
    "<a id='Wiki2'>[6]</a> “Reidemeister Move.” Wikipedia, Wikimedia Foundation,  <a>en.wikipedia.org/wiki/Reidemeister_move</a>, [Accessed 5 May 2024]"
   ]
  }
 ],
 "metadata": {
  "interpreter": {
   "hash": "f08154012ddadd8e950e6e9e035c7a7b32c136e7647e9b7c77e02eb723a8bedb"
  },
  "kernelspec": {
   "display_name": "Python 3.9.7 ('base')",
   "language": "python",
   "name": "python3"
  },
  "language_info": {
   "codemirror_mode": {
    "name": "ipython",
    "version": 3
   },
   "file_extension": ".py",
   "mimetype": "text/x-python",
   "name": "python",
   "nbconvert_exporter": "python",
   "pygments_lexer": "ipython3",
   "version": "3.12.3"
  }
 },
 "nbformat": 4,
 "nbformat_minor": 2
}
