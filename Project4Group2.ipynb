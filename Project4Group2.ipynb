{
 "cells": [
  {
   "cell_type": "markdown",
   "metadata": {},
   "source": [
    "# MATH20014 Mathematical Programming: Group 2 Project Submission - Knot Theory and Recursion "
   ]
  },
  {
   "cell_type": "markdown",
   "metadata": {},
   "source": [
    "## Table of Contents\n",
    "\n",
    "- [Introduction to Knot Theory](#Intro)\n",
    "- Chapter 1: [Continued Fractions](#PartA)\n",
    "    - Section 1.1: [Continued Fractions Generators](#S1)\n",
    "    - Section 1.2: [Extensions](#S2)\n",
    "- Chapter 2: [2-bridge Links](#PartB)\n",
    "    - Section 2.1: [Refresher of the Diagram Algorithm](#S4)\n",
    "        - Part 2.1.1: [Generating 2-Bridge Link Diagrams](#S4.1)\n",
    "        - Part 2.1.2: [Sample Diagrams](#S4.2)\n",
    "    - Section 2.2: [Testing Hypotheses using 2-Bridge Link Diagrams](#S5)\n",
    "        - Part 2.2.1 [Definitions and Objectives](#S5.1)\n",
    "        - Part 2.2.2 [Extensions](#S5.2)\n",
    "    - Section 2.3: [Relations between Links](#S5)\n",
    "- Chapter 3: [The d-Invariant Knot](#PartC)\n",
    "- [Conclusion](#Conc)\n",
    "- [References and Bibilography](#Bib)"
   ]
  },
  {
   "cell_type": "markdown",
   "metadata": {},
   "source": [
    "## Introduction <a name='Intro'></a>\n"
   ]
  },
  {
   "cell_type": "markdown",
   "metadata": {},
   "source": [
    "Knots have played an indelible role in the evolution of human civilsations, serving as fundamental tools for binding objects to each other. It was only in the mid 19th Century when knots were studied mathematically. In 1833, Carl Friedrich Gauss pionerred the advancement of Knot Theory by analysing various knots and links using techniques developed in differential geometry. Gauss subconciously hinted the idea that knots can be share the same behavioural tendencies as geometric objects. This motivates the utility of certain programming techniques, particularly recursion and recursive relations, that can be employed to further manipulate these objects. Such algorithms can be developed to efficiently study arbitrarily intricate knot structures, identifying patterns and allowing us to test hypotheses on properties of abstract knots. As a result, developments in Knot Theory in the past 50 years is directly correlated the increased usage of programming in mathematics. \n",
    "\n",
    "We begin by building intuition on recursive relations through the exploration of continuted fractions. In Section 1.1, we establish two unique functions that calculate a continuted fraction for a given $\\frac{p}{q}$, where $p$, $q$ are coprime. In doing so, we motivate the use of Euclid's Algorithm. Next, in Section 1.2, we develop an efficient function that will recalculate and output a rational number given an arbitrary list. These introductory exereices will provide the reader with a foundation on working with fractions and recursions computationally. As we progress, we shall delve deeper into the subtle relationship between recursion and knots - in particular, how we use recursive relations to define, examine, and test properties of knots. "
   ]
  },
  {
   "cell_type": "markdown",
   "metadata": {},
   "source": [
    "Having established the fundamentals, in the next chapter, we shall explore knot theory more abstractly, testing our hypotheses using the computational tools we have previously developed. We first introduce 2-bridge links - an object with several loops containing two local maxima - and design a function to output a 2-bridge link diagram for a given rational number p/q with certain conditions. We make use of the fact that, for every rational number $\\frac{p}{q}$, where $p, q$ are coprime, there exists an associated 2-bridge link $S(p,q)$. Having constructed and optimised this algorithm, we proceed to run tests to deduce properties about 2-bridge links. This includes experiments on manipulating the parity of $p$ and $q$, and testing potential periodicity of $S(p,q)$. We then summarise by investigating the relationship between $S(p,q)$ and $S(p,q’)$, where $p$ is fixed and $qq’$ satisfies a given modular relation.  \n",
    "\n",
    "We conclude this project by introducing knot invariants, particularly 2-bridge link invariants. We analyse d-invariants of $S(p,q)$, i.e. a collection of $p$ rational numbers denoted $d(S(p,q),i)$. We do so by establishing a homomorphism between our $S(p,q)$ knot group and an arbitrary 3-dimensional manifold, say $L(p,q)$, and then take the 'd'-invariant of this manifold. First, we will write a function to calculate $d(S(p,q),i)$, and list the outputted rational numbers. Then, we study the effect of the d-invariant in the special case that $S(p,q_1) = S(p,q_2)$ for arbitrary coprime $p, q_1, q_2$. We conclude by examining some more theory on d-invariants using our code. "
   ]
  },
  {
   "cell_type": "markdown",
   "metadata": {},
   "source": [
    "<a id='PartA'></a>\n",
    "## Chapter 1: Continued Fractions\n"
   ]
  },
  {
   "cell_type": "markdown",
   "metadata": {},
   "source": [
    "In this section, we shall construct two separate functions to compute differing continued factions for a rational number $\\frac{p}{q}$, where $p$ and $q$ are coprime. Following this we also construct a function which recalculates a rational $\\frac{p}{q}$ from a given continued fraction list. These functions will show to be very useful for our applications in [Chapter 2], where we focus on creating 2-bridge link diagrams to verify a number of intriguing properties about 2-bridge knots."
   ]
  },
  {
   "cell_type": "markdown",
   "metadata": {},
   "source": [
    "<a id='S1'></a>\n",
    "### Section 1.1: Continued fraction generators. \n"
   ]
  },
  {
   "cell_type": "markdown",
   "metadata": {},
   "source": [
    "Our first function, `cont_frac_exp1(p,q)`, makes use of modulo arithmetic to obtain our result. Our function operates as follows:\n",
    "\n",
    "1.\tWe begin by taking the integer division of $p/q$, which we assign to a value $r$\n",
    "\n",
    "2.\tFollowing this integer division, we take the remainder of this division which we assign to a value $s$.\n",
    "\n",
    "3.\tWe then repeat this step recursively, appending each $r$ value to a contnued fraction list until we reach a point where $s=0$.\n",
    "\n",
    "At this point, our list is complete."
   ]
  },
  {
   "cell_type": "markdown",
   "metadata": {},
   "source": [
    "See below for the code definition of our function.\n"
   ]
  },
  {
   "cell_type": "code",
   "execution_count": 28,
   "metadata": {},
   "outputs": [],
   "source": [
    "# First continued fraction function\n",
    "def cont_frac_exp1(p,q):\n",
    "    result=[]\n",
    "    while q != 0:\n",
    "        r=p//q\n",
    "        s=p%q # Making use of the modulo arithmatic\n",
    "        result.append(r)\n",
    "        p, q = q, s\n",
    "    return result"
   ]
  },
  {
   "cell_type": "markdown",
   "metadata": {},
   "source": [
    "Below we use our function to compute the continued fraction sequence for $p/q$ = $9/7$; here, we see that our initial $r$ value is $r=1$ (as integer division of $p/q$ gives us $1$), and our initial $s$ value is $s=2$. Note this aligns with the fact that $9$(mod$7$) = $2$.\n",
    "The steps are as follows:\n",
    "\n",
    "1. We assign r = 9 // 7 = 1.\n",
    "\n",
    "2. We assign s = 9 % 7 = 2. \n",
    "\n",
    "3. We append r = 1 to our list, so our list result = [1], as in the code. Then reassigning p, q = q, s, I.e 9, 7 = 7, 2, we begin the process again.\n",
    "Now r = 7 // 2 = 3, and s = 7 % 2 = 1. And our list, result = [1,3]. As earlier, we reassign 7, 2 = 2, 1. Now r = 2 // 1 = 2 and s = 2 % 1 = 0. We have s = 0, so as our final step we append '2' to our list, and we are done.\n",
    "So our resulting list should be [1,3,2], after appending each value of r.\n",
    "\n"
   ]
  },
  {
   "cell_type": "code",
   "execution_count": 29,
   "metadata": {},
   "outputs": [
    {
     "data": {
      "text/plain": [
       "[1, 3, 2]"
      ]
     },
     "execution_count": 29,
     "metadata": {},
     "output_type": "execute_result"
    }
   ],
   "source": [
    "# Testing Cell\n",
    "cont_frac_exp1(9,7)"
   ]
  },
  {
   "cell_type": "markdown",
   "metadata": {},
   "source": [
    "<a id='PartB'></a>\n",
    "## Chapter 2: 2-bridge links "
   ]
  },
  {
   "cell_type": "markdown",
   "metadata": {},
   "source": [
    "In this section, we shall focus on producing 2-bridge link diagrams from continued fractions as discussed in Chapter 1, and using these diagrams to verify certain properties of knots and 2-bridge links.\n",
    "Note that every continued fraction $[a_1,a_2,...,a_n]$, generated from a rational $p/q$, has an associated 2-bridge link $S(p,q)$, from which we can generate a visual representation.\n"
   ]
  },
  {
   "cell_type": "markdown",
   "metadata": {},
   "source": [
    "<a id='S4'></a>\n",
    "### Section 2.1: Refresher of diagram algorithm "
   ]
  },
  {
   "cell_type": "markdown",
   "metadata": {},
   "source": [
    "We start our diagram off with four parallel strands. \n",
    "\n",
    "Consider a continued fraction, given as a list [$a_1,a_2,...,a_n$]. For each $a_i$ in out list, we add a twist between two parallel strands:\n",
    "\n",
    "> If $i$ is even, we twist the middle two strands.\n",
    "\n",
    "> If $i$ is odd, we twist the rightmost two strands.\n",
    "\n",
    "Additionally, we ensure we twist the rightmost strand over the left if $i$ is odd AND $a_i$ is positive; we switch this twist to left over right if either of these change.\n",
    "\n",
    "Finally, we must connect the diagram at the beginning and end.\n"
   ]
  },
  {
   "cell_type": "markdown",
   "metadata": {},
   "source": [
    "<a id='S4.1'></a> \n",
    "#### Part 2.1.1 Generating 2-bridge link diagrams\n"
   ]
  },
  {
   "cell_type": "markdown",
   "metadata": {},
   "source": [
    "We begin by writing code to diaplay the various twists we will need to use when drawing a 2-bridge diagram for any rational number $p/q$, as discussed in Chapter 1.\n",
    "\n",
    "This function, `print_crossing(type)`, will take four strands and display twists corresponding to each possibility from our algorithm, as mentioned above.\n",
    "\n",
    "Note that we will align these crossing types with a function, `diagram(p,q)`, to draw our diagrams (see below in Section ...).\n"
   ]
  },
  {
   "cell_type": "code",
   "execution_count": 30,
   "metadata": {},
   "outputs": [
    {
     "name": "stderr",
     "output_type": "stream",
     "text": [
      "<>:4: SyntaxWarning: invalid escape sequence '\\ '\n",
      "<>:6: SyntaxWarning: invalid escape sequence '\\ '\n",
      "<>:8: SyntaxWarning: invalid escape sequence '\\ '\n",
      "<>:9: SyntaxWarning: invalid escape sequence '\\ '\n",
      "<>:10: SyntaxWarning: invalid escape sequence '\\ '\n",
      "<>:12: SyntaxWarning: invalid escape sequence '\\ '\n",
      "<>:14: SyntaxWarning: invalid escape sequence '\\ '\n",
      "<>:16: SyntaxWarning: invalid escape sequence '\\ '\n",
      "<>:17: SyntaxWarning: invalid escape sequence '\\ '\n",
      "<>:18: SyntaxWarning: invalid escape sequence '\\ '\n",
      "<>:4: SyntaxWarning: invalid escape sequence '\\ '\n",
      "<>:6: SyntaxWarning: invalid escape sequence '\\ '\n",
      "<>:8: SyntaxWarning: invalid escape sequence '\\ '\n",
      "<>:9: SyntaxWarning: invalid escape sequence '\\ '\n",
      "<>:10: SyntaxWarning: invalid escape sequence '\\ '\n",
      "<>:12: SyntaxWarning: invalid escape sequence '\\ '\n",
      "<>:14: SyntaxWarning: invalid escape sequence '\\ '\n",
      "<>:16: SyntaxWarning: invalid escape sequence '\\ '\n",
      "<>:17: SyntaxWarning: invalid escape sequence '\\ '\n",
      "<>:18: SyntaxWarning: invalid escape sequence '\\ '\n",
      "C:\\Users\\farma\\AppData\\Local\\Temp\\ipykernel_5428\\2515952771.py:4: SyntaxWarning: invalid escape sequence '\\ '\n",
      "  print('| |  \\ /' )\n",
      "C:\\Users\\farma\\AppData\\Local\\Temp\\ipykernel_5428\\2515952771.py:6: SyntaxWarning: invalid escape sequence '\\ '\n",
      "  print('| |  / \\ ')\n",
      "C:\\Users\\farma\\AppData\\Local\\Temp\\ipykernel_5428\\2515952771.py:8: SyntaxWarning: invalid escape sequence '\\ '\n",
      "  print('| |  \\ /' )\n",
      "C:\\Users\\farma\\AppData\\Local\\Temp\\ipykernel_5428\\2515952771.py:9: SyntaxWarning: invalid escape sequence '\\ '\n",
      "  print('| |   \\ ' )\n",
      "C:\\Users\\farma\\AppData\\Local\\Temp\\ipykernel_5428\\2515952771.py:10: SyntaxWarning: invalid escape sequence '\\ '\n",
      "  print('| |  / \\ ')\n",
      "C:\\Users\\farma\\AppData\\Local\\Temp\\ipykernel_5428\\2515952771.py:12: SyntaxWarning: invalid escape sequence '\\ '\n",
      "  print('| \\ /  | ')\n",
      "C:\\Users\\farma\\AppData\\Local\\Temp\\ipykernel_5428\\2515952771.py:14: SyntaxWarning: invalid escape sequence '\\ '\n",
      "  print('| / \\  |' )\n",
      "C:\\Users\\farma\\AppData\\Local\\Temp\\ipykernel_5428\\2515952771.py:16: SyntaxWarning: invalid escape sequence '\\ '\n",
      "  print('| \\ /  |' )\n",
      "C:\\Users\\farma\\AppData\\Local\\Temp\\ipykernel_5428\\2515952771.py:17: SyntaxWarning: invalid escape sequence '\\ '\n",
      "  print('|  \\   |' )\n",
      "C:\\Users\\farma\\AppData\\Local\\Temp\\ipykernel_5428\\2515952771.py:18: SyntaxWarning: invalid escape sequence '\\ '\n",
      "  print('| / \\  | ')\n"
     ]
    }
   ],
   "source": [
    "# Code to display various twists in a 2-bridge link.\n",
    "def print_crossing(type):\n",
    "    if type == 1:\n",
    "        print('| |  \\ /' )\n",
    "        print('| |   /  ')\n",
    "        print('| |  / \\ ')\n",
    "    elif type ==-1:\n",
    "        print('| |  \\ /' )\n",
    "        print('| |   \\ ' )\n",
    "        print('| |  / \\ ')\n",
    "    elif type == 2:\n",
    "        print('| \\ /  | ')\n",
    "        print('|  /   |' )\n",
    "        print('| / \\  |' )\n",
    "    elif type == -2:\n",
    "        print('| \\ /  |' )\n",
    "        print('|  \\   |' )\n",
    "        print('| / \\  | ')\n",
    "    elif type == 10:\n",
    "        print(' ______'  )\n",
    "        print('|  __  |' )\n",
    "        print('| |  | | ')\n",
    "    elif type == -10:\n",
    "        print('| |__| | ')\n",
    "        print('|______| ' )\n",
    "    elif type == -20:\n",
    "        print('| |  | |')\n",
    "        print('|_|  |_| ')\n"
   ]
  },
  {
   "cell_type": "markdown",
   "metadata": {},
   "source": [
    "We shall now create a function, `diagram(p,q)`, which generates a 2-bridge link diagram for given rational $p/q$."
   ]
  },
  {
   "cell_type": "markdown",
   "metadata": {},
   "source": [
    "This function works by inputting said $p,q$, generating an array $[a_1,a_2,...,a_n]$ from our function `cont_frac_exp1(p,q)`, then implementing various twists as indicated by our function `print_crossing(type)`."
   ]
  },
  {
   "cell_type": "code",
   "execution_count": 31,
   "metadata": {},
   "outputs": [],
   "source": [
    "def diagram(p,q):\n",
    "\n",
    "    array = cont_frac_exp1(p,q)\n",
    "\n",
    "    num = len(array)\n",
    "\n",
    "    print_crossing(10)\n",
    "\n",
    "    for i in range(num):\n",
    "        if array[i] > 0 and (i+1)%2 != 0:\n",
    "            for j in range(array[i]):\n",
    "                print_crossing(1)\n",
    "        elif array[i-1] < 0 and (i+1)%2 != 0:\n",
    "            for j in range(abs(array[i])):\n",
    "                print_crossing(-1)\n",
    "        elif array[i-1] > 0 and (i+1)%2 == 0:\n",
    "            for j in range(abs(array[i])):\n",
    "                print_crossing(-2)\n",
    "        elif array[i-1] < 0 and (i+1)%2 == 0:\n",
    "            for j in range(abs(array[i])):\n",
    "                print_crossing(2)  \n",
    "    \n",
    "    if num%2 == 0:\n",
    "        print_crossing(-20)\n",
    "    else:\n",
    "        print_crossing(-10)\n"
   ]
  },
  {
   "cell_type": "markdown",
   "metadata": {},
   "source": [
    "<a id='S4.1'></a> \n",
    "#### Part 2.1.2 Examples of diagrams\n"
   ]
  },
  {
   "cell_type": "markdown",
   "metadata": {},
   "source": [
    "We illustrate the above function with an example."
   ]
  },
  {
   "cell_type": "code",
   "execution_count": 32,
   "metadata": {},
   "outputs": [
    {
     "name": "stdout",
     "output_type": "stream",
     "text": [
      " ______\n",
      "|  __  |\n",
      "| |  | | \n",
      "| |  \\ /\n",
      "| |   /  \n",
      "| |  / \\ \n",
      "| \\ /  |\n",
      "|  \\   |\n",
      "| / \\  | \n",
      "| \\ /  |\n",
      "|  \\   |\n",
      "| / \\  | \n",
      "| \\ /  |\n",
      "|  \\   |\n",
      "| / \\  | \n",
      "| |  \\ /\n",
      "| |   /  \n",
      "| |  / \\ \n",
      "| |  \\ /\n",
      "| |   /  \n",
      "| |  / \\ \n",
      "| |__| | \n",
      "|______| \n"
     ]
    }
   ],
   "source": [
    "diagram(9,7)"
   ]
  },
  {
   "cell_type": "markdown",
   "metadata": {},
   "source": [
    "<a id='S4'></a>\n",
    "### Section 2.2:  Verification of results using 2-bridge link diagrams "
   ]
  },
  {
   "cell_type": "markdown",
   "metadata": {},
   "source": [
    "We will use our previous function `diagram(p,q)` as dicussed in Section 2.1 which allows us to generate 2-bridge link diagrams to test certain properties of 2-bridge links. "
   ]
  },
  {
   "cell_type": "markdown",
   "metadata": {},
   "source": [
    "**Claim (a):** S(p,q) is a knot if p is odd, and has 2 components if p is even. "
   ]
  },
  {
   "cell_type": "markdown",
   "metadata": {},
   "source": [
    "**Solution + Explanation:** We find this claim is incorrect by means of a counterexample. This is substantiated by [REFER HERE TO EXACT DIAGRAM]."
   ]
  },
  {
   "cell_type": "code",
   "execution_count": null,
   "metadata": {},
   "outputs": [],
   "source": [
    " "
   ]
  },
  {
   "cell_type": "markdown",
   "metadata": {},
   "source": [
    "Here, p is an even number, yet it gives the unknot (i.e. the trivial knot), as opposed to two separate links, as claimed. Further, if p is an odd number, regardless of the parity of p (modq), the output will consistently be the unknot. (HAVE TO GIVE EXAMPLES, SOME SEMBLANCE OF PROOF) "
   ]
  },
  {
   "cell_type": "markdown",
   "metadata": {},
   "source": [
    "**Claim (b):** The link S(p,q) does not depend on the choice of continued fraction, even though the diagram does."
   ]
  },
  {
   "cell_type": "markdown",
   "metadata": {},
   "source": [
    "**Solution + Explanation:** We find this to be a true statement. We introduce the two lists [1,3,2] and [2,-2,2,-3]. Consider these two continued fraction expansions. {SHOW DIAGRAMS HERE}. Inputting these two lists into our diagram-generating functions, we find that two unique 2-bridge link diagrams are outputted. However, using Euclid's division algorithm, we find that these continued fractions simplify to 9/7. We can verify this by applying the Reidemeister moves to the two diagrams, which give us the same knot. More abstractly, this claim is suggesting that the topological properties of the S(p,q) link remains consistent. Hence, a rigorous proof would entail showing the resulting knots are topologically equivalent regardless of how p/q is represented. "
   ]
  },
  {
   "cell_type": "markdown",
   "metadata": {},
   "source": [
    "**Claim (c):** If n in Z, then S(p,q) = S(p,q+np)."
   ]
  },
  {
   "cell_type": "markdown",
   "metadata": {},
   "source": [
    "**Solution + Explanation:** This claim suggests certain periodic behaviour of 2-bridge links. Having tested this claim with numerous examples, it seems to be a true statement. However, this is by no means a rigorous proof. A proof would have to show the topological equivalence of the S(p,q) and S(p,q+np) knot. However, logically approaching this question, we have insight on why this may be true. (EXPLAIN LOGICALLY) "
   ]
  },
  {
   "cell_type": "markdown",
   "metadata": {},
   "source": [
    "**Claim (d):** Changing the sign of all the crossings in S(p,q) gives you S(p,-q) = S(p,p-q). "
   ]
  },
  {
   "cell_type": "markdown",
   "metadata": {},
   "source": [
    "**Solution + Explanation:** Again, we find this claim to be incorrect by means of a counterexample.\n",
    "\n",
    "Here, we take p = 9, q = 7, thus p - q = 9 - 7 = 2. (see below). "
   ]
  },
  {
   "cell_type": "code",
   "execution_count": 33,
   "metadata": {},
   "outputs": [
    {
     "name": "stdout",
     "output_type": "stream",
     "text": [
      " ______\n",
      "|  __  |\n",
      "| |  | | \n",
      "| \\ /  | \n",
      "|  /   |\n",
      "| / \\  |\n",
      "| |  \\ /\n",
      "| |   /  \n",
      "| |  / \\ \n",
      "| |  \\ /\n",
      "| |   /  \n",
      "| |  / \\ \n",
      "| \\ /  |\n",
      "|  \\   |\n",
      "| / \\  | \n",
      "| \\ /  |\n",
      "|  \\   |\n",
      "| / \\  | \n",
      "| |  | |\n",
      "|_|  |_| \n"
     ]
    }
   ],
   "source": [
    "diagram(9,-7)"
   ]
  },
  {
   "cell_type": "code",
   "execution_count": 34,
   "metadata": {},
   "outputs": [
    {
     "name": "stdout",
     "output_type": "stream",
     "text": [
      " ______\n",
      "|  __  |\n",
      "| |  | | \n",
      "| |  \\ /\n",
      "| |   /  \n",
      "| |  / \\ \n",
      "| |  \\ /\n",
      "| |   /  \n",
      "| |  / \\ \n",
      "| |  \\ /\n",
      "| |   /  \n",
      "| |  / \\ \n",
      "| |  \\ /\n",
      "| |   /  \n",
      "| |  / \\ \n",
      "| \\ /  |\n",
      "|  \\   |\n",
      "| / \\  | \n",
      "| \\ /  |\n",
      "|  \\   |\n",
      "| / \\  | \n",
      "| |  | |\n",
      "|_|  |_| \n"
     ]
    }
   ],
   "source": [
    "diagram(9,9-7)"
   ]
  },
  {
   "cell_type": "markdown",
   "metadata": {},
   "source": [
    "... "
   ]
  },
  {
   "cell_type": "markdown",
   "metadata": {},
   "source": [
    "<a id='Bib'></a>\n",
    "## References and Bibilography"
   ]
  },
  {
   "cell_type": "markdown",
   "metadata": {},
   "source": [
    "<a id='Chen2015'></a> Chen, Y.L. (2015). *Efficient Algorithm for Tower of Hanoi Variation*. [online] Stack Overflow. Available at: https://stackoverflow.com/questions/32463594/efficient-algorithm-for-tower-of-hanoi-variation [Accessed 3 May 2022].\n",
    "\n",
    "<a id='Falconer1990'></a> Falconer, K.J. (1990). *Fractal Geometry*. Wiley.\n",
    "\n",
    "<a id='HKP2018'></a> Hinz, A.M., Klavzar, S. and Petr, C. (2018). *The Tower of Hanoi - Myths and Maths*. [online] Cham: Springer International Publishing. Available at: https://link.springer.com/content/pdf/10.1007/978-3-319-73779-9.pdf [Accessed 3 Apr. 2022].\n",
    "\n",
    "<a id='Leung2021'></a> Leung, D. (2021). *Understanding Interfaces in Go*. [online] Duncanleung.com. Available at: https://duncanleung.com/understand-go-golang-interfaces/ [Accessed 17 Apr. 2022].\n",
    "\n",
    "<a id='M1980'></a> Mandelbrot, B.B. (1980). FRACTAL ASPECTS OF THE ITERATION OF $z → \\lambda z(1- z)$ FOR COMPLEX $\\lambda$ AND $z$. *Annals of the New York Academy of Sciences*, [online] 357(1), pp.249–259. doi:10.1111/j.1749-6632.1980.tb29690.x.\n",
    "\n",
    "<a id='M1983'></a> Mandelbrot, B.B. (1983). *The Fractal Geometry of Nature*. New York: W.H. Freeman and Company.\n",
    "\n",
    "<a id='M1999'></a> Mandelbrot, B.B. and Frame, M. (1999). The Canopy and Shortest Path in a Self-Contacting Fractal Tree. *The Mathematical Intelligencer*, 21(2), pp.18–27. doi:10.1007/bf03024842.\n",
    "\n",
    "<a id='PSF2022'></a> Python Software Foundation (2022). *9. Classes - Python 3.10.4 Documentation*. [online] Python.org. Available at: https://docs.python.org/3/tutorial/classes.html [Accessed 3 Apr. 2022].\n",
    "\n",
    "<a id='RUP2008'></a> Rubio-Sánchez, M., Urquiza-Fuentes, J. and Pareja-Flores, C. (2008). A Gentle Introduction to Mutual Recursion. *Proceedings of the 13th Annual Conference on Innovation and Technology in Computer Science Education*, 2008(June). doi:10.1145/1384271.1384334.\n",
    "\n",
    "<a id='PyGame_Intro'></a> Shinners, P. (2021). *Pygame Intro — Pygame v2.1.1 Documentation*. [online] Pygame.org. Available at: http://www.pygame.org/docs/tut/PygameIntro.html [Accessed 5 May 2022].\n",
    "\n",
    "<a id='Wiki'></a> Wikipedia Contributors (2022). *Tower of Hanoi*. [online] Wikipedia. Available at: https://en.wikipedia.org/wiki/Tower_of_Hanoi#cite_ref-8 [Accessed 9 May 2022].\n"
   ]
  }
 ],
 "metadata": {
  "interpreter": {
   "hash": "f08154012ddadd8e950e6e9e035c7a7b32c136e7647e9b7c77e02eb723a8bedb"
  },
  "kernelspec": {
   "display_name": "Python 3.9.7 ('base')",
   "language": "python",
   "name": "python3"
  },
  "language_info": {
   "codemirror_mode": {
    "name": "ipython",
    "version": 3
   },
   "file_extension": ".py",
   "mimetype": "text/x-python",
   "name": "python",
   "nbconvert_exporter": "python",
   "pygments_lexer": "ipython3",
   "version": "3.12.3"
  }
 },
 "nbformat": 4,
 "nbformat_minor": 2
}
