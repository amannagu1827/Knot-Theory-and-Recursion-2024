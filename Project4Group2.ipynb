{
 "cells": [
  {
   "cell_type": "markdown",
   "metadata": {},
   "source": [
    "# MATH20014 Mathematical Programming: Group 2 Project Submission - Knot Theory and Recursion "
   ]
  },
  {
   "cell_type": "markdown",
   "metadata": {},
   "source": [
    "## Table of Contents\n",
    "\n",
    "- [Introduction to Knot Theory](#Intro)\n",
    "- Chapter 1: [Continued Fractions](#PartA)\n",
    "    - Section 1.1: [Continued Fractions Generators](#S1)\n",
    "    - Section 1.2: [Extensions](#S2)\n",
    "- Chapter 2: [2-bridge Links](#PartB)\n",
    "    - Section 2.1: [Refresher of the Diagram Algorithm](#S4)\n",
    "        - Part 2.1.1: [Generating 2-Bridge Link Diagrams](#S4.1)\n",
    "        - Part 2.1.2: [Sample Diagrams](#S4.2)\n",
    "    - Section 2.2: [Testing Hypotheses using 2-Bridge Link Diagrams](#S5)\n",
    "        - Part 2.2.1 [Definitions and Objectives](#S5.1)\n",
    "        - Part 2.2.2 [Extensions](#S5.2)\n",
    "    - Section 2.3: [Relations between Links](#S5)\n",
    "- Chapter 3: [The d-Invariant Knot](#PartC)\n",
    "- [Conclusion](#Conc)\n",
    "- [References and Bibilography](#Bib)"
   ]
  },
  {
   "cell_type": "markdown",
   "metadata": {},
   "source": [
    "## Introduction <a name='Intro'></a>\n"
   ]
  },
  {
   "cell_type": "markdown",
   "metadata": {},
   "source": [
    "Knots have played an indelible role in the evolution of human civilsations, serving as fundamental tools for binding objects to each other. It was only in the mid 19th Century when knots were studied mathematically. In 1833, Carl Friedrich Gauss pionerred the advancement of Knot Theory by analysing various knots and links using techniques developed in differential geometry. Gauss subconciously hinted the idea that knots can be share the same behavioural tendencies as geometric objects. This motivates the utility of certain programming techniques, particularly recursion and recursive relations, that can be employed to further manipulate these objects. Such algorithms can be developed to efficiently study arbitrarily intricate knot structures, identifying patterns and allowing us to test hypotheses on properties of abstract knots. As a result, developments in Knot Theory in the past 50 years is directly correlated the increased usage of programming in mathematics. \n",
    "\n",
    "We begin by building intuition on recursive relations through the exploration of continuted fractions. In Section 1.1, we establish two unique functions that calculate a continuted fraction for a given p/q, where p,q are coprime. In doing so, we motivate the use of Euclid's Algorithm. Next, in Section 1.2, we develop an efficient function that will recalculate and output a rational number given an arbitrary list. These introductory exereices will provide the reader with a foundation on working with fractions and recursions computationally. As we progress, we shall delve deeper into the subtle relationship between recursion and knots - in particular, how we use recursive relations to define, examine, and test properties of knots. "
   ]
  },
  {
   "cell_type": "markdown",
   "metadata": {},
   "source": [
    "Having established the fundamentals, in the next chapter, we shall explore knot theory more abstractly, testing our hypotheses using the computational tools we have previously developed. We first introduce 2-bridge links - an object with several loops containing two local maxima - and design a function to output a 2-bridge link diagram for a given rational number p/q with certain conditions. We make use of the fact that, for every rational number p/q, where p,q are coprime, there exists an associated 2-bridge link S(p,q). Having constructed and optimised this algorithm, we proceed to run tests to deduce properties about 2-bridge links. This includes experiments on manipulating the parity of p and q, and testing potential periodicity of S(p,q). We then summarise by investigating the relationship between S(p,q) and S(p,q’), where p is fixed and qq’ satisfies a given modular relation.  \n",
    "\n",
    "We conclude this project by introducing knot invariants, particularly 2-bridge link invariants. We analyse d-invariants of S(p,q), i.e. a collection of p rational numbers denoted d(S(p,q),i). We do so by establishing a homomorphism between our S(p,q) knot group and an arbitrary 3-dimensional manifold, say L(p,q), and then take the 'd'-invariant of this manifold. First, we will write a function to calculate d(S(p,q),i), and list the outputted rational numbers. Then, we study the effect of the d-invariant in the special case that S(p,q_1) = S(p,q_2) for arbitrary coprime p,q_1,q_2. We conclude by examining some more theory on d-invariants using our code. "
   ]
  },
  {
   "cell_type": "markdown",
   "metadata": {},
   "source": [
    "<a id='PartA'></a>\n",
    "## Chapter 1: Continued Fractions\n"
   ]
  },
  {
   "cell_type": "markdown",
   "metadata": {},
   "source": [
    "In this section, we shall construct two separate functions to compute differing continued factions for a rational number $p/q$, where $p$ and $q$ are coprime. Following this we also construct a function which recalculates a rational $p/q$ from a given continued fraction list. These functions will show to be very useful for our applications in [Chapter 2], where we focus on creating 2-bridge link diagrams to verify a number of intriguing properties about 2-bridge knots."
   ]
  },
  {
   "cell_type": "markdown",
   "metadata": {},
   "source": [
    "<a id='S1'></a>\n",
    "### Section 1.1: Continued fraction generators. \n"
   ]
  },
  {
   "cell_type": "markdown",
   "metadata": {},
   "source": [
    "Our first function, `cont_frac_exp1(p,q)`, makes use of modulo arithmetic to obtain our result. Our function operates as follows:",
    "\n",
    "1.\tWe begin by taking the integer division of $p/q$, which we assign to a value $r$\n",
    "\n",
    "2.\tFollowing this integer division, we take the remainder of this division which we assign to a value $s$.\n",
    "\n",
    "3.\tWe then repeat this step recursively, appending each $r$ value to a contnued fraction list until we reach a point where $s=0$.\n",
    "\n",
    "At this point, our list is complete."
   ]
  },
  {
   "cell_type": "markdown",
   "metadata": {},
   "source": [
    "See below for the code definition of our function.\n"
   ]
  },
  {
   "cell_type": "code",
   "execution_count": null,
   "metadata": {},
   "outputs": [],
   "source": [
    "# First continued fraction function\n",
    "def cont_frac_exp1(p,q):\n",
    "    result=[]\n",
    "    while q != 0:\n",
    "        r=p//q\n",
    "        s=p%q # Making use of the modulo arithmatic\n",
    "        result.append(r)\n",
    "        p, q = q, s\n",
    "    return result"
   ]
  },
  {
   "cell_type": "markdown",
   "metadata": {},
   "source": [
    "Below we use our function to compute the continued fraction sequence for $p/q$ = $9/7$; here, we see that our initial $r$ value is $r=1$ (as integer division of $p/q$ gives us $1$), and our initial $s$ value is $s=2$. Note this aligns with the fact that $9$(mod$7$) = $2$.\n",
    "The steps are as follows:\n",
    "\n",
    "1. We assign r = 9 // 7 = 1.\n",
    "\n",
    "2. We assign s = 9 % 7 = 2. \n",
    "\n",
    "3. We append r = 1 to our list, so our list result = [1], as in the code. Then reassigning p, q = q, s, I.e 9, 7 = 7, 2, we begin the process again.\n",
    "Now r = 7 // 2 = 3, and s = 7 % 2 = 1. And our list, result = [1,3]. As earlier, we reassign 7, 2 = 2, 1. Now r = 2 // 1 = 2 and s = 2 % 1 = 0. We have s = 0, so as our final step we append '2' to our list, and we are done.\n",
    "So our resulting list should be [1,3,2], after appending each value of r.\n",
    "\n"
   ]
  },
  {
   "cell_type": "code",
   "execution_count": 1,
   "metadata": {},
   "outputs": [
    {
     "name": "stdout",
     "output_type": "stream",
     "text": [
      "[1, 3, 2]\n"
     ]
    }
   ],
   "source": [
    "# Testing Cell\n",
    "cont_frac_exp1(9,7)"
   ]
  },
  {
   "cell_type": "markdown",
   "metadata": {},
   "source": [
    "<a id='PartB'></a>\n",
    "## Chapter 2: 2-bridge links "
   ]
  },
  {
   "cell_type": "markdown",
   "metadata": {},
   "source": [
    "In this section, we shall focus on producing 2-bridge link diagrams from continued fractions as discussed in Chapter 1, and using these diagrams to verify certain properties of knots and 2-bridge links.\n",
    "Note that every continued fraction $[a_1,a_2,...,a_n]$, generated from a rational $p/q$, has an associated 2-bridge link $S(p,q)$, from which we can generate a visual representation.\n"
   ]
  },
  {
   "cell_type": "markdown",
   "metadata": {},
   "source": [
    "<a id='S4'></a>\n",
    "### Section 2.1: Refresher of diagram algorithm "
   ]
  },
  {
   "cell_type": "markdown",
   "metadata": {},
   "source": [
    "We start our diagram off with four parallel strands. \n",
    "\n",
    "Consider a continued fraction, given as a list [$a_1,a_2,...,a_n$]. For each $a_i$ in out list, we add a twist between two parallel strands:\n",
    "\n",
    "> If $i$ is even, we twist the middle two strands.\n",
    "\n",
    "> If $i$ is odd, we twist the rightmost two strands.\n",
    "\n",
    "Additionally, we ensure we twist the rightmost strand over the left if $i$ is odd AND $a_i$ is positive; we switch this twist to left over right if either of these change.\n",
    "\n",
    "Finally, we must connect the diagram at the beginning and end.\n"
   ]
  },
  {
   "cell_type": "markdown",
   "metadata": {},
   "source": [
    "<a id='S4.1'></a> \n",
    "#### Part 2.1.1 Generating 2-bridge link diagrams\n"
   ]
  },
  {
   "cell_type": "markdown",
   "metadata": {},
   "source": [
    "We begin by writing code to diaplay the various twists we will need to use when drawing a 2-bridge diagram for any rational number $p/q$, as discussed in Chapter 1.\n",
    "\n",
    "This function, `print_crossing(type)`, will take four strands and display twists corresponding to each possibility from our algorithm, as mentioned above.\n",
    "\n",
    "Note that we will align these crossing types with a function, `diagram(p,q)`, to draw our diagrams (see below in Section ...).\n"
   ]
  },
  {
   "cell_type": "code",
   "execution_count": null,
   "metadata": {},
   "outputs": [],
   "source": [
    "# Code to display various twists in a 2-bridge link.\n",
    "def print_crossing(type):\n",
    "    if type == 1:\n",
    "    print(| |  \\ / )\n",
    "    print(| |   /  )\n",
    "    print(| |  / \\ )\n",
    "elif type ==-1:\n",
    "    print(| |  \\ / )\n",
    "    print(| |   \\  )\n",
    "    print(| |  / \\ )\n",
    "elif type == 2:\n",
    "    print(| \\ /  | )\n",
    "    print(|  /   | )\n",
    "    print(| / \\  | )\n",
    "elif type == -2:\n",
    "    print(| \\ /  | )\n",
    "    print(|  \\   | )\n",
    "    print(| / \\  | )\n",   
    "elif type == 10:\n",
    "    print( ______  )\n",
    "    print(|  __  | )\n",
    "    print(| |  | | )\n",
    "elif type == -10:\n",     
    "    print(| |__| | )\n",
    "    print(|______|  )\n",
    "elif type == -20:\n",
    "    print(| |  | |)\n",
    "    print(|_|  |_| )\n"
   ]
  },
  {
   "cell_type": "markdown",
   "metadata": {},
   "source": [
    "We shall now create a function, `diagram(p,q)`, which generates a 2-bridge link diagram for given rational $p/q$."
   ]
  },
  {
   "cell_type": "markdown",
   "metadata": {},
   "source": [
    "This function works by inputting said $p,q$, generating an array $[a_1,a_2,...,a_n]$ from our function `cont_frac_exp1(p,q)`, then implementing various twists as indicated by our function `print_crossing(type)`."
   ]
  },
  {
   "cell_type": "code",
   "execution_count": null,
   "metadata": {},
   "outputs": [],
   "source": [
    "def diagram(p,q):\n",
    "\n",
    "array = cont_frac_exp1(p,q)\n",
    "\n",
    "num = len(array)\n",
    "\n",
    "print_crossing(10)\n",
    "\n",
    "for i in range(num):\n", 
    "\n",
    "    if array[i] > 0 and (i+1)%2 != 0:\n",
    "        for j in range(array[i]):\n",
    "           print_crossing(1)\n",
    "   elif array[i-1] < 0 and (i+1)%2 != 0:\n",
    "       for j in range(abs(array[i])):\n",
    "           print_crossing(-1)\n",
    "   elif array[i-1] > 0 and (i+1)%2 == 0:\n",
    "       for j in range(abs(array[i])):\n",
    "           print_crossing(-2)\n",
    "   elif array[i-1] < 0 and (i+1)%2 == 0:\n",
    "       for j in range(abs(array[i])):\n",
    "           print_crossing(2)  \n",
    " \n",      
    "if num%2 == 0:\n",
    "    print_crossing(-20)\n",
    "else:\n",
    "    print_crossing(-10)\n"
   ]
  },
  {
   "cell_type": "markdown",
   "metadata": {},
   "source": [
    "<a id='S4.1'></a> \n",
    "#### Part 2.1.2 Examples of diagrams\n"
   ]
  },
  {
   "cell_type": "markdown",
   "metadata": {},
   "source": [
    "We illustrate the above function with an example."
   ]
  },
  {
   "cell_type": "code",
   "execution_count": 2,
   "metadata": {},
   "outputs": [
    {
     "name": "stdout",
     "output_type": "stream",
     "text": [
      " ______ \n", 
      "|  __  |\n", 
      "| |  | | \n",
      "| |  \\ / \n",
      "| |   /  \n",
      "| |  / \\ \n",
      "| \\ /  | \n",
      "|  \\   | \n",
      "| / \\  | \n",
      "| \\ /  | \n",
      "|  \\   | \n",
      "| / \\  | \n",
      "| \\ /  | \n",
      "|  \\   | \n",      
      "| / \\  | \n",
      "| |  \\ / \n",
      "| |   /  \n",
      "| |  / \\ \n",
      "| |  \\ / \n",
      "| |   /  \n",
      "| |  / \\ \n",
      "| |__| | \n",
      "|______|  \n"
     ]
    }
   ],
   "source": [
    "diagram(9,7)"
   ]
  },
  {
   "cell_type": "markdown",
   "metadata": {},
   "source": [
    "<a id='S4'></a>\n",
    "### Section 2.2:  Verification of results using 2-bridge link diagrams "
   ]
  },
  {
   "cell_type": "markdown",
   "metadata": {},
   "source": [
    "We will use our previous function `diagram(p,q)` as dicussed in Section 2.1 which allows us to generate 2-bridge link diagrams to test certain properties of 2-bridge links. "
   ]
  },
  {
   "cell_type": "markdown",
   "metadata": {},
   "source": [
    "**Claim (a):** S(p,q) is a knot if p is odd, and has 2 components if p is even. "
   ]
  },
  {
   "cell_type": "markdown",
   "metadata": {},
   "source": [
   "**Solution + Explanation:** We find this claim is incorrect by means of a counterexample. This is substantiated by [REFER HERE TO EXACT DIAGRAM]."
   ]
  },  
  {
   "cell_type": "code",
   "execution_count": null,
   "metadata": {},
   "outputs": [],
   "source": [
    " "
   ]
  },
  {
   "cell_type": "markdown",
   "metadata": {},
   "source": [
    "Here, p is an even number, yet it gives the unknot (i.e. the trivial knot), as opposed to two separate links, as claimed. Further, if p is an odd number, regardless of the parity of p (modq), the output will consistently be the unknot. (HAVE TO GIVE EXAMPLES, SOME SEMBLANCE OF PROOF) "
   ]
  },
  {
   "cell_type": "markdown",
   "metadata": {},
   "source": [
    "**Claim (b):** The link S(p,q) does not depend on the choice of continued fraction, even though the diagram does."
   ]
  },
  {
   "cell_type": "markdown",
   "metadata": {},
   "source": [
    "**Solution + Explanation:** We find this to be a true statement. We introduce the two lists [1,3,2] and [2,-2,2,-3]. Consider these two continued fraction expansions. {SHOW DIAGRAMS HERE}. Inputting these two lists into our diagram-generating functions, we find that two unique 2-bridge link diagrams are outputted. However, using Euclid's division algorithm, we find that these continued fractions simplify to 9/7. We can verify this by applying the Reidemeister moves to the two diagrams, which give us the same knot. More abstractly, this claim is suggesting that the topological properties of the S(p,q) link remains consistent. Hence, a rigorous proof would entail showing the resulting knots are topologically equivalent regardless of how p/q is represented. "
   ]
  },
  {
   "cell_type": "markdown",
   "metadata": {},
   "source": [
    "**Claim (c):** If n in Z, then S(p,q) = S(p,q+np)."
   ]
  },
  {
   "cell_type": "markdown",
   "metadata": {},
   "source": [
    "**Solution + Explanation:** This claim suggests certain periodic behaviour of 2-bridge links. Having tested this claim with numerous examples, it seems to be a true statement. However, this is by no means a rigorous proof. A proof would have to show the topological equivalence of the S(p,q) and S(p,q+np) knot. However, logically approaching this question, we have insight on why this may be true. (EXPLAIN LOGICALLY) "
   ]
  },
  {
   "cell_type": "markdown",
   "metadata": {},
   "source": [
    "**Claim (d):** Changing the sign of all the crossings in S(p,q) gives you S(p,-q) = S(p,p-q). "
   ]
  },
  {
   "cell_type": "markdown",
   "metadata": {},
   "source": [
    "**Solution + Explanation:** Again, we find this claim to be incorrect by means of a counterexample.\n",
    "\n",
    "Here, we take p = 9, q = 7, thus p - q = 9 - 7 = 2. (see below). "
   ]
  },
  {
   "cell_type": "code",
   "execution_count": 2,
   "metadata": {},
   "outputs": [
    {
     "name": "stdout",
     "output_type": "stream",
     "text": [
      " ______ \n",
      "|  __  | \n",
      "| |  | | \n",
      "| \\ /  | \n",
      "|  /   | \n",
      "| / \\  | \n",
      "| |  \\ / \n",
      "| |   /  \n",
      "| |  / \\ \n",
      "| |  \\ / \n",
      "| |   /  \n",
      "| |  / \\ \n",
      "| \\ /  | \n",
      "|  \\   | \n",
      "| / \\  | \n",
      "| \\ /  | \n",
      "|  \\   | \n",
      "| / \\  | \n",
      "| |  | |\n",
      "|_|  |_|\n"
     ]
    }
   ],
   "source": [
    "diagram(9,-7)"
   ]
  },
  {
   "cell_type": "code",
   "execution_count": 2,
   "metadata": {},
   "outputs": [
    {
     "name": "stdout",
     "output_type": "stream",
     "text": [
      " ______ \n", 
      "|  __  |\n",  
      "| |  | | \n", 
      "| |  \\ / \n", 
      "| |   /  \n", 
      "| |  / \\ \n", 
      "| |  \\ / \n", 
      "| |   /  \n", 
      "| |  / \\ \n", 
      "| |  \\ / \n", 
      "| |   /  \n", 
      "| |  / \\ \n", 
      "| |  \\ / \n", 
      "| |   /  \n", 
      "| |  / \\ \n", 
      "| \\ /  | \n", 
      "|  \\   | \n", 
      "| / \\  | \n", 
      "| \\ /  | \n", 
      "|  \\   | \n", 
      "| / \\  | \n", 
      "| |  | |\n", 
      "|_|  |_|\n"
     ]
    }
   ],
   "source": [
    "diagram(9,9-7)"
   ]
  },
  {
   "cell_type": "markdown",
   "metadata": {},
   "source": [
    "... "
   ]
  },
  {
   "cell_type": "markdown",
   "metadata": {},
   "source": [
    "<a id='S5'></a>\n",
    "### Section 2.2: Tower of Hanoi "
   ]
  },
  {
   "cell_type": "markdown",
   "metadata": {},
   "source": [
    ""
   ]
  },
  {
   "cell_type": "markdown",
   "metadata": {},
   "source": [
    "<a id='S5.1'></a> \n",
    "#### Part 2.2.1 Definitions and Objectives"
   ]
  },
  {
   "cell_type": "markdown",
   "metadata": {},
   "source": [
    "\n",
    "In this part, we shall look at the necessary definitions and code to describe our objectives accurately in terms of the output of the code.\n",
    "\n",
    "Firstly, we need to make some key definitions. Note that we shall call the pegs from left to right pegs $A$, $B$ and $C$ respectively.\n"
   ]
  },
  {
   "cell_type": "markdown",
   "metadata": {},
   "source": [
    "> **Definition**: In the puzzle, A **move** consists of the following two pieces of information:\n",
    ">\n",
    "> •\tA positive integer $d$ as the disc (of size $d$) being moved, and\n",
    ">\n",
    "> •\tAn indicator of the direction of the move, for which the values can only be Left or Right.\n",
    "\n",
    "> **Definition**: A **peg** is a list of discs. A **configuration** (of the pegs) is the ordered triple $T =  (A, B, C)$ of the pegs mentioned thereof.\n",
    "\n",
    "Remark: We shall explain further what an \"indicator\" means in this context when we implement the class `Move` later.\n"
   ]
  },
  {
   "cell_type": "markdown",
   "metadata": {},
   "source": [
    "Next, we need to know mathematically what a puzzle is.\n",
    "\n",
    "> **Definition**: A **puzzle** $P$ consists of the following three pieces of information:\n",
    ">\n",
    "> •\tA configuration called an **initial configuration** $T_0$,\n",
    ">\n",
    "> •\tA configuration called an **objective configuration** $T_f$, and\n",
    ">\n",
    "> •\tA set of Rules $R$.\n",
    "\n",
    "Different variants of the Towers of Hanoi has different initial configurations, objective configurations, and rules.\n"
   ]
  },
  {
   "cell_type": "markdown",
   "metadata": {},
   "source": [
    "We shall now introduce a rigorous definition of solving a puzzle.\n",
    "\n",
    "> **Definition**: Given a puzzle, a move $M$ and a configuration $T$, $M$ is **a valid move of $T$ under $P$** if the rules $R$ in $P$ are followed.\n",
    ">\n",
    "> For such a move, the configuration $T$ shall be changed accordingly to T′, which we shall call $T’$ as **the configuration attained by $M$ on $T$** (under $P$).\n",
    "\n",
    "> **Definition**: For a positive integer n, a **solution for the puzzle $P$ with $n$ disks** is a sequence of moves $<M_1, M_2, …, M_s>$ such that the following holds under $P$:\n",
    ">\n",
    "> 1. $T_i$ is the configuration attained by $M_i$ on $T_{i-1}$ ,\n",
    "> 2. $M_i$ is a valid move of $T_{i - 1}$,\n",
    "> 3. $T_s$ is the objective configuration of the puzzle $T_f$,\n",
    ">\n",
    "> for all $1 ≤ i ≤ s$. We shall call $s$ the **length** of the solution. This gives rise to a configuration list under a solution for the puzzle $<T_1, T_2, …, T_s>$.\n"
   ]
  },
  {
   "cell_type": "markdown",
   "metadata": {},
   "source": [
    "Using the terminology, we can state our objectives rigorously.\n",
    "\n",
    "> Objective: Given the number of discs $n$, we should find a solution and a configuration list of the following puzzles:\n",
    ">\n",
    "> •\t$P$, the Classical Tower of Hanoi Problem,\n",
    ">\n",
    "> •\t$P$, the No Wrap Variant Problem, where wrap-around is prohibited, and\n",
    ">\n",
    "> •\t$P$, the Bicolor Variant Problem, where the task is to separate 2 colours of discs.\n",
    "\n",
    "Note that the output, namely the solution and the configuration list, shall be useful when we animate the problem in [Part 2.2.4](#S5.4).\n",
    "\n",
    "It would be convenient for us to define $M$ and $T$ as a type of their own, as it would be easier to produce solutions and configuration lists in Python in that we can realize them as a `list` of a particular type.\n"
   ]
  },
  {
   "cell_type": "markdown",
   "metadata": {},
   "source": [
    "We shall initialise $T$ as a list of lists. The structure of the tower is also noticeably clear from this. Lists are also mutable; hence it shall be easier for us to change the content later."
   ]
  },
  {
   "cell_type": "code",
   "execution_count": null,
   "metadata": {},
   "outputs": [],
   "source": [
    "A = list(range(1, 7))\n",
    "B = []\n",
    "C= []\n",
    "Tow = [A, B, C]\n",
    "print(Tow)"
   ]
  },
  {
   "cell_type": "markdown",
   "metadata": {},
   "source": [
    "In contrast, a move does not have to be mutable. Thus, it would be beneficial to exploit the object-oriented programming aspect of Python, which is well-explained in their documentation [(Python Software Foundation, 2022)](#PSF2022). Abiding by the definition, we shall define a new class `Move` that contains the two aspects: `disk` and `direction`."
   ]
  },
  {
   "cell_type": "code",
   "execution_count": null,
   "metadata": {},
   "outputs": [],
   "source": [
    "from ToH import *"
   ]
  },
  {
   "cell_type": "code",
   "execution_count": null,
   "metadata": {},
   "outputs": [],
   "source": [
    "# Example: Explore the Use of the class Move\n",
    "# Declare a Move\n",
    "M1 = Move()\n",
    "M1.direction = \"Right\"\n",
    "M1.disk = 5\n",
    "# Print out a Move\n",
    "print(M1)\n",
    "# Another way to Declare a Move\n",
    "M2 = Move(3, \"Left\")\n",
    "# Accessing the Variable \n",
    "print(M2.disk)\n",
    "print(M2.direction)\n",
    "# Note: We can integrate f-strings in classes as follows:\n",
    "print(f\"{M1} is a good move!\")\n",
    "print(f\"Do we want to {M2}?\")\n",
    "# We can test whether two moves are equal,\n",
    "# obviously, they are equal iff they contain the same disk and direction\n",
    "print(M1 == M2)"
   ]
  },
  {
   "cell_type": "markdown",
   "metadata": {},
   "source": [
    "It is now easier to determine the following types of solutions that we are looking for:\n",
    "\n",
    "-\tA Solution: A `list` of Type `Move`, and\n",
    "\n",
    "-\tA configuration list under a solution: a `list` of type `int list X int list X int list`, where `X` denotes the Cartesian product.\n",
    "\n",
    "From now on, we shall assume that everything shall be of the right type. That is, $n$ shall automatically denote the number of discs by default, and a solution and configuration shall always have the aforementioned type. This is a general programming concept called *duck typing*, and it stems from the following claim:\n",
    "\n",
    "> If something walks and quacks like a duck, then it must be a duck. \n",
    ">\n",
    "> [(“Understanding Interfaces in Go – Duncan Leung”)](#Leung2021)\n",
    "\n",
    "This is a *pythonic* design, for which the concept is explained in their documentation in (Python Software Foundation, 2001)."
   ]
  },
  {
   "cell_type": "markdown",
   "metadata": {},
   "source": [
    "<a id='S5.2'></a> \n",
    "#### Part 2.2.2 Producing a Solution"
   ]
  },
  {
   "cell_type": "markdown",
   "metadata": {},
   "source": [
    "Using the above, we shall create a function that solves the puzzles using a powerful technique called **mutual recursion**. We have seen a lot of examples of simple recursion in lectures, but to produce the required solution for this case, we need to harness the power of mutual recursion. That is, we use multiple functions that recursively call each other.\n",
    "\n",
    "Mutual recursion is a powerful idea, and there are many practical applications. One can see [(Rubio-Sánchez, Urquiza-Fuentes and Pareja-Flores, 2008)](#RUP2008) for more examples.\n",
    "\n",
    "In particular, the following pseudocode illustrates the idea. Note that `MoveLeft(n)` produces the solution we need since the objective of the puzzle is to move the discs from peg A to C."
   ]
  },
  {
   "cell_type": "markdown",
   "metadata": {},
   "source": [
    "```\n",
    "DEFINE MoveLeft(n): \\\\ Solution for the classical Puzzle - Move n discs from peg A to C\n",
    "    if n = 1 \\\\ Base Case\n",
    "        return [Move (1, 'Left')]\n",
    "    else:\n",
    "        \\\\ Perform the Following 3 Steps in order:\n",
    "        1. MoveRight(n-1) \\\\ Move the first n-1 discs from peg A to B\n",
    "        2. Move(n, 'Left') \\\\ Move disc n from peg A to C\n",
    "        3. MoveRight(n-1) \\\\ Move the first n-1 discs from peg B to Peg C\n",
    "END\n",
    "\n",
    "DEFINE MoveRight(n): \\\\ Solution for moving n discs from peg C to A\n",
    "    if n = 1 \\\\ Base Case\n",
    "        return [Move(1, 'Right')]\n",
    "    else:\n",
    "        \\\\ Perform the Following 3 Steps in order:\n",
    "        1. MoveLeft(n-1) \\\\ Move the first n-1 discs from peg A to C\n",
    "        2. Move(n, 'Right') \\\\ Move disc n from peg A to B\n",
    "        3. MoveLeft(n-1) \\\\ Move the first n-1 discs from peg C to Peg B\n",
    "END\n",
    "```"
   ]
  },
  {
   "cell_type": "markdown",
   "metadata": {},
   "source": [
    "As seen, the function `MoveLeft` and `MoveRight` recursively call each other, this is an idea we shall keep on using. Now we shall see how it is implemented in Python."
   ]
  },
  {
   "cell_type": "markdown",
   "metadata": {},
   "source": [
    "Note that, other than the recursive call, memoization is implemented. This drastically improves the running time of the command, especially on large $n$. We will look at the space/time complexity issue in the [last part](#S5.5).\n",
    "\n",
    "Now let us see the solution to the puzzle with $n = 4$:\n"
   ]
  },
  {
   "cell_type": "code",
   "execution_count": null,
   "metadata": {},
   "outputs": [],
   "source": [
    "print(ToH_Move_Left(4))"
   ]
  },
  {
   "cell_type": "markdown",
   "metadata": {},
   "source": [
    "This is not particularly useful, because every element had been masked as an object. In order to see the moves, we can use a for loop:"
   ]
  },
  {
   "cell_type": "code",
   "execution_count": null,
   "metadata": {},
   "outputs": [],
   "source": [
    "for move in ToH_Move_Left(4):\n",
    "    print(move)"
   ]
  },
  {
   "cell_type": "markdown",
   "metadata": {},
   "source": [
    "So, we have produced our solution for the classical puzzle as required. We can also investigate the length of the solution:"
   ]
  },
  {
   "cell_type": "code",
   "execution_count": null,
   "metadata": {},
   "outputs": [],
   "source": [
    "for i in range(3, 7):\n",
    "    print(f'for {i} disks, length of solution is {len(ToH_Move_Left(i))}')\n"
   ]
  },
  {
   "cell_type": "markdown",
   "metadata": {},
   "source": [
    "It is not hard to show the (optimal) length for this classical version of the puzzle is always $2^n - 1$. This is because the length $T(n)$ always follow the recursive relation:\n",
    "$$\\begin{cases}T(1) = 1 \\\\ T(n) = T(n-1) + 1 + T(n-1) = 2T(n-1)+1\\end{cases}$$\n",
    "\n",
    "Note that how the recursive relation above closely resembles the implementation above. Solving it using any techniques we can get $T(n) = 2^n - 1$ (it can also be readily proven from mathematical induction).\n",
    "\n",
    "This actually means as $n$ grows, the length of the list called by `ToH_Move_Left(n)` increases exponentially. This will quickly causes space issue when $n > 16$ . But as we can see in the [later sections](#S5.5), even with an exponentially long list, the running time can stay rather constant with memoization.\n"
   ]
  },
  {
   "cell_type": "markdown",
   "metadata": {},
   "source": [
    "We shall now look at different variants of the puzzle. Firstly, we shall deal with the variant where no wrapping is allowed. Another equivalent way of forming this puzzle would be considering the puzzle as the classical variation of the Tower of Hanoi puzzle, with an additional rule that *every move must involve peg $B$*."
   ]
  },
  {
   "cell_type": "markdown",
   "metadata": {},
   "source": [
    "We shall also handle the problem with mutual recursion with a pseudocode algorithm; this one is particularly inspired by the discussion at [(Chen, 2015)](#Chen2015).\n",
    "\n",
    "```\n",
    "DEFINE NoWrap_Left(n): \\\\ Solution for the puzzle - Move n discs from peg A to C\n",
    "    if n = 1: \n",
    "        \\\\ Perform the following 2 steps in order:\n",
    "        1. Move(1, 'Right') \\\\ move disc from A to B\n",
    "        2. Move(1, 'Right') \\\\ move disc from B to C\n",
    "    else:\n",
    "        \\\\ Perform the 5 Steps in Order:\n",
    "        1. NoWrap_Left(n) \\\\ move n-1 from A to C \n",
    "        2. Move(n, 'Right') \\\\ move disc n from A to B\n",
    "        3. NoWrap_Right(n) \\\\ move n-1 from C to A \n",
    "        4. Move(n, 'Right') \\\\ move disc n from B to C\n",
    "        5. NoWrap_Left(n) \\\\move n-1 from A to C \n",
    "END    \n",
    "\n",
    "DEFINE NoWrap_Right(n): \\\\ Solution for Moving n discs from peg C to A\n",
    "    if n = 1:\n",
    "        \\\\ Perform the following 2 steps in order:\n",
    "        1. Move(1, 'Left') \\\\ move disc from C to B\n",
    "        2. Move(1, 'Left') \\\\ move disc from B to A\n",
    "    else:\n",
    "        \\\\ Perform the 5 Steps in Order:\n",
    "        1. NoWrap_Right(n) \\\\ move n-1 from C to A \n",
    "        2. Move(n, 'Left') \\\\ move disc n from C to B\n",
    "        3. NoWrap_Left(n) \\\\ move n-1 from A to C \n",
    "        4. Move(n, 'Left') \\\\ move disc n from B to A\n",
    "        5. NoWrap_Right(n) \\\\move n-1 from C to A \n",
    "END\n",
    "```\n",
    "The implementation is analogous to the classical variant of the puzzle. We shall also have a look at the solution and its length.\n"
   ]
  },
  {
   "cell_type": "code",
   "execution_count": null,
   "metadata": {},
   "outputs": [],
   "source": [
    "for move in ToH_NoWrap_Move_Left(3):\n",
    "    print(move)"
   ]
  },
  {
   "cell_type": "code",
   "execution_count": null,
   "metadata": {},
   "outputs": [],
   "source": [
    "for i in range(3, 7):\n",
    "    print(f'for {i} disks, length of solution is {len(ToH_NoWrap_Move_Left(i))}')"
   ]
  },
  {
   "cell_type": "markdown",
   "metadata": {},
   "source": [
    "And, in fact, we can show that the (optimal) length of this solution is $3^n -1$. The intuition would be that we use one extra move in every iteration to accommodate the fact that it must pass through peg B.\n",
    "\n",
    "\n",
    "\n"
   ]
  },
  {
   "cell_type": "markdown",
   "metadata": {},
   "source": [
    "Finally, we shall deal with the bicolour variant. Note that this implementation is not optimal, as we would see in the [next part](#S5.3).\n",
    "\n",
    "The strategy here is to first move everything to peg $B$ and then redistribute it after changing the bottom two discs. Again, we shall start by introducing pseudocode:\n",
    "\n",
    "```\n",
    "DEFINE ToCenter(n): \\\\ Solution for Moving n discs to peg B\n",
    "    if n = 1:  Move(1, 'Right') \n",
    "    Elif n = 2: [Move(2, 'Left'), Move(1, 'Right')]\n",
    "    else:\n",
    "        if n is even:\n",
    "            \\\\ Perform the 4 Steps in Order:\n",
    "            1. ToCenter(n-2) \\\\ move n-2 discs to peg B\n",
    "            2. Left(n-2) \\\\ move n-2 discs from B to A\n",
    "            3. Move(n, 'Left') \\\\ move n from C to B \n",
    "            4. Right(n-1) \\\\move n-1 discs from A to B \n",
    "        else: \\\\ if n is odd\n",
    "            \\\\ Perform the 4 Steps in Order:\n",
    "            1. ToCenter(n-1) \\\\ move n-1 discs to peg B\n",
    "            2. Right(n-1) \\\\ move n-1 discs from B to C\n",
    "            3. Move(n, 'Right') \\\\ move n from A to B \n",
    "            4. Left(n-1) \\\\move n-1 discs from C to B \n",
    "END    \n",
    "\n",
    "DEFINE Solve_Bicolor(n): \\\\ Solution for the Bicolor Variant\n",
    "    if n is not even, RAISE error\n",
    "    if n = 2: [Move(2, 'Left'), Move(1, 'Left'), Move(2, 'Left')]\n",
    "    else:\n",
    "        \\\\ Perform the 3 Steps in Order:\n",
    "        1. ToCenter(n-1) \\\\ move n-1 discs to peg B\n",
    "        2. Move(n, 'Left') \\\\ move disc n from C to A\n",
    "        3. REVERSE ToCenter(n) \\\\ redistribute the n-1 discs to their opposite pegs\n",
    "END\n",
    "```"
   ]
  },
  {
   "cell_type": "markdown",
   "metadata": {},
   "source": [
    "Note that, for the last step, we shall need to reverse the whole list. In this case, we shall need to create a new function `rev_list` to reverse a list."
   ]
  },
  {
   "cell_type": "code",
   "execution_count": null,
   "metadata": {},
   "outputs": [],
   "source": [
    "for i in range(2, 12, 2):\n",
    "    print(f'for {i} disks, length of solution is {len(ToH_Bicolor_Solve(i))}')"
   ]
  },
  {
   "cell_type": "markdown",
   "metadata": {},
   "source": [
    "<a id='S5.3'></a> \n",
    "#### Part 2.2.3 Identifying Valid Moves"
   ]
  },
  {
   "cell_type": "markdown",
   "metadata": {},
   "source": [
    "In this part, we shall introduce the function `ToH_Valid_Move` in order to detect whether a move $M$ is a valid move of $T$ under $P$. We shall then use it to return the configuration list under a solution. This will achieve the objective set in the first part of our discussion. From here, we shall also present an interactive version of the puzzle.\n"
   ]
  },
  {
   "cell_type": "markdown",
   "metadata": {},
   "source": [
    "The key idea of the `ToH_Valid_Move` Command is as follows:\n",
    "\n",
    ">1.\tGiven a move `m`, assign a direction of m (i.e., `m.direction`) as Left or Right with a direction number `dir_num`, with the value being `1` when the direction is Right, and `-1` otherwise.\n",
    "> 2. Given the Move `m,` ensure that the disc m.disc is at the top of one of the pegs. Find the peg and call that peg `count`.\n",
    "> 3. Calculate the value of `count + dir_num` and assign it to `tar`. This tells us where we can put the disc at the target configuration. If wrapping around is allowed, we can work modulo 3; otherwise `tar` can only be 0, 1 or 2.\n",
    ">\n",
    "> 4. Mutate the configuration such that it becomes the configuration attained by `m` on `config` if the boolean variable `Validmove` is true, otherwise, return the unchanged configuration.\n"
   ]
  },
  {
   "cell_type": "markdown",
   "metadata": {},
   "source": [
    "The key point here is point 4. Due to the process of mutating the original configuration `config`, it will change whenever we call the function, so we do not have to redefine it upon successive calls of the function. \n",
    "\n",
    "This is an immensely powerful design (in technical jargon, he variable `config` is *dynamic*) that will save us some lines when designing the interactive version of the puzzles. The following code block illustrates this idea."
   ]
  },
  {
   "cell_type": "code",
   "execution_count": null,
   "metadata": {},
   "outputs": [],
   "source": [
    "# Test Cell: The ToH_Valid_Move Function is dynamic\n",
    "A = [1, 2, 3]\n",
    "B = []\n",
    "C = []\n",
    "Tow = [A, B, C]\n",
    "M_1 = Move(1, 'Left')\n",
    "M_2 = Move(2, 'Left')\n",
    "print(ToH_Valid_Move(M_1, Tow, WrapAround = False, Verbose = True))\n",
    "print(ToH_Valid_Move(M_1, Tow, WrapAround = True, Verbose = True))\n",
    "# Note that how Tow changed to [[2, 3], [], [1]] instead of the original configuration\n",
    "print(Tow)\n",
    "print(ToH_Valid_Move(M_2, Tow, Verbose = True))\n",
    "print(ToH_Valid_Move(M_1, Tow, WrapAround = False))"
   ]
  },
  {
   "cell_type": "markdown",
   "metadata": {},
   "source": [
    "From here, we shall display the configuration list under a solution for the puzzle. We shall first start with the classical variant."
   ]
  },
  {
   "cell_type": "code",
   "execution_count": null,
   "metadata": {},
   "outputs": [],
   "source": []
  },
  {
   "cell_type": "code",
   "execution_count": null,
   "metadata": {},
   "outputs": [],
   "source": [
    "ToH_ConList_Display(4)"
   ]
  },
  {
   "cell_type": "markdown",
   "metadata": {},
   "source": [
    "We can deal with the no wrap variant and bicolor variant similarly."
   ]
  },
  {
   "cell_type": "code",
   "execution_count": null,
   "metadata": {},
   "outputs": [],
   "source": [
    "# No Wrap Variant\n",
    "ToH_NoWrap_ConList_Display(3)"
   ]
  },
  {
   "cell_type": "code",
   "execution_count": null,
   "metadata": {},
   "outputs": [],
   "source": [
    "#Bicolor Variant\n",
    "ToH_BiColor_ConList_Display(4)"
   ]
  },
  {
   "cell_type": "markdown",
   "metadata": {},
   "source": [
    "As we can see, the answer of the configuration list indeed matches the definition and the objective configuration. Note that, in the `ToH_BiColor_Solve` function, the output is sub-optimal. For example, note that the output, shown below, after 4 steps,\n",
    "\n",
    "```\n",
    "[[1, 3], [], [2, 4]] <-- HERE\n",
    "Step 1: move disc 2 to the Left\n",
    "[[1, 3], [2], [4]]\n",
    "Step 2: move disc 1 to the Right\n",
    "[[3], [1, 2], [4]]\n",
    "Step 3: move disc 1 to the Left\n",
    "[[1, 3], [2], [4]]\n",
    "Step 4: move disc 2 to the Right\n",
    "[[1, 3], [], [2, 4]] <-- HERE\n",
    "```\n",
    "\n",
    "brings us back to the original configuration, so this does not need to be part of the solution.\n",
    "\n",
    "From here, it is not hard for us to produce an interactive version of the three puzzles, where the user can feed in a move and play until the objective is reached."
   ]
  },
  {
   "cell_type": "code",
   "execution_count": null,
   "metadata": {},
   "outputs": [],
   "source": [
    "# Test: key press are c - 1 - 1 - Left\n",
    "ToH_interactive()"
   ]
  },
  {
   "cell_type": "markdown",
   "metadata": {},
   "source": [
    "<a id='S5.4'></a> \n",
    "#### Part 2.2.4 Animation of the Puzzles"
   ]
  },
  {
   "cell_type": "markdown",
   "metadata": {},
   "source": [
    "In this part, we shall look as to how we can integrate the solution and configuration list such that the puzzles can be displayed as an animation.\n",
    "\n",
    "First we shall create a background with a base and 3 pegs, just like the usual Tower of Hanoi setup."
   ]
  },
  {
   "cell_type": "markdown",
   "metadata": {},
   "source": [
    "Please run this line of code to export `ToH_BG.jpg` in the directory."
   ]
  },
  {
   "cell_type": "code",
   "execution_count": null,
   "metadata": {},
   "outputs": [],
   "source": [
    "ToH_Draw_Background()"
   ]
  },
  {
   "cell_type": "markdown",
   "metadata": {},
   "source": [
    "Now, in order to access and update the background, we just need to use the `image`, `load` and `bilt` command in the `PyGame` module.\n",
    "\n",
    "Note that we do not want to do the same and save discs as PNG files, and this is because they depend on the configuration, and they will be moved around in the animation.\n"
   ]
  },
  {
   "cell_type": "markdown",
   "metadata": {},
   "source": [
    "Another hurdle to overcome is the fact that discs come in varied sizes. Usually, they are cylinders of the same height, but since we are looking at the puzzle from a side view, we shall treat the discs as rectangles with different widths but the same height.\n",
    "\n",
    "In our implementation, the discs are labelled by the positive integers (which stemmed from the class `Move`), and we can set disc $1$ as $10$ pixels long, disc $2$ as $20$ pixels, ... et cetera.\n"
   ]
  },
  {
   "cell_type": "markdown",
   "metadata": {},
   "source": [
    "If the disc size is fixed, where the discs are placed is uniquely determined by the configuration. We shall take advantage of this and write a function that, given the configuration, outputs where the discs should be drawn.\n",
    "\n"
   ]
  },
  {
   "cell_type": "markdown",
   "metadata": {},
   "source": [
    "The `ToH_Get_Coordinate` acts as a helper to our animation functions, and we shall enumerate over the list to draw all the discs in a configuration."
   ]
  },
  {
   "cell_type": "code",
   "execution_count": null,
   "metadata": {},
   "outputs": [],
   "source": []
  },
  {
   "cell_type": "code",
   "execution_count": null,
   "metadata": {},
   "outputs": [],
   "source": [
    "ToH_Basic(5,1)"
   ]
  },
  {
   "cell_type": "markdown",
   "metadata": {},
   "source": [
    "(Note that the animation shows the configuration before applying the last move, thus it is easy to see that the animation produces the objective configuration.)\n",
    "\n",
    "Now we shall discuss the key difference between implementing this and the other two variants of the puzzle.\n",
    "\n",
    "1.\tThe No Wrap Variant is similar, except with WrapAround = False in the ToH_Valid_Move command.\n",
    "\n",
    "2.\tThe Bicolor Variant: The initial configuration of the discs shall be changed accordingly. We shall also colour the discs red and green instead of blue for visual effects.\n"
   ]
  },
  {
   "cell_type": "code",
   "execution_count": null,
   "metadata": {},
   "outputs": [],
   "source": [
    "ToH_NoWrap(3, 5)"
   ]
  },
  {
   "cell_type": "code",
   "execution_count": null,
   "metadata": {},
   "outputs": [],
   "source": [
    "ToH_BiColor(4, 8)"
   ]
  },
  {
   "cell_type": "markdown",
   "metadata": {},
   "source": [
    "From here, we can let the user choose the mode, discs, and speed factor using an interactive command."
   ]
  },
  {
   "cell_type": "code",
   "execution_count": null,
   "metadata": {},
   "outputs": [],
   "source": [
    "ToH_Animation_Interactive()"
   ]
  },
  {
   "cell_type": "markdown",
   "metadata": {},
   "source": [
    "<a id='S5.5'></a> \n",
    "#### Part 2.2.5 Extensions"
   ]
  },
  {
   "cell_type": "markdown",
   "metadata": {},
   "source": [
    "There are a lot of features we can add to the functions introduced in this part. Firstly, we look at implementing a smooth version of ToH_Basic, where the discs transfer smoothly."
   ]
  },
  {
   "cell_type": "code",
   "execution_count": null,
   "metadata": {},
   "outputs": [],
   "source": [
    "# Test Cells\n",
    "ToH_Basic_Smooth(4, 60) "
   ]
  },
  {
   "cell_type": "markdown",
   "metadata": {},
   "source": [
    "Now as promised in the previous parts, we look at different time and space complexity issue. \n",
    "\n",
    "First, recall that we discussed the classical amnd no wrap variant have optimal length of solution $2^n-1$ and $3^n-1$ respectively. The informal reason of why they are optimal is as follows:\n",
    "\n",
    "- In the classical variant, there must be one move where disk $n$ is moved from peg $A$ to $C$, before and after that, the move can be copied from the optimal moves in the solution of $n-1$ disks to solve the puzzle. That explains the $T(n-1)$ term in the recurrence relation.\n",
    "\n",
    "- Similarly, in the no wrap variant, there must be two move that move disk $n$ from peg $A$ to $B$, then peg $B$ to $C$, that leaves three 'gaps' in between the two moves. That's why there are three $T(n-1)$ term present.\n",
    "\n",
    "So in conclusion, the code for `ToH_Move_Left` and `ToH_NoWrap_Move_Left` is fully optimized in terms of solution length. However, we note that there exists numerous iterative solution that involve searching a valid move under a configuration (see the 'Solution' tab in [(Wikipedia Contributors, 2022)](#Wiki)). In our project, this may mean searching in a loop inside the function `ToH_Valid_Move`, which, to the authors, is an unncessary complication which may cause further runtime loss.\n",
    "\n",
    "However, We shall look at how memoization speeds up the function call for large values of $n$ to show the importance of this technique.  We first start by implementing the no memoization version of functions that produces a solution, with a suffix `_NoMem` after their usual names in order to distinguish them.\n"
   ]
  },
  {
   "cell_type": "code",
   "execution_count": null,
   "metadata": {},
   "outputs": [],
   "source": [
    "# Test Cell: The contemt of the no memoization version is the same as that of the original, memomized verion.\n",
    "all([ToH_Move_Left_Nomem(i) == ToH_Move_Left(i) for i in range(1, 9)])"
   ]
  },
  {
   "cell_type": "code",
   "execution_count": null,
   "metadata": {},
   "outputs": [],
   "source": [
    "%timeit ToH_Move_Left(12)\n",
    "%timeit ToH_Move_Left_Nomem(12)"
   ]
  },
  {
   "cell_type": "code",
   "execution_count": null,
   "metadata": {},
   "outputs": [],
   "source": [
    "all([ToH_NoWrap_Move_Left_Nomem(i) == ToH_NoWrap_Move_Left(i) for i in range(1, 9)])"
   ]
  },
  {
   "cell_type": "code",
   "execution_count": null,
   "metadata": {},
   "outputs": [],
   "source": [
    "%timeit ToH_NoWrap_Move_Left(12) \n",
    "%timeit ToH_NoWrap_Move_Left_Nomem(12) "
   ]
  },
  {
   "cell_type": "code",
   "execution_count": null,
   "metadata": {},
   "outputs": [],
   "source": [
    "all([ToH_Bicolor_Solve_Nomem(i) == ToH_Bicolor_Solve(i) for i in range(2, 12, 2)])"
   ]
  },
  {
   "cell_type": "code",
   "execution_count": null,
   "metadata": {},
   "outputs": [],
   "source": [
    "%timeit ToH_Bicolor_Solve(12)\n",
    "%timeit ToH_Bicolor_Solve_Nomem(12)"
   ]
  },
  {
   "cell_type": "markdown",
   "metadata": {},
   "source": [
    "As seen, as $n$ increases, the run time for no memoization dramatically increases, but with memoization, the running time can be kept to around $200$ nanoseconds."
   ]
  },
  {
   "cell_type": "markdown",
   "metadata": {},
   "source": [
    "<a id='Conc'></a>\n",
    "## Conclusion "
   ]
  },
  {
   "cell_type": "markdown",
   "metadata": {},
   "source": [
    "Throughout the project, we have explained the complex topic of fractals and we have seen examples of how mathematical concepts like recursion can be implemented using various computational techniques. As Mandelbrot himself [(Benoît Mandelbrot, 1983)](#M1983) put it:\n",
    "\n",
    "> *“Fractals Geometry reveals that some of the most austerely formal chapters of mathematics had a hidden face: a world of pure plastic beauty unsuspected till now.”*\n",
    ">\n",
    "> Benoît Mandelbrot, 1983"
   ]
  },
  {
   "cell_type": "markdown",
   "metadata": {},
   "source": [
    "<a id='Bib'></a>\n",
    "## References and Bibilography"
   ]
  },
  {
   "cell_type": "markdown",
   "metadata": {},
   "source": [
    "<a id='Chen2015'></a> Chen, Y.L. (2015). *Efficient Algorithm for Tower of Hanoi Variation*. [online] Stack Overflow. Available at: https://stackoverflow.com/questions/32463594/efficient-algorithm-for-tower-of-hanoi-variation [Accessed 3 May 2022].\n",
    "\n",
    "<a id='Falconer1990'></a> Falconer, K.J. (1990). *Fractal Geometry*. Wiley.\n",
    "\n",
    "<a id='HKP2018'></a> Hinz, A.M., Klavzar, S. and Petr, C. (2018). *The Tower of Hanoi - Myths and Maths*. [online] Cham: Springer International Publishing. Available at: https://link.springer.com/content/pdf/10.1007/978-3-319-73779-9.pdf [Accessed 3 Apr. 2022].\n",
    "\n",
    "<a id='Leung2021'></a> Leung, D. (2021). *Understanding Interfaces in Go*. [online] Duncanleung.com. Available at: https://duncanleung.com/understand-go-golang-interfaces/ [Accessed 17 Apr. 2022].\n",
    "\n",
    "<a id='M1980'></a> Mandelbrot, B.B. (1980). FRACTAL ASPECTS OF THE ITERATION OF $z → \\lambda z(1- z)$ FOR COMPLEX $\\lambda$ AND $z$. *Annals of the New York Academy of Sciences*, [online] 357(1), pp.249–259. doi:10.1111/j.1749-6632.1980.tb29690.x.\n",
    "\n",
    "<a id='M1983'></a> Mandelbrot, B.B. (1983). *The Fractal Geometry of Nature*. New York: W.H. Freeman and Company.\n",
    "\n",
    "<a id='M1999'></a> Mandelbrot, B.B. and Frame, M. (1999). The Canopy and Shortest Path in a Self-Contacting Fractal Tree. *The Mathematical Intelligencer*, 21(2), pp.18–27. doi:10.1007/bf03024842.\n",
    "\n",
    "<a id='PSF2022'></a> Python Software Foundation (2022). *9. Classes - Python 3.10.4 Documentation*. [online] Python.org. Available at: https://docs.python.org/3/tutorial/classes.html [Accessed 3 Apr. 2022].\n",
    "\n",
    "<a id='RUP2008'></a> Rubio-Sánchez, M., Urquiza-Fuentes, J. and Pareja-Flores, C. (2008). A Gentle Introduction to Mutual Recursion. *Proceedings of the 13th Annual Conference on Innovation and Technology in Computer Science Education*, 2008(June). doi:10.1145/1384271.1384334.\n",
    "\n",
    "<a id='PyGame_Intro'></a> Shinners, P. (2021). *Pygame Intro — Pygame v2.1.1 Documentation*. [online] Pygame.org. Available at: http://www.pygame.org/docs/tut/PygameIntro.html [Accessed 5 May 2022].\n",
    "\n",
    "<a id='Wiki'></a> Wikipedia Contributors (2022). *Tower of Hanoi*. [online] Wikipedia. Available at: https://en.wikipedia.org/wiki/Tower_of_Hanoi#cite_ref-8 [Accessed 9 May 2022].\n"
   ]
  }
 ],
 "metadata": {
  "interpreter": {
   "hash": "f08154012ddadd8e950e6e9e035c7a7b32c136e7647e9b7c77e02eb723a8bedb"
  },
  "kernelspec": {
   "display_name": "Python 3.9.7 ('base')",
   "language": "python",
   "name": "python3"
  },
  "language_info": {
   "codemirror_mode": {
    "name": "ipython",
    "version": 3
   },
   "file_extension": ".py",
   "mimetype": "text/x-python",
   "name": "python",
   "nbconvert_exporter": "python",
   "pygments_lexer": "ipython3",
   "version": "3.9.7"
  }
 },
 "nbformat": 4,
 "nbformat_minor": 2
}
