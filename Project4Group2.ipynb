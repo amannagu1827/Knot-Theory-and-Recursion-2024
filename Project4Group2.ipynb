{
 "cells": [
  {
   "cell_type": "markdown",
   "metadata": {},
   "source": [
    "# MATH20014 Mathematical Programming: Group 2 Project Submission - Knot Theory and Recursion "
   ]
  },
  {
   "cell_type": "markdown",
   "metadata": {},
   "source": [
    "#### Written by **Vishal Farma, Daniel Flett, Xane Miles, Aman Nagu, Ella Womack, Susan Yuan**"
   ]
  },
  {
   "cell_type": "markdown",
   "metadata": {},
   "source": [
    "## Table of Contents\n",
    "\n",
    "- [Introduction to Knot Theory](#Intro)\n",
    "- Chapter 1: [Continued Fractions](#PartA)\n",
    "    - Section 1.1: [Continued Fractions Generators](#S1)\n",
    "    - Section 1.2: [Extensions](#S2)\n",
    "- Chapter 2: [2-Bridge Links](#PartB)\n",
    "    - Section 2.1: [Refresher of the Diagram Algorithm](#S4)\n",
    "        - Part 2.1.1: [Generating 2-Bridge Link Diagrams](#S4.1)\n",
    "        - Part 2.1.2: [Sample Diagrams](#S4.2)\n",
    "    - Section 2.2: [Testing Hypotheses using 2-Bridge Link Diagrams](#S5)\n",
    "        - Part 2.2.1 [Definitions and Objectives](#S5.1)\n",
    "        - Part 2.2.2 [Extensions](#S5.2)\n",
    "    - Section 2.3: [Relations between Links](#S5.3)\n",
    "- Chapter 3: [The $d$-invariant of a Knot](#PartC)\n",
    "    - Section 3.1: [Definitions](#S6.1)\n",
    "    - Section 3.2: [The $d$-invariants of Equivalent Links](#S6.2)\n",
    "    - Section 3.3: [The $d$-invariants of Inequivalent Links](#S6.3)\n",
    "- [Conclusion](#Conc)\n",
    "- [References and Bibilography](#Bib)"
   ]
  },
  {
   "cell_type": "markdown",
   "metadata": {},
   "source": [
    "## Introduction to Knot Theory <a name='Introduction to Knot Theory'></a>\n"
   ]
  },
  {
   "cell_type": "markdown",
   "metadata": {},
   "source": [
    "Knots have played an indelible role in the evolution of human civilisations, serving as fundamental tools for binding objects to each other. It was only in the mid 19th century when knots were studied mathematically. In 1833, Carl Friedrich Gauss pioneered the advancement of Knot Theory by analysing various knots and links using techniques developed in differential geometry (See [3]). Gauss prefigured the idea that knots can be share the same behavioural tendencies as geometric objects. This motivates the utility of certain programming techniques, particularly recursion and recursive relations, that can be employed to further manipulate these objects. Such algorithms can be developed to efficiently study arbitrarily intricate knot structures, identifying patterns and allowing us to test hypotheses on properties of abstract knots. As a result, developments in Knot Theory in the past 50 years is directly correlated the increased usage of programming in mathematics. \n",
    "\n",
    "We begin by building intuition on recursive relations through the exploration of continuted fractions. In Section 1.1, we establish two unique functions that calculate a continued fraction for a given $\\frac{p}{q}$, where $p$, $q$ are coprime. In doing so, we motivate the use of Euclid's Algorithm. Next, in Section 1.2, we develop an efficient function that will recalculate and output a rational number given an arbitrary list. These introductory exercises will provide the reader with a foundation on working with fractions and recursions computationally. As we progress, we shall delve deeper into the subtle relationship between recursion and knots - in particular, how we use recursive relations to define, examine, and test properties of knots. "
   ]
  },
  {
   "cell_type": "markdown",
   "metadata": {},
   "source": [
    "Having established the fundamentals, in the next chapter, we shall explore knot theory more abstractly, testing our hypotheses using the computational tools we have previously developed. We first introduce 2-bridge links - an object with several loops containing two local maxima - and design a function to output a 2-bridge link diagram for a given rational number p/q with certain conditions. We make use of the fact that, for every rational number $\\frac{p}{q}$, where $p, q$ are coprime, there exists an associated 2-bridge link $S(p,q)$. Having constructed and optimised this algorithm, we proceed to run tests to deduce properties about 2-bridge links. This includes experiments on manipulating the parity of $p$ and $q$, and testing potential periodicity of $S(p,q)$. We then summarise by investigating the relationship between $S(p,q)$ and $S(p,q’)$, where $p$ is fixed and $qq’$ satisfies a given modular relation.  \n",
    "\n",
    "We conclude this project by introducing knot invariants, particularly 2-bridge link invariants. We analyse d-invariants of $S(p,q)$, i.e. a collection of $p$ rational numbers denoted $d(S(p,q),i)$. We do so by establishing a homomorphism between our $S(p,q)$ knot group and an arbitrary 3-dimensional manifold, say $L(p,q)$, and then take the 'd'-invariant of this manifold. First, we will write a function to calculate $d(S(p,q),i)$, and list the outputted rational numbers. Then, we study the effect of the d-invariant in the special case that $S(p,q_1) = S(p,q_2)$ for arbitrary coprime $p, q_1, q_2$. We conclude by examining some more theory on d-invariants using our code. "
   ]
  },
  {
   "cell_type": "markdown",
   "metadata": {},
   "source": [
    "<a id='PartA'></a>\n",
    "## Chapter 1: Continued Fractions\n"
   ]
  },
  {
   "cell_type": "markdown",
   "metadata": {},
   "source": [
    "In this section, we shall construct two separate functions to compute differing continued factions for a rational number $\\frac{p}{q}$, where $p$ and $q$ are coprime. Following this we also construct a function which recalculates a rational $\\frac{p}{q}$ from a given continued fraction list. These functions will show to be very useful for our applications in [Chapter 2], where we focus on creating 2-bridge link diagrams to verify a number of intriguing properties about 2-bridge knots."
   ]
  },
  {
   "cell_type": "markdown",
   "metadata": {},
   "source": [
    "<a id='S1'></a>\n",
    "### Section 1.1: Continued Fraction Generators. \n"
   ]
  },
  {
   "cell_type": "markdown",
   "metadata": {},
   "source": [
    "Our first function, `cont_frac_exp1(p,q)`, makes use of modulo arithmetic to obtain our result. Our function operates as follows:\n",
    "\n",
    "1.\tWe begin by taking the integer division of $\\frac{p}{q}$, which we assign to a value $r$\n",
    "\n",
    "2.\tFollowing this integer division, we take the remainder of this division which we assign to a value $s$.\n",
    "\n",
    "3.\tWe then repeat this step recursively, appending each $r$ value to a contnued fraction list until we reach a point where $s = 0$.\n",
    "\n",
    "At this point, our list is complete."
   ]
  },
  {
   "cell_type": "markdown",
   "metadata": {},
   "source": [
    "See below for the code definition of our function.\n"
   ]
  },
  {
   "cell_type": "code",
   "execution_count": 70,
   "metadata": {},
   "outputs": [],
   "source": [
    "# First continued fraction function\n",
    "def cont_frac_exp1(p,q):\n",
    "    result=[]\n",
    "    while q != 0:\n",
    "        r=p//q\n",
    "        s=p%q # Making use of the modulo arithmatic\n",
    "        result.append(r)\n",
    "        p, q = q, s\n",
    "    return result"
   ]
  },
  {
   "cell_type": "markdown",
   "metadata": {},
   "source": [
    "Below we use our function to compute the continued fraction sequence for $\\frac{p}{q} = \\frac{9}{7}$; here, we see that our initial $r$ value is $r = 1$ (as integer division of $\\frac{p}{q}$ gives us $1$), and our initial $s$ value is $s = 2$. Note this aligns with the fact that $9\\bmod{7} = 2$.\n",
    "The steps are as follows:\n",
    "\n",
    "1. We assign `r = 9 // 7 = 1`.\n",
    "\n",
    "2. We assign `s = 9 % 7 = 2`. \n",
    "\n",
    "3. We append `r = 1` to our list, so our list result = `[1]`, as in the code. Then reassigning `p, q = q, s`, i.e `9, 7 = 7, 2`, we begin the process again.\n",
    "Now `r = 7 // 2 = 3`, and `s = 7 % 2 = 1`. And our list, result = `[1,3]`. As earlier, we reassign `7, 2 = 2, 1`. Now `r = 2 // 1 = 2` and `s = 2 % 1 = 0`. We have `s = 0`, so as our final step we append `'2'` to our list, and we are done.\n",
    "So our resulting list will be `[1, 3, 2]`, after appending each value of $r$.\n",
    "\n"
   ]
  },
  {
   "cell_type": "code",
   "execution_count": 71,
   "metadata": {},
   "outputs": [
    {
     "data": {
      "text/plain": [
       "[1, 3, 2]"
      ]
     },
     "execution_count": 71,
     "metadata": {},
     "output_type": "execute_result"
    }
   ],
   "source": [
    "# Testing Cell\n",
    "cont_frac_exp1(9,7)"
   ]
  },
  {
   "cell_type": "code",
   "execution_count": 72,
   "metadata": {},
   "outputs": [],
   "source": [
    "#Second continued fraction function\n",
    "import random\n",
    "def cont_frac_exp2(p, q):\n",
    "    result_exp1 = cont_frac_exp1(p, q)\n",
    "    result = []\n",
    "    while True: # We want a continued fraction expansion that will always be different to cont_frac_exp1\n",
    "        random_int = random.randint(1, 5) # We will generate a random number between 1 and 5 as the first number in the cont_frac_exp2, a dif its the same as cont_frac_exp1, then it will generate another interger between 1 and 5        if random_int != result_exp1[0]:  # Check if it's different from the first element of result_exp1\n",
    "        result.append(random_int)\n",
    "        break\n",
    "\n",
    "    if q == 0: # Can't divide by zero\n",
    "        raise ZeroDivisionError('The denominator of the Fraction cannot be zero.')\n",
    "    while result[0] != result_exp1[0]:\n",
    "        if result[0] == p // q:\n",
    "            print('This will give you the same expansion list as cont_frac_exp1, please try a different p and q')\n",
    "        elif result[0] > p // q: # There are 4 cases in which we need to consider when doing the expansion with a random integer\n",
    "            if q > abs(p - q * result[0]):# Case 1 and 2 are when the first term in the results list is bigger than p(modq)  \n",
    "                p, q = -q, abs(result[0] * q - p) # Case 1 is when q is bigger than the absolute value of the numerator subtracted from q*result[0]\n",
    "                r, s = p // q, abs(p % q) # Doing Euclid Algorithm by hand to compute the first terms of p and q\n",
    "                result.append(r)\n",
    "                p, q = q, s\n",
    "                Normal_exp1 = cont_frac_exp1(p, q)\n",
    "                for i in Normal_exp1:\n",
    "                    result.append(i)\n",
    "                return result\n",
    "            else: # Case 2 is when q is smaller than the absolute value of the numerator subtracted from q*result[0]\n",
    "                p, q = abs(p - q * result[0]) - q, abs(p - q * result[0])\n",
    "                result.append(-1)\n",
    "                p, q = q, p\n",
    "                Normal_exp2 = cont_frac_exp1(p, q)\n",
    "                for i in Normal_exp2:\n",
    "                    result.append(i)\n",
    "                return result\n",
    "        else: # Case 3 and 4 are when the first term in the results list is smaller than p(modq)\n",
    "            if q > p - (q * result[0]): # Case 3 is when q is bigger than the absolute value of the numerator subtracted from q*result[0]\n",
    "                p, q = q, p % q\n",
    "                r = p // q\n",
    "                result.append(r)\n",
    "                Normal_exp3 = cont_frac_exp1(p, q)\n",
    "                for i in Normal_exp3:\n",
    "                    result.append(i)\n",
    "                return result\n",
    "            else: # Case 4 is when q is smaller than the absolute value of the numerator subtracted from q*result[0]\n",
    "                p, q = q, p - (q * result[0])\n",
    "                result.append(1)\n",
    "                p, q = -q, q - p\n",
    "                Normal_exp4 = cont_frac_exp1(p, q)\n",
    "                for i in Normal_exp4:\n",
    "                    result.append(i)\n",
    "                return result\n"
   ]
  },
  {
   "cell_type": "markdown",
   "metadata": {},
   "source": [
    "We now create a function which recalculates a rational $p/q$ from a continued fraction list. This code will work for any given continued fractional expansion of a number."
   ]
  },
  {
   "cell_type": "code",
   "execution_count": 73,
   "metadata": {},
   "outputs": [],
   "source": [
    "def recalc_1(cont_frac1): \n",
    "\n",
    "    if cont_frac1 == []:\n",
    "        return 0, 1         #if the continued fraction array is empty return 0\n",
    "\n",
    "    p, q = cont_frac1[-1], 1 \n",
    "\n",
    "    for value in cont_frac1[-2::-1]:     #iterating in reverse order \n",
    "        p, q = value * p + q, p \n",
    "\n",
    "    if p < 0 and q < 0:      #if both p,q have a common factor of -1 we remove this factor to generate two positive values below\n",
    "        p = -1 * p \n",
    "        q = -1 * q \n",
    "    return p, q\n"
   ]
  },
  {
   "cell_type": "code",
   "execution_count": 74,
   "metadata": {},
   "outputs": [
    {
     "name": "stdout",
     "output_type": "stream",
     "text": [
      "[3, -1, 1, 1, 6, 2]\n"
     ]
    },
    {
     "data": {
      "text/plain": [
       "(11, 13)"
      ]
     },
     "execution_count": 74,
     "metadata": {},
     "output_type": "execute_result"
    }
   ],
   "source": [
    "x = cont_frac_exp2(11, 13)\n",
    "print(x)\n",
    "recalc_1(x)"
   ]
  },
  {
   "cell_type": "markdown",
   "metadata": {},
   "source": [
    "<a id='PartB'></a>\n",
    "## Chapter 2: 2-Bridge Links "
   ]
  },
  {
   "cell_type": "markdown",
   "metadata": {},
   "source": [
    "In this section, we shall focus on producing 2-bridge link diagrams from continued fractions as discussed in Chapter 1, and using these diagrams to verify certain properties of knots and 2-bridge links.\n",
    "Note that every continued fraction $[a_1,a_2,...,a_n]$, generated from a rational $p/q$, has an associated 2-bridge link $S(p,q)$, from which we can generate a visual representation.\n"
   ]
  },
  {
   "cell_type": "markdown",
   "metadata": {},
   "source": [
    "<a id='S4'></a>\n",
    "### Section 2.1: Refresher of the Diagram Algorithm"
   ]
  },
  {
   "cell_type": "markdown",
   "metadata": {},
   "source": [
    "We start our diagram off with four parallel strands. \n",
    "\n",
    "Consider a continued fraction, given as a list [$a_1,a_2,...,a_n$]. For each $a_i$ in out list, we add a twist between two parallel strands:\n",
    "\n",
    "> If $i$ is even, we twist the middle two strands.\n",
    "\n",
    "> If $i$ is odd, we twist the rightmost two strands.\n",
    "\n",
    "Additionally, we ensure we twist the rightmost strand over the left if $i$ is odd AND $a_i$ is positive; we switch this twist to left over right if either of these change.\n",
    "\n",
    "Finally, we must connect the diagram at the beginning and end.\n"
   ]
  },
  {
   "cell_type": "markdown",
   "metadata": {},
   "source": [
    "<a id='S4.1'></a> \n",
    "#### Part 2.1.1 Generating 2-Bridge Link Diagrams\n"
   ]
  },
  {
   "cell_type": "markdown",
   "metadata": {},
   "source": [
    "We begin by writing code to diaplay the various twists we will need to use when drawing a 2-bridge diagram for any rational number $p/q$, as discussed in Chapter 1.\n",
    "\n",
    "This function, `print_crossing(type)`, will take four strands and display twists corresponding to each possibility from our algorithm, as mentioned above.\n",
    "\n",
    "Note that we will align these crossing types with a function, `diagram(p,q)`, to draw our diagrams (see below in Section ...).\n"
   ]
  },
  {
   "cell_type": "code",
   "execution_count": 75,
   "metadata": {},
   "outputs": [],
   "source": [
    "# Code to display various twists in a 2-bridge link.\n",
    "def print_crossing(type):\n",
    "    output = []\n",
    "    if type == 1:\n",
    "        output.append(r'| |  \\ / ')\n",
    "        output.append(r'| |   /  ')\n",
    "        output.append(r'| |  / \\ ')\n",
    "    elif type == -1:\n",
    "        output.append(r'| |  \\ / ')\n",
    "        output.append(r'| |   \\  ')\n",
    "        output.append(r'| |  / \\ ')\n",
    "    elif type == 2:\n",
    "        output.append(r'| \\ /  | ')\n",
    "        output.append(r'|  /   | ')\n",
    "        output.append(r'| / \\  | ')\n",
    "    elif type == -2:\n",
    "        output.append(r'| \\ /  | ')\n",
    "        output.append(r'|  \\   | ')\n",
    "        output.append(r'| / \\  | ')\n",
    "    elif type == 10:\n",
    "        output.append(r' ______  ')\n",
    "        output.append(r'|  __  | ')\n",
    "        output.append(r'| |  | | ')\n",
    "    elif type == -10:\n",
    "        output.append(r'| |__| | ')\n",
    "        output.append(r'|______| ')\n",
    "    elif type == -20:\n",
    "        output.append(r'| |  | | ')\n",
    "        output.append(r'|_|  |_| ')\n",
    "    return output\n"
   ]
  },
  {
   "cell_type": "markdown",
   "metadata": {},
   "source": [
    "We shall now create a function, `diagram(p,q)`, which generates a 2-bridge link diagram for given rational $\\frac{p}{q}$."
   ]
  },
  {
   "cell_type": "markdown",
   "metadata": {},
   "source": [
    "This function works by inputting said $p,q$, generating an array $[a_1,a_2,...,a_n]$ from our function `cont_frac_exp1(p,q)`, then implementing various twists as indicated by our function `print_crossing(type)`."
   ]
  },
  {
   "cell_type": "code",
   "execution_count": 76,
   "metadata": {},
   "outputs": [],
   "source": [
    "def make_diagram_general(array): #  A function which makes a single diagram given a continued fraction expansion.\n",
    "    num = len(array)\n",
    "\n",
    "    output = []\n",
    "\n",
    "    output += print_crossing(10)\n",
    "\n",
    "    for i in range(num):\n",
    "        if array[i] > 0 and (i+1)%2 != 0:\n",
    "            for j in range(array[i]):\n",
    "                output += print_crossing(1)\n",
    "        elif array[i-1] < 0 and (i+1)%2 != 0:\n",
    "            for j in range(abs(array[i])):\n",
    "                output += print_crossing(-1)\n",
    "        elif array[i-1] > 0 and (i+1)%2 == 0:\n",
    "            for j in range(abs(array[i])):\n",
    "                output += print_crossing(-2)\n",
    "        elif array[i-1] < 0 and (i+1)%2 == 0:\n",
    "            for j in range(abs(array[i])):\n",
    "                output += print_crossing(2)  \n",
    "    \n",
    "    if num%2 == 0:\n",
    "        output += print_crossing(-20)\n",
    "    else:\n",
    "        output += print_crossing(-10)\n",
    "\n",
    "    return output\n",
    "\n",
    "def make_diagram(p, q): # A function which makes a single diagram using the expansion generated from cont_frac_exp1.\n",
    "    return make_diagram_general(cont_frac_exp1(p, q))"
   ]
  },
  {
   "cell_type": "markdown",
   "metadata": {},
   "source": [
    "As we need to display diagrams side by side in many cases, we have written code to allow us to display a row of diagrams, adding labels as necessary."
   ]
  },
  {
   "cell_type": "code",
   "execution_count": 77,
   "metadata": {},
   "outputs": [],
   "source": [
    "def print_diagrams_general(diagrams): # A function that given a 2D array of diagrams, prints each diagram side by side.\n",
    "    final_diagram = []\n",
    "    final_diagram_length = max([len(diagram) for diagram in diagrams])\n",
    "    for i in range(final_diagram_length):\n",
    "        final_diagram.append([])\n",
    "    for diagram in diagrams:\n",
    "        for key in range(final_diagram_length):\n",
    "            if key < len(diagram):\n",
    "                final_diagram[key] += [diagram[key]]\n",
    "            else:\n",
    "                final_diagram[key] += ['         '] # The number of spaces here matches the length of each line in the diagram.\n",
    "    for line in final_diagram:\n",
    "        print(\"   \".join(line))\n",
    "\n",
    "def generate_diagrams(*fractions): # A function which given tuples uses the cont_frac_exp1 make_diagram function to generate diagrams.\n",
    "    return [[\"{}         \".format(fraction[0])[0:9]] +\n",
    "            [\"/        \"] +\n",
    "            [\"{}         \".format(fraction[1])[0:9]] +  make_diagram(fraction[0], fraction[1]) for fraction in fractions]\n",
    "\n",
    "def print_diagrams(*fractions): # A function which given tuples calls generate_diagrams on the tuples and then prints the diagram.\n",
    "    print_diagrams_general(generate_diagrams(*fractions))"
   ]
  },
  {
   "cell_type": "markdown",
   "metadata": {},
   "source": [
    "<a id='S4.1'></a> \n",
    "#### Part 2.1.2 Examples of Diagrams\n"
   ]
  },
  {
   "cell_type": "markdown",
   "metadata": {},
   "source": [
    "We illustrate the above function with an example."
   ]
  },
  {
   "cell_type": "code",
   "execution_count": 78,
   "metadata": {},
   "outputs": [
    {
     "name": "stdout",
     "output_type": "stream",
     "text": [
      "9           11       \n",
      "/           /        \n",
      "7           13       \n",
      " ______      ______  \n",
      "|  __  |    |  __  | \n",
      "| |  | |    | |  | | \n",
      "| |  \\ /    | |  \\ / \n",
      "| |   /     | |   /  \n",
      "| |  / \\    | |  / \\ \n",
      "| \\ /  |    | |  \\ / \n",
      "|  \\   |    | |   /  \n",
      "| / \\  |    | |  / \\ \n",
      "| \\ /  |    | |  \\ / \n",
      "|  \\   |    | |   /  \n",
      "| / \\  |    | |  / \\ \n",
      "| \\ /  |    | |  \\ / \n",
      "|  \\   |    | |   /  \n",
      "| / \\  |    | |  / \\ \n",
      "| |  \\ /    | |  \\ / \n",
      "| |   /     | |   /  \n",
      "| |  / \\    | |  / \\ \n",
      "| |  \\ /    | \\ /  | \n",
      "| |   /     |  \\   | \n",
      "| |  / \\    | / \\  | \n",
      "| |__| |    | \\ /  | \n",
      "|______|    |  \\   | \n",
      "            | / \\  | \n",
      "            | |  | | \n",
      "            |_|  |_| \n"
     ]
    }
   ],
   "source": [
    "# generate_diagrams((9, 7), (11, 13))\n",
    "print_diagrams((9, 7), (11, 13))"
   ]
  },
  {
   "cell_type": "markdown",
   "metadata": {},
   "source": [
    "<a id='S4'></a>\n",
    "### Section 2.2:  Verification of Results using 2-Bridge Link Diagrams "
   ]
  },
  {
   "cell_type": "markdown",
   "metadata": {},
   "source": [
    "We will use our previous function `diagram(p,q)` as dicussed in Section 2.1 which allows us to generate 2-bridge link diagrams to test certain properties of 2-bridge links. "
   ]
  },
  {
   "cell_type": "markdown",
   "metadata": {},
   "source": [
    "First, we look to briefly introduce Reidemeister moves. These are 3 types of topological deformations that can be applied to knots to determine whether knots are equivalent. This was developed by German mathematician Kurt Reidemeister in 1927. \n",
    "\n",
    "Reidemeister Moves (See [5], [6]):\n",
    "\n",
    "(i) Twisting/untwisting a string in either direction. \n",
    "\n",
    "(ii) Moving a string over another string. \n",
    "\n",
    "(iii) Moving a strand from one side of a crossing to another. \n",
    "\n",
    "We use a simplified form of the Reidemeister theorem: two knots are equivalent if and only if they result from each other by a finite number of Reidemeister moves. In many cases, we assert that two knots are equivalent. By default this should be assumed to be through this simplified form of the Reidemeister theorem. As there is not enough space to manually draw each Reidemeister move for each example, the reader is cordially requested to verify the assertions that two diagrams are equivalent by performing Reidemeister moves on the diagrams in their heads until they match."
   ]
  },
  {
   "cell_type": "markdown",
   "metadata": {},
   "source": [
    "**Claim (a):** $S(p,q)$ is a knot if $p$ is odd, and has 2 components if $p$ is even. "
   ]
  },
  {
   "cell_type": "markdown",
   "metadata": {},
   "source": [
    "**Solution + Explanation:**  We find that this claim is true, and will demonstrate so by providing an exhaustive list of examples.\n",
    "1. Assume $p$ is not prime. Let $p = 25$. Case (i) - $S(25,4)$. Then, $\\lfloor \\frac{p}{q} \\rfloor$ is even, $p\\bmod{q}$ is odd and we get the unknot. Case (ii) - $S(25,7)$. Then, $\\lfloor \\frac{p}{q} \\rfloor$ is odd, and $p\\bmod{q}$ is even, and we get the unknot. Case (iii) - $S(25,8)$. Then, $\\lfloor \\frac{p}{q} \\rfloor$ is odd, $p\\bmod{q}$ is odd, and we get the unknot."
   ]
  },
  {
   "cell_type": "code",
   "execution_count": 79,
   "metadata": {},
   "outputs": [
    {
     "name": "stdout",
     "output_type": "stream",
     "text": [
      "25          25          25       \n",
      "/           /           /        \n",
      "4           7           8        \n",
      " ______      ______      ______  \n",
      "|  __  |    |  __  |    |  __  | \n",
      "| |  | |    | |  | |    | |  | | \n",
      "| |  \\ /    | |  \\ /    | |  \\ / \n",
      "| |   /     | |   /     | |   /  \n",
      "| |  / \\    | |  / \\    | |  / \\ \n",
      "| |  \\ /    | |  \\ /    | |  \\ / \n",
      "| |   /     | |   /     | |   /  \n",
      "| |  / \\    | |  / \\    | |  / \\ \n",
      "| |  \\ /    | |  \\ /    | |  \\ / \n",
      "| |   /     | |   /     | |   /  \n",
      "| |  / \\    | |  / \\    | |  / \\ \n",
      "| |  \\ /    | \\ /  |    | \\ /  | \n",
      "| |   /     |  \\   |    |  \\   | \n",
      "| |  / \\    | / \\  |    | / \\  | \n",
      "| |  \\ /    | |  \\ /    | \\ /  | \n",
      "| |   /     | |   /     |  \\   | \n",
      "| |  / \\    | |  / \\    | / \\  | \n",
      "| |  \\ /    | \\ /  |    | \\ /  | \n",
      "| |   /     |  \\   |    |  \\   | \n",
      "| |  / \\    | / \\  |    | / \\  | \n",
      "| \\ /  |    | \\ /  |    | \\ /  | \n",
      "|  \\   |    |  \\   |    |  \\   | \n",
      "| / \\  |    | / \\  |    | / \\  | \n",
      "| \\ /  |    | \\ /  |    | \\ /  | \n",
      "|  \\   |    |  \\   |    |  \\   | \n",
      "| / \\  |    | / \\  |    | / \\  | \n",
      "| \\ /  |    | |  | |    | \\ /  | \n",
      "|  \\   |    |_|  |_|    |  \\   | \n",
      "| / \\  |                | / \\  | \n",
      "| \\ /  |                | \\ /  | \n",
      "|  \\   |                |  \\   | \n",
      "| / \\  |                | / \\  | \n",
      "| |  | |                | \\ /  | \n",
      "|_|  |_|                |  \\   | \n",
      "                        | / \\  | \n",
      "                        | |  | | \n",
      "                        |_|  |_| \n"
     ]
    }
   ],
   "source": [
    "print_diagrams((25, 4), (25, 7), (25, 8))"
   ]
  },
  {
   "cell_type": "markdown",
   "metadata": {},
   "source": [
    "2. Assume p is prime. Let $p = 53$. Case (i) - $S(53,7)$. Then, $\\frac{p}{q}$ is odd, $p \\bmod{q}$ is even, and we get the unknot. Case (ii) - $S(53,10)$. Then, $\\frac{p}{q}$ is odd, $p \\bmod{q}$ is odd, and we get the unknot. Case (iii) - $S(53,5)$. Then $\\frac{p}{q}$ is even, $p\\bmod{q}$ is odd, and we get the unknot. This should demonstrate that $S(p,q)$ is a knot if p is odd. Note that we cannot have $\\frac{p}{q}$ be even and $p\\bmod{q}$ be even as it would require an odd number multipled by even number to produce an odd number, which is not possible. "
   ]
  },
  {
   "cell_type": "code",
   "execution_count": 80,
   "metadata": {},
   "outputs": [
    {
     "name": "stdout",
     "output_type": "stream",
     "text": [
      "53          53          53       \n",
      "/           /           /        \n",
      "7           10          5        \n",
      " ______      ______      ______  \n",
      "|  __  |    |  __  |    |  __  | \n",
      "| |  | |    | |  | |    | |  | | \n",
      "| |  \\ /    | |  \\ /    | |  \\ / \n",
      "| |   /     | |   /     | |   /  \n",
      "| |  / \\    | |  / \\    | |  / \\ \n",
      "| |  \\ /    | |  \\ /    | |  \\ / \n",
      "| |   /     | |   /     | |   /  \n",
      "| |  / \\    | |  / \\    | |  / \\ \n",
      "| |  \\ /    | |  \\ /    | |  \\ / \n",
      "| |   /     | |   /     | |   /  \n",
      "| |  / \\    | |  / \\    | |  / \\ \n",
      "| |  \\ /    | |  \\ /    | |  \\ / \n",
      "| |   /     | |   /     | |   /  \n",
      "| |  / \\    | |  / \\    | |  / \\ \n",
      "| |  \\ /    | |  \\ /    | |  \\ / \n",
      "| |   /     | |   /     | |   /  \n",
      "| |  / \\    | |  / \\    | |  / \\ \n",
      "| |  \\ /    | \\ /  |    | |  \\ / \n",
      "| |   /     |  \\   |    | |   /  \n",
      "| |  / \\    | / \\  |    | |  / \\ \n",
      "| |  \\ /    | \\ /  |    | |  \\ / \n",
      "| |   /     |  \\   |    | |   /  \n",
      "| |  / \\    | / \\  |    | |  / \\ \n",
      "| \\ /  |    | \\ /  |    | |  \\ / \n",
      "|  \\   |    |  \\   |    | |   /  \n",
      "| / \\  |    | / \\  |    | |  / \\ \n",
      "| |  \\ /    | |  \\ /    | |  \\ / \n",
      "| |   /     | |   /     | |   /  \n",
      "| |  / \\    | |  / \\    | |  / \\ \n",
      "| \\ /  |    | |  \\ /    | |  \\ / \n",
      "|  \\   |    | |   /     | |   /  \n",
      "| / \\  |    | |  / \\    | |  / \\ \n",
      "| \\ /  |    | |  \\ /    | \\ /  | \n",
      "|  \\   |    | |   /     |  \\   | \n",
      "| / \\  |    | |  / \\    | / \\  | \n",
      "| \\ /  |    | |__| |    | |  \\ / \n",
      "|  \\   |    |______|    | |   /  \n",
      "| / \\  |                | |  / \\ \n",
      "| |  | |                | \\ /  | \n",
      "|_|  |_|                |  \\   | \n",
      "                        | / \\  | \n",
      "                        | \\ /  | \n",
      "                        |  \\   | \n",
      "                        | / \\  | \n",
      "                        | |  | | \n",
      "                        |_|  |_| \n"
     ]
    }
   ],
   "source": [
    "print_diagrams((53, 7), (53, 10), (53, 5))"
   ]
  },
  {
   "cell_type": "markdown",
   "metadata": {},
   "source": [
    "Now we consider how $S(p,q)$ changes when p is even. \n",
    "\n",
    "Let p be an even number, say $p = 28$. Case (i) - $S(28,5)$. Then $\\lfloor \\frac{p}{q} \\rfloor$ is odd and $p \\bmod{q}$ is odd. Case (ii) - $S(28,13)$. Then $\\lfloor \\frac{p}{q} \\rfloor$ is even and $p \\bmod{q}$ is even. It is impossible for $\\frac{p}{q}$ to be odd and $p \\bmod{q}$ to be even, as $q$ must be coprime to $p$, $q$ is even and therefore $p$ must be odd and an even number modulus an odd number is always odd. Similarly if $\\lfloor \\frac{p}{q} \\rfloor$ is even, it is impossible for $p \\bmod q$ to be odd. Let $k$ be the integer result of $\\lfloor \\frac{p}{q} \\rfloor$. $q \\times k$ is even, and since $p$ is even, $p - q \\times k = p \\bmod{q}$ is even. Since $p$ and $q$ are coprime, we don't need to evaluate the case where both $p$ and $q$ are even.\n",
    "\n",
    "All in all, we see that claim (a) is true. "
   ]
  },
  {
   "cell_type": "code",
   "execution_count": 81,
   "metadata": {},
   "outputs": [
    {
     "name": "stdout",
     "output_type": "stream",
     "text": [
      "28          28       \n",
      "/           /        \n",
      "5           15       \n",
      " ______      ______  \n",
      "|  __  |    |  __  | \n",
      "| |  | |    | |  | | \n",
      "| |  \\ /    | |  \\ / \n",
      "| |   /     | |   /  \n",
      "| |  / \\    | |  / \\ \n",
      "| |  \\ /    | \\ /  | \n",
      "| |   /     |  \\   | \n",
      "| |  / \\    | / \\  | \n",
      "| |  \\ /    | |  \\ / \n",
      "| |   /     | |   /  \n",
      "| |  / \\    | |  / \\ \n",
      "| |  \\ /    | |  \\ / \n",
      "| |   /     | |   /  \n",
      "| |  / \\    | |  / \\ \n",
      "| |  \\ /    | |  \\ / \n",
      "| |   /     | |   /  \n",
      "| |  / \\    | |  / \\ \n",
      "| \\ /  |    | |  \\ / \n",
      "|  \\   |    | |   /  \n",
      "| / \\  |    | |  / \\ \n",
      "| |  \\ /    | |  \\ / \n",
      "| |   /     | |   /  \n",
      "| |  / \\    | |  / \\ \n",
      "| \\ /  |    | |  \\ / \n",
      "|  \\   |    | |   /  \n",
      "| / \\  |    | |  / \\ \n",
      "| \\ /  |    | \\ /  | \n",
      "|  \\   |    |  \\   | \n",
      "| / \\  |    | / \\  | \n",
      "| |  | |    | \\ /  | \n",
      "|_|  |_|    |  \\   | \n",
      "            | / \\  | \n",
      "            | |  | | \n",
      "            |_|  |_| \n"
     ]
    }
   ],
   "source": [
    "print_diagrams((28, 5), (28, 15))"
   ]
  },
  {
   "cell_type": "markdown",
   "metadata": {},
   "source": [
    "**Claim (b):** The link $S(p, q)$ does not depend on the choice of continued fraction, even though the diagram does."
   ]
  },
  {
   "cell_type": "markdown",
   "metadata": {},
   "source": [
    "**Solution + Explanation:** This statement is true. We introduce the two lists `[1, 3, 2]` and `[2, -2, 2, -3]`. Consider these two continued fraction expansions."
   ]
  },
  {
   "cell_type": "code",
   "execution_count": 82,
   "metadata": {},
   "outputs": [
    {
     "name": "stdout",
     "output_type": "stream",
     "text": [
      "[1, 3, 2]   [2, -2, 2, -3]\n",
      " ______      ______  \n",
      "|  __  |    |  __  | \n",
      "| |  | |    | |  | | \n",
      "| |  \\ /    | |  \\ / \n",
      "| |   /     | |   /  \n",
      "| |  / \\    | |  / \\ \n",
      "| \\ /  |    | |  \\ / \n",
      "|  \\   |    | |   /  \n",
      "| / \\  |    | |  / \\ \n",
      "| \\ /  |    | \\ /  | \n",
      "|  \\   |    |  \\   | \n",
      "| / \\  |    | / \\  | \n",
      "| \\ /  |    | \\ /  | \n",
      "|  \\   |    |  \\   | \n",
      "| / \\  |    | / \\  | \n",
      "| |  \\ /    | |  \\ / \n",
      "| |   /     | |   /  \n",
      "| |  / \\    | |  / \\ \n",
      "| |  \\ /    | |  \\ / \n",
      "| |   /     | |   /  \n",
      "| |  / \\    | |  / \\ \n",
      "| |__| |    | \\ /  | \n",
      "|______|    |  \\   | \n",
      "            | / \\  | \n",
      "            | \\ /  | \n",
      "            |  \\   | \n",
      "            | / \\  | \n",
      "            | \\ /  | \n",
      "            |  \\   | \n",
      "            | / \\  | \n",
      "            | |  | | \n",
      "            |_|  |_| \n"
     ]
    }
   ],
   "source": [
    "print_diagrams_general([[\"[1, 3, 2]\"] + make_diagram_general([1, 3, 2]),\n",
    "                       [\"[2, -2, 2, -3]\"] + make_diagram_general([2, -2, 2, -3])])"
   ]
  },
  {
   "cell_type": "markdown",
   "metadata": {},
   "source": [
    "Inputting these two lists into our diagram-generating functions, we find that two unique 2-bridge link diagrams are outputted. However, using Euclid's division algorithm, we find that these continued fractions simplify to $\\frac{9}{7}$."
   ]
  },
  {
   "cell_type": "code",
   "execution_count": 83,
   "metadata": {},
   "outputs": [
    {
     "name": "stdout",
     "output_type": "stream",
     "text": [
      "(9, 7), (9, 7)\n"
     ]
    }
   ],
   "source": [
    "print(\"{}, {}\".format(recalc_1([1, 3, 2]), recalc_1([2, -2, 2, -3])))"
   ]
  },
  {
   "cell_type": "markdown",
   "metadata": {},
   "source": [
    "We can double-check this by applying a sequence of Reidemeister moves to the two diagrams, which will eventually give us the same knot. More abstractly, this claim is suggesting that the topological properties of the $S(p,q)$ link remains consistent. Hence, a rigorous proof would entail showing the resulting knots are topologically equivalent regardless of how $\\frac{p}{q}$ is represented. "
   ]
  },
  {
   "cell_type": "markdown",
   "metadata": {},
   "source": [
    "**Claim (c):** If $n \\in \\mathbb{Z}$, then $S(p,q) = S(p,q+np)$."
   ]
  },
  {
   "cell_type": "markdown",
   "metadata": {},
   "source": [
    "**Solution + Explanation:** We find this to be false in general. Claim (c) holds for positive integers, such as S(17,12) -> S(17, 29) when n=1, but does not hold for n negative, such as S(17, 12) -/> S(17, -5), where n = 1. "
   ]
  },
  {
   "cell_type": "code",
   "execution_count": 84,
   "metadata": {},
   "outputs": [
    {
     "name": "stdout",
     "output_type": "stream",
     "text": [
      "17          17       \n",
      "/           /        \n",
      "12          29       \n",
      " ______      ______  \n",
      "|  __  |    |  __  | \n",
      "| |  | |    | |  | | \n",
      "| |  \\ /    | |  \\ / \n",
      "| |   /     | |   /  \n",
      "| |  / \\    | |  / \\ \n",
      "| \\ /  |    | \\ /  | \n",
      "|  \\   |    |  \\   | \n",
      "| / \\  |    | / \\  | \n",
      "| \\ /  |    | \\ /  | \n",
      "|  \\   |    |  \\   | \n",
      "| / \\  |    | / \\  | \n",
      "| |  \\ /    | |  \\ / \n",
      "| |   /     | |   /  \n",
      "| |  / \\    | |  / \\ \n",
      "| |  \\ /    | |  \\ / \n",
      "| |   /     | |   /  \n",
      "| |  / \\    | |  / \\ \n",
      "| \\ /  |    | \\ /  | \n",
      "|  \\   |    |  \\   | \n",
      "| / \\  |    | / \\  | \n",
      "| \\ /  |    | \\ /  | \n",
      "|  \\   |    |  \\   | \n",
      "| / \\  |    | / \\  | \n",
      "| |  | |    | |  | | \n",
      "|_|  |_|    |_|  |_| \n",
      "17          17       \n",
      "/           /        \n",
      "12          -5       \n",
      " ______      ______  \n",
      "|  __  |    |  __  | \n",
      "| |  | |    | |  | | \n",
      "| |  \\ /    | \\ /  | \n",
      "| |   /     |  /   | \n",
      "| |  / \\    | / \\  | \n",
      "| \\ /  |    | |  \\ / \n",
      "|  \\   |    | |   /  \n",
      "| / \\  |    | |  / \\ \n",
      "| \\ /  |    | \\ /  | \n",
      "|  \\   |    |  \\   | \n",
      "| / \\  |    | / \\  | \n",
      "| |  \\ /    | \\ /  | \n",
      "| |   /     |  \\   | \n",
      "| |  / \\    | / \\  | \n",
      "| |  \\ /    | |  | | \n",
      "| |   /     |_|  |_| \n",
      "| |  / \\             \n",
      "| \\ /  |             \n",
      "|  \\   |             \n",
      "| / \\  |             \n",
      "| \\ /  |             \n",
      "|  \\   |             \n",
      "| / \\  |             \n",
      "| |  | |             \n",
      "|_|  |_|             \n",
      "17          17       \n",
      "/           /        \n",
      "-5          -22      \n",
      " ______      ______  \n",
      "|  __  |    |  __  | \n",
      "| |  | |    | |  | | \n",
      "| \\ /  |    | \\ /  | \n",
      "|  /   |    |  /   | \n",
      "| / \\  |    | / \\  | \n",
      "| |  \\ /    | \\ /  | \n",
      "| |   /     |  /   | \n",
      "| |  / \\    | / \\  | \n",
      "| \\ /  |    | \\ /  | \n",
      "|  \\   |    |  /   | \n",
      "| / \\  |    | / \\  | \n",
      "| \\ /  |    | \\ /  | \n",
      "|  \\   |    |  /   | \n",
      "| / \\  |    | / \\  | \n",
      "| |  | |    | |  \\ / \n",
      "|_|  |_|    | |   /  \n",
      "            | |  / \\ \n",
      "            | |  \\ / \n",
      "            | |   /  \n",
      "            | |  / \\ \n",
      "            | \\ /  | \n",
      "            |  \\   | \n",
      "            | / \\  | \n",
      "            | \\ /  | \n",
      "            |  \\   | \n",
      "            | / \\  | \n",
      "            | |  | | \n",
      "            |_|  |_| \n"
     ]
    }
   ],
   "source": [
    "print_diagrams((17, 12), (17, 29))\n",
    "print_diagrams((17, 12), (17, -5))\n",
    "print_diagrams((17, -5), (17, -22))"
   ]
  },
  {
   "cell_type": "markdown",
   "metadata": {},
   "source": [
    "**Claim (d):** Changing the sign of all the crossings in $S(p, q)$ gives you $S(p, -q) = S(p, p-q)$. "
   ]
  },
  {
   "cell_type": "markdown",
   "metadata": {},
   "source": [
    "**Solution + Explanation:** We find this claim to be incorrect in general using counterexamples."
   ]
  },
  {
   "cell_type": "code",
   "execution_count": 85,
   "metadata": {},
   "outputs": [
    {
     "name": "stdout",
     "output_type": "stream",
     "text": [
      "8           8           8        \n",
      "/           /           /        \n",
      "5           -5          3        \n",
      " ______      ______      ______  \n",
      "|  __  |    |  __  |    |  __  | \n",
      "| |  | |    | |  | |    | |  | | \n",
      "| |  \\ /    | \\ /  |    | |  \\ / \n",
      "| |   /     |  /   |    | |   /  \n",
      "| |  / \\    | / \\  |    | |  / \\ \n",
      "| \\ /  |    | \\ /  |    | |  \\ / \n",
      "|  \\   |    |  /   |    | |   /  \n",
      "| / \\  |    | / \\  |    | |  / \\ \n",
      "| |  \\ /    | |  \\ /    | \\ /  | \n",
      "| |   /     | |   /     |  \\   | \n",
      "| |  / \\    | |  / \\    | / \\  | \n",
      "| \\ /  |    | |  \\ /    | |  \\ / \n",
      "|  \\   |    | |   /     | |   /  \n",
      "| / \\  |    | |  / \\    | |  / \\ \n",
      "| \\ /  |    | |__| |    | |  \\ / \n",
      "|  \\   |    |______|    | |   /  \n",
      "| / \\  |                | |  / \\ \n",
      "| |  | |                | |__| | \n",
      "|_|  |_|                |______| \n",
      "7           7           7        \n",
      "/           /           /        \n",
      "4           -4          3        \n",
      " ______      ______      ______  \n",
      "|  __  |    |  __  |    |  __  | \n",
      "| |  | |    | |  | |    | |  | | \n",
      "| |  \\ /    | \\ /  |    | |  \\ / \n",
      "| |   /     |  /   |    | |   /  \n",
      "| |  / \\    | / \\  |    | |  / \\ \n",
      "| \\ /  |    | \\ /  |    | |  \\ / \n",
      "|  \\   |    |  /   |    | |   /  \n",
      "| / \\  |    | / \\  |    | |  / \\ \n",
      "| |  \\ /    | \\ /  |    | \\ /  | \n",
      "| |   /     |  /   |    |  \\   | \n",
      "| |  / \\    | / \\  |    | / \\  | \n",
      "| |  \\ /    | \\ /  |    | \\ /  | \n",
      "| |   /     |  /   |    |  \\   | \n",
      "| |  / \\    | / \\  |    | / \\  | \n",
      "| |  \\ /    | |  | |    | \\ /  | \n",
      "| |   /     |_|  |_|    |  \\   | \n",
      "| |  / \\                | / \\  | \n",
      "| |__| |                | |  | | \n",
      "|______|                |_|  |_| \n",
      "13          13          13       \n",
      "/           /           /        \n",
      "6           -6          7        \n",
      " ______      ______      ______  \n",
      "|  __  |    |  __  |    |  __  | \n",
      "| |  | |    | |  | |    | |  | | \n",
      "| |  \\ /    | \\ /  |    | |  \\ / \n",
      "| |   /     |  /   |    | |   /  \n",
      "| |  / \\    | / \\  |    | |  / \\ \n",
      "| |  \\ /    | |  \\ /    | \\ /  | \n",
      "| |   /     | |   /     |  \\   | \n",
      "| |  / \\    | |  / \\    | / \\  | \n",
      "| \\ /  |    | |  \\ /    | |  \\ / \n",
      "|  \\   |    | |   /     | |   /  \n",
      "| / \\  |    | |  / \\    | |  / \\ \n",
      "| \\ /  |    | |  \\ /    | |  \\ / \n",
      "|  \\   |    | |   /     | |   /  \n",
      "| / \\  |    | |  / \\    | |  / \\ \n",
      "| \\ /  |    | |  \\ /    | |  \\ / \n",
      "|  \\   |    | |   /     | |   /  \n",
      "| / \\  |    | |  / \\    | |  / \\ \n",
      "| \\ /  |    | |  \\ /    | |  \\ / \n",
      "|  \\   |    | |   /     | |   /  \n",
      "| / \\  |    | |  / \\    | |  / \\ \n",
      "| \\ /  |    | |__| |    | |  \\ / \n",
      "|  \\   |    |______|    | |   /  \n",
      "| / \\  |                | |  / \\ \n",
      "| \\ /  |                | |  \\ / \n",
      "|  \\   |                | |   /  \n",
      "| / \\  |                | |  / \\ \n",
      "| |  | |                | |__| | \n",
      "|_|  |_|                |______| \n"
     ]
    }
   ],
   "source": [
    "print_diagrams((8, 5), (8, -5), (8, 3))\n",
    "print_diagrams((7, 4), (7, -4), (7, 3))\n",
    "print_diagrams((13, 6), (13, -6), (13, 7))"
   ]
  },
  {
   "cell_type": "markdown",
   "metadata": {},
   "source": [
    "We analyse this claim in two parts. First, we will show that $S(p,q) = S(p,-q)$. Then, we will show that $S(p,q) \\neq S(p-q)$, implying that $S(p,-q) \\neq S(p,p-q)$. \n",
    "\n",
    "Changing the signs of crossings of $S(p,q)$ will always give us $S(p,-q)$. We will show that when $S(p,q)$ has each element in its continued fraction expansion sign changed, it produces an expansion equivalent to $S(p,-q)$. We use induction. \n",
    "\n",
    "**[BASE CASE]** The smallest continued fraction expansion has length 2. Consider `cont_frac_exp1(p,q) = [a,b]`. Now, we flip the signs of the elements to get `[-a,-b]`. When expanded, this gives us $-a + \\frac{1}{-b} = \\frac{ab+1}{-b} = \\frac{p}{-q}$, which gives us the diagram $S(p,-q)$ for the base case.\n",
    "\n",
    "**[INDUCTIVE HYPOTHESIS]** Now consider a continued fraction expansion `cont_frac_exp1(p,q)` of length n, i.e. $[a_1, a_2, ..., a_n]$, and assume that when flipping the sign of each element in the expansion, our new expansion is of the form $frac{p}{-q}$. \n",
    "\n",
    "**[INDUCTIVE STEP]** We need to show this property holds for `cont_frac_exp1(p,q)` of length `n+1`. Let $\\frac{p}{-q}$ be the expansion of $[-a_1, -a_2, ..., -a_n]$ with list length `n`. We add another term, say $-a_{n+1}$ to make the list length n+1 and get $[-a_1, -a_2, ..., -a_n, -a_{n+1}]$, where $[a_1, a_2, ..., a_n, a_{n+1}]$ is `cont_frac_exp1(p,q)`. Let $a_{n+1} = z$, and $so -a_{n+1} = -z$. By our inductive hypothesis, we know that $[-a_1, -a_2, ..., -a_n]$ is of the form $\\frac{p}{-q}$. Adding $-a_{n+1}$, we get\n",
    "$[-a_1, -a_2, ..., -a_n, -a_{n+1}] = \\frac{-z + 1}{\\frac{p}{-q}} = -z + \\frac{-q}{p}  = \\frac{-zp - q}{p} = \\frac{-(zp + q)}{p} = \\frac{(zp + q)}{-p}$, which is of the form $\\frac{P}{-Q}$. \n",
    "\n",
    "Hence, by the principle of mathematical induction, we have proven that changing the signs of the crossings of $S(p,q)$ gives us $S(p,-q)$, and this holds for all $n \\in \\mathbb{N_{>0}}$.\n",
    "\n",
    "Though this does not imply that $S(p,-q) = S(p, p-q)$. We will use claim (c) to prove this. We have shown previously that $S(p,q) \\neq S(p, q + np)$ in general unless $n = 0$. Now, let $-q = r$. Then $S(p,-q) = S(p,r)$. Note that $S(p, p + r)$ is of the form $S(p, np + r)$ when $n = 1$. As per (c), $S(p,r) \\neq S(p, np + r)$ for $n \\neq = 0$, and here, $n = 1$. So, $S(p,r) \\neq S(p, r + p)$. Substituting back, $S(p, -q) \\neq S(p,p-q)$. Hence, claim (d) is incorrect."
   ]
  },
  {
   "cell_type": "markdown",
   "metadata": {},
   "source": [
    "### Section 2.3"
   ]
  },
  {
   "cell_type": "markdown",
   "metadata": {},
   "source": [
    "Investigating the relationship between the links $S(p, q)$ and $S(p,q')$ when $qq' \\equiv 1\\bmod{p}$, we find that the diagrams are vertically flipped and the continued fraction expansion of both $(p,q)$ and $(p,q')$ are (i) flipped and (ii) are always of length 3. To see (i) and (ii), let us consider a numerical example. We let $p = 23$, $q = 4$, and $q' = 6$. Then, upon evaluation we get `[5, 1, 3]` and `[3, 1, 5]` respectively. We can justify this pattern with a range of examples. Thus, let us generalise this process, considering (i) `cont_frac_exp1(p,q) =[a,b,c]` and (ii) `cont_frac_exp1(p,q') = [c, b, a]`. For (i), we get that $\\frac{p}{q} = a + \\frac{1}{b + \\frac{1}{c}} = \\frac{acb + a + c}{cb +1 }$, where $p = acb + a + c$ and $q = cb + 1$. For (ii), we get that $\\frac{p}{q'} = c + \\frac{1}{b + \\frac{1}{a}} = \\frac{acb + a + c}{ab + 1}$, where $p = acb + a + c$, and $q' = ab + 1$. Performing some basic algebraic manipulation, we find that $qq' = (acb^{2} + ab + cb + 1) \\equiv b(acb+a+c) + 1 \\bmod{acb + a + c}$. Hence, $qq' \\equiv bp + 1\\bmod{p}$, i.e. $qq' \\equiv 1\\bmod{p}$. So, we have shown algebraically why $qq' \\equiv 1\\bmod{p}$. \n",
    "\n",
    "We now move on to why `cont_frac_exp1(p,q)` always outputs a list of length 3, given $qq' \\equiv 1\\bmod{p}$. We have already provided an example on how `cont_frac_exp1(p,q)` does output a list of length 3, but we will show that any list it outputs will be of length 3, with the condition that $qq' \\equiv 1\\bmod{p}$. \n",
    "\n",
    "Consider a continued fraction of length 1. This implies $q \\vert p$, i.e. $q = mp$ for some integer $m$, and so $qq' \\bmod{p} \\equiv 0$. Now, consider a continued fraction of length 2, say `cont_frac_exp1[a,b]` and `cont_frac_exp1[b,a]`. Then, $\\frac{p}{q} = a+\\frac{1}{b} = \\frac{ab+1}{b}$, and $\\frac{p}{q'} = b + \\frac{1}{a} = \\frac{ab+1}{a}$. So, $qq' = ab$ and $p = ab +1 $, implying that $qq' \\bmod{p} = -1 \\neq 1$. Now, let us jump to a list of length 4. Consider $(p,q) = $`[a, b, c, d]` and $(p,q') = $`[d, c, b, a]`. Then, $\\frac{p}{q} = a + \\frac{1}{b + \\frac{1}{c + \\frac{1}{d}}} = a + (cd + \\frac{1}{bcd+b+d}) = \\frac{abcd + ba + bd + cd + 1}{bcd + b + d} = \\frac{a(bcd + b + d) + cd +1}{bcd + b + d}$. Here, $p = a(bcd + b +d ) + cd + 1$ and $q = bcd + b + d$, and thus $q \\bmod{p} \\equiv cd + 1$. Using the same logic for $\\frac{p}{q'}$ to find $q'$, we can swap $a$ and $d, b$ and $c$, to get $q' = cba + b + a$. Thus, $qq' = (bcd + b + d)(cba + c + a)$, which naturally does not factor to 1. Now, for a length 5 or more, since the factorisation of `[a, b, c, d, e, ...]` depends on the factorisation of length 4, we arrive at the conclusion that it will not satisfy $qq' \\equiv 1\\bmod{p}$. \n",
    "\n",
    "Hence, we have shown that $qq' \\equiv 1\\bmod{p}$) is only possible when `len(cont_frac_exp1(p,q)) = len(cont_frac_exp1(p,q')) = 3`. Further, we have shown that the continued fraction expansions are always flipped, and so the diagrams $S(p,q)$ and $S(p,q')$ preserve the same structure as they are knots and crossings. Though, note that the diagrams are vertically flipped. \n"
   ]
  },
  {
   "cell_type": "markdown",
   "metadata": {},
   "source": [
    "<a id='PartC'></a>\n",
    "## Chapter 3: The $d$-Invariant\n"
   ]
  },
  {
   "cell_type": "markdown",
   "metadata": {},
   "source": [
    "We now move on to the final topic of this project. We introduce the d-invariant of $S(p,q)$. Recall that this is an arbitrary collection of $p$ rational numbers assigned to a 2-bridge link $S(p,q)$, denoted by $d(S(p,q), i)$, where $p,q$ are coprime. As mentioned previously, we use the 2-bridge link $S(p,q)$ to determine a 3-dimensional manifold $L(p,q)$. While beyond the scope of this project, we do so by constructing a homomorphism between our link and $L(p,q)$. The existence of this homomorphism is proven by Kronheimer and Mrowka in 2010 (See [1]). Then '$d$' is the invariant of this manifold.\n",
    "\n",
    "A natural question may arise. What exactly do we mean by the 'invariant' of a manifold? This refers to a property associated with the manifold $L(p,q)$ which remains unchanged under certain transformations. We find that the $d$-invariant displays certain characteristics and behaviours. For all $p>0$, $d(S(p,q), i)$ satisfies some recursive relations. First, for $p=1$, and any $q,i$, we define $d(S(1,q),i) = 0$. Next, letting $a\\%p$ denote the integer between 0 and $p$ that is congruent to $a$ (mod $p$), we find that $d(S(p,q), i)$ = $d(S(p,q\\%p),i\\%p)$. Last, for $p>q>0$ and $0≤i<p+q$, we have $d(S(p,q),i)$ = $\\frac{(2i+1-p-q)^2-pq}{4pq} - d(S(p,q),i)$. (See [4])\n",
    "\n",
    "Given these relations, we now look to write a function to calculate $d(S(p,q), i)$. Subsequently, we will develop code that will allow us to compute the list of $d$-invariants for any 2-bridge link $S(p,q)$. We move on to analysing two topologically equivalent links $S(p,q_1)$ and $S(p,q_2)$. We explore how this topological equivalence impacts the $d$-invariant. This leads us to our final question - when $S(p,q_1)$ and $S(p,q_2)$ are different links, does that guarantee a different $d$-invariant? We thoroughly investigate these claims by running tests using our functions and providing ample examples to support our arguments.\n",
    "\n"
   ]
  },
  {
   "cell_type": "markdown",
   "metadata": {},
   "source": [
    "<a id='S6.1'></a>\n",
    "### Section 3.1:  Definitions "
   ]
  },
  {
   "cell_type": "markdown",
   "metadata": {},
   "source": [
    "Recall the recursive rules used to calculate the $d$-invariant of a 2-bridge link mentioned above. Given a 2-bridge link $S(p,q)$, we first define `calculate_d_invariant(p,q,i)` which  recursively calculates the $i$th entry of the $d$-invariant, and then we define `compute_d_invariants(p,q)` which compiles all of these such entries.\n"
   ]
  },
  {
   "cell_type": "code",
   "execution_count": 86,
   "metadata": {},
   "outputs": [],
   "source": [
    "def calculate_d_invariant(p, q, i):\n",
    "    if p == 1:\n",
    "        return 0\n",
    "    p_mod_q = p % q\n",
    "    i_mod_p = i % p\n",
    "    if p_mod_q == 0:\n",
    "        return 0\n",
    "    else:\n",
    "        return ((2 * i + 1 - p - q) ** 2 - p * q) / (4 * p * q) - calculate_d_invariant(q, p_mod_q, i_mod_p)\n"
   ]
  },
  {
   "cell_type": "code",
   "execution_count": 87,
   "metadata": {},
   "outputs": [],
   "source": [
    "def compute_d_invariants(p, q):\n",
    "   d_invariants = []\n",
    "   for i in range(p+q):\n",
    "       d_invariants.append(calculate_d_invariant(p, q, i))\n",
    "   return d_invariants\n"
   ]
  },
  {
   "cell_type": "markdown",
   "metadata": {},
   "source": [
    "As a quick example, let's revisit our old example of $p=9$ and $q=7$, hence we calculate the $d$-invariant of $S(9,7)$."
   ]
  },
  {
   "cell_type": "code",
   "execution_count": 88,
   "metadata": {},
   "outputs": [
    {
     "name": "stdout",
     "output_type": "stream",
     "text": [
      "[-0.25, 0.02777777777777779, 0.19444444444444442, 0.25, 0.19444444444444445, 0.02777777777777779, -0.25, -0.6388888888888888, -1.1388888888888888, -1.1071428571428572, -0.5436507936507936, -0.09126984126984126, 0.25, 0.4801587301587301, 0.5992063492063492, 0.6071428571428572]\n"
     ]
    }
   ],
   "source": [
    "print(compute_d_invariants(9,7))\n"
   ]
  },
  {
   "cell_type": "markdown",
   "metadata": {},
   "source": [
    "<a id='S6.2'></a>\n",
    "### Section 3.2: The $d$-invariants of Equivalent Links \n"
   ]
  },
  {
   "cell_type": "markdown",
   "metadata": {},
   "source": [
    "As mentioned earlier, one question regarding the $d$-invariant we may ask ourselves is: Given two equivalent 2-bridge links, i.e $S(p,q_1)=S(p,q_2)$ for some $p,q_1,q_2\\in\\mathbb{Z}$, how does this equivalence correspond to the $d$-invariant? Luckily for us, we have shown in Section 2.3 that given $p,q$ are co-prime and $n\\in\\mathbb{N}$, then we have $S(p,q)=S(p,q+np)$. Hence we will attack this question directly using this example.\n",
    "\n",
    "First let us define a function which checks if the $d$-invariants of two fractions `f1` and `f2` are the same.\n"
   ]
  },
  {
   "cell_type": "code",
   "execution_count": 89,
   "metadata": {},
   "outputs": [],
   "source": [
    "def d_invariant_checker(f1,f2,tolerance):              # Takes inputs f1 and f2 our two fractions (in list or tuple format) which we will compute the d-invariants of, and a tolerance of difference\n",
    "    L1 = compute_d_invariants(f1[0],f1[1])\n",
    "    L2 = compute_d_invariants(f2[0],f2[1])\n",
    "    length = len(L1)\n",
    "    truth = []\n",
    "    for i in range(length):\n",
    "        if abs(L1[i] - L2[i]) < tolerance:             # If difference between values in L1 and L2 is sufficiently small\n",
    "            truth.append(True)                         # Add True to the list truth\n",
    "        if all(truth):\n",
    "            print(f'The d-invariants of {f1} and {f2} are the same.')\n",
    "            return True                                # If all the elements in truth are True then the lists are essentially the same\n",
    "        else:\n",
    "            print(f'The d-invariants of {f1} and {f2} are not the same.')\n",
    "            return False\n"
   ]
  },
  {
   "cell_type": "markdown",
   "metadata": {},
   "source": [
    "We want to test the claim on random $p$ and $q$, so now we define a function `coprime_pair_generator(n)` which returns two co-prime integers less than or equal to `n`. In order to do this, we first define `divisors(x)` which returns the set of proper divisors of a positive integer `x` . \n"
   ]
  },
  {
   "cell_type": "code",
   "execution_count": 90,
   "metadata": {},
   "outputs": [],
   "source": [
    "def divisors(x):\n",
    "    divs = set()                    # Use a set so that we can use python's intersection() function later\n",
    "    for i in range(1,x+1):\n",
    "        if x % i == 0:\n",
    "            divs.add(i)\n",
    "    return divs\n",
    "\n",
    "from random import randrange\n",
    "def coprime_pair_generator(n):\n",
    "    num1 = randrange(n+1)\n",
    "    num1_divs = divisors(num1)       # Choose the first number randomly and generate its set of divisors\n",
    "    done = False\n",
    "    while done == False:\n",
    "        num2 = randrange(n+1)\n",
    "        if divisors(num2).intersection(num1_divs) == {1}:   # If num1 and num2 only have 1 in common in their sets of divisors\n",
    "            done = True                                     # This num2 works so break out of the while loop\n",
    "    return (num1,num2)\n"
   ]
  },
  {
   "cell_type": "markdown",
   "metadata": {},
   "source": [
    "First let us check a simple example we've seen earlier, $S(9,7)$ and pick $n=2$ so check this against $S(9,25)$. Note that if $p,q$ are co-prime and $n\\in\\mathbb{Z}$ then $p,q+np$ are co-prime so we don't need to worry about the new inputs.\n"
   ]
  },
  {
   "cell_type": "code",
   "execution_count": 91,
   "metadata": {},
   "outputs": [
    {
     "name": "stdout",
     "output_type": "stream",
     "text": [
      "The d-invariants of (9, 7) and (9, 25) are the same.\n"
     ]
    },
    {
     "data": {
      "text/plain": [
       "True"
      ]
     },
     "execution_count": 91,
     "metadata": {},
     "output_type": "execute_result"
    }
   ],
   "source": [
    "d1 = (9,7)\n",
    "d2 = (9,25)\n",
    "tol = 1e-5\n",
    "d_invariant_checker(d1,d2,tol)\n"
   ]
  },
  {
   "cell_type": "markdown",
   "metadata": {},
   "source": [
    "So our initial test shows that the equivalent links produce equivalent $d$-invariants. Now let us check with random inputs for $n$ and $p,q$ using `coprime_pair_generator`. Run the cell below multiple times.\n"
   ]
  },
  {
   "cell_type": "code",
   "execution_count": 92,
   "metadata": {},
   "outputs": [
    {
     "name": "stdout",
     "output_type": "stream",
     "text": [
      "The d-invariants of (848, 233) and (848, 10168) are the same.\n"
     ]
    },
    {
     "data": {
      "text/plain": [
       "True"
      ]
     },
     "execution_count": 92,
     "metadata": {},
     "output_type": "execute_result"
    }
   ],
   "source": [
    "random_pair = coprime_pair_generator(1000)\n",
    "n = randrange(100)\n",
    "modified_rp = (random_pair[0],random_pair[0] + n*random_pair[1])\n",
    "\n",
    "d_invariant_checker(random_pair, modified_rp, tol)\n"
   ]
  },
  {
   "cell_type": "markdown",
   "metadata": {},
   "source": [
    "Hence we see from our tests that in this example, equivalent 2-bridge links imply equivalent $d$-invariants. Next, we will look at whether the contrapositive of this is true: do inequivalent 2-bridge links correspond with differing $d$-invariants?\n"
   ]
  },
  {
   "cell_type": "markdown",
   "metadata": {},
   "source": [
    "<a id='S6.3'></a>\n",
    "### Section 3.3: The $d$-invariants of Inequivalent Links \n"
   ]
  },
  {
   "cell_type": "code",
   "execution_count": 160,
   "metadata": {},
   "outputs": [],
   "source": [
    "from math import gcd\n",
    "from random import sample\n",
    "\n",
    "def dinvprint(array): # A function for printing each term in a d-invariant to 3 d.p.\n",
    "    output = \"[\"\n",
    "    for item in array:\n",
    "        output += \"{0:.3f}, \".format(item)\n",
    "    return output[0:-2] + \"]\"\n",
    "\n",
    "dinv_memo = {}\n",
    "calls = 0\n",
    "\n",
    "def compute_dinv_memo(p, q):\n",
    "    global calls\n",
    "    if (p, q) not in dinv_memo:\n",
    "        dinv_memo[(p, q)] = compute_d_invariants(p, q)\n",
    "        calls += 1\n",
    "    return dinv_memo[(p, q)]\n",
    "\n",
    "# We define a function to distinguish between 2-bridge links for a given range of p values, say p<1000\n",
    "def distinguish_2_bridge_links(p_max):\n",
    "    # Now, iterate over all possible values of p\n",
    "    global calls\n",
    "    log = []\n",
    "    tests = 0\n",
    "    successes = 0\n",
    "    for p in range(2, p_max):\n",
    "        # Similarly, iterate over all possible values of q_1 and q_2 that satisfy the co-primality condition\n",
    "        for q_1 in range(2, p):\n",
    "            if gcd(p, q_1) == 1:\n",
    "                for q_2 in range(2, q_1):\n",
    "                    if gcd(p, q_2) == 1:\n",
    "                        tests += 1\n",
    "                        # Next, compute the d-invariants for both pairs\n",
    "                        d_1 = compute_dinv_memo(p, q_1)\n",
    "                        d_2 = compute_dinv_memo(p, q_2)\n",
    "                        # If d-invariants are different, print a message and return\n",
    "                        if d_1 != d_2:\n",
    "                            successes += 1\n",
    "                            log.append(\"S({},{}) and S({},{}) are different knots, and therefore have differing d-invariants.\\n\".format(p, q_1, p, q_2) +\n",
    "                                \"S({},{}) has d-invariant {}. .\\nS({},{}) has d-invariant {}.\".format(p, q_1, dinvprint(d_1), p, q_2, dinvprint(d_2)))\n",
    "    print(calls)\n",
    "    print(\"We tested {} pairs of unequivalent knots and found that {} of them had different d-invariants, a {:.1f}% success rate\".format(tests, successes, (tests / successes) * 100))\n",
    "    for entry in sample(log, 5):\n",
    "        print(entry)"
   ]
  },
  {
   "cell_type": "markdown",
   "metadata": {},
   "source": [
    "We can use this function to test a range of 2-bridge links. Given the examples below, we find that inequivalent 2-bridge links have unique d-invariants."
   ]
  },
  {
   "cell_type": "code",
   "execution_count": 161,
   "metadata": {},
   "outputs": [
    {
     "name": "stdout",
     "output_type": "stream",
     "text": [
      "2902\n",
      "We tested 64988 pairs of unequivalent knots and found that 64988 of them had different d-invariants, a 100.0% success rate\n",
      "S(93,91) and S(93,41) are different knots, and therefore have differing d-invariants.\n",
      "S(93,91) has d-invariant [-10.637, -10.159, -9.691, -9.234, -8.788, -8.352, -7.927, -7.513, -7.110, -6.718, -6.336, -5.965, -5.605, -5.255, -4.917, -4.589, -4.272, -3.965, -3.669, -3.384, -3.110, -2.847, -2.594, -2.352, -2.121, -1.901, -1.691, -1.492, -1.304, -1.126, -0.960, -0.804, -0.659, -0.524, -0.401, -0.288, -0.185, -0.094, -0.013, 0.056, 0.116, 0.164, 0.202, 0.228, 0.245, 0.250, 0.245, 0.228, 0.202, 0.164, 0.116, 0.056, -0.013, -0.094, -0.185, -0.288, -0.401, -0.524, -0.659, -0.804, -0.960, -1.126, -1.304, -1.492, -1.691, -1.901, -2.121, -2.352, -2.594, -2.847, -3.110, -3.384, -3.669, -3.965, -4.272, -4.589, -4.917, -5.255, -5.605, -5.965, -6.336, -6.718, -7.110, -7.513, -7.927, -8.352, -8.788, -9.234, -9.691, -10.159, -10.637, -11.126, -11.626, -11.626, -11.126, -10.636, -10.157, -9.689, -9.231, -8.785, -8.349, -7.923, -7.509, -7.105, -6.712, -6.330, -5.959, -5.598, -5.248, -4.909, -4.580, -4.263, -3.956, -3.660, -3.374, -3.100, -2.836, -2.583, -2.340, -2.108, -1.888, -1.677, -1.478, -1.289, -1.111, -0.944, -0.788, -0.642, -0.507, -0.383, -0.270, -0.167, -0.075, 0.006, 0.076, 0.136, 0.185, 0.223, 0.250, 0.267, 0.272, 0.268, 0.252, 0.225, 0.188, 0.140, 0.082, 0.012, -0.068, -0.159, -0.260, -0.373, -0.496, -0.630, -0.775, -0.930, -1.096, -1.273, -1.461, -1.659, -1.869, -2.089, -2.319, -2.561, -2.813, -3.076, -3.350, -3.634, -3.929, -4.235, -4.552, -4.880, -5.218, -5.567, -5.927, -6.297, -6.678, -7.070, -7.473, -7.887, -8.311, -8.746, -9.192, -9.648]. .\n",
      "S(93,41) has d-invariant [0.013, -0.228, -0.202, 0.094, 0.659, 1.492, 2.594, 3.965, 0.272, -0.487, -0.976, -0.238, -0.273, -0.039, 0.464, 1.235, 2.276, 3.585, 5.163, 1.676, 1.125, 0.843, 1.788, 1.960, 2.401, 3.110, 4.089, 5.336, 6.852, 8.637, 5.358, 5.013, 4.938, 6.090, 6.469, 7.117, 8.034, 9.219, 10.673, 12.397, 14.388, -0.067, -0.469, -0.602, -0.467, -0.063, 0.610, 1.552, 2.763, -1.091, -2.010, -2.659, -2.082, -2.277, -2.203, -1.861, -1.250, -0.370, 0.779, 2.197, -1.450, -2.161, -2.604, -1.819, -1.808, -1.527, -0.978, -0.160, 0.927, 2.283, 3.908, 0.468, -0.036, -0.272, 0.720, 0.938, 1.426, 2.182, 3.207, 4.501, 6.064, 7.896, -6.720, -7.282, -7.576, -7.601, -7.357, -6.844, -6.063, -5.012, -9.027, -10.105, -10.915, -0.962, -1.155, -1.080, -0.735, -0.122, 0.760, 1.911, 3.331, -0.314, -1.023, -1.464, -0.677, -0.663, -0.380, 0.171, 0.991, 2.080, 3.438, 5.065, 1.627, 1.125, 0.892, 1.885, 2.106, 2.596, 3.354, 4.381, 5.677, 7.242, 9.076, 5.845, 5.550, 5.524, 6.724, 7.152, 7.849, 8.814, 10.048, 11.551, 13.323, 15.364].\n",
      "S(82,47) and S(82,19) are different knots, and therefore have differing d-invariants.\n",
      "S(82,47) has d-invariant [0.409, 0.476, 0.533, 0.578, 0.613, 0.636, 0.648, 0.649, 0.639, 0.618, 0.586, 0.543, 0.488, 0.423, 0.346, 0.259, 0.160, 0.050, -0.070, -0.202, -0.345, -0.499, -0.665, -0.841, -1.028, -1.227, -1.436, -1.657, -1.889, -2.131, -2.385, -2.650, -2.926, -3.213, -3.512, -0.374, -0.164, 0.035, 0.222, 0.399, 0.565, 0.719, 0.863, 0.995, 1.116, 1.226, 1.325, 0.392, 0.427, 0.451, 0.464, 0.465, 0.456, 0.435, 0.403, 0.361, 0.307, 0.242, 0.166, 0.079, -0.019, -0.128, -0.249, -0.380, -0.523, -0.676, -0.841, -1.017, -1.204, -1.402, -1.611, -1.831, -2.062, -2.304, -2.558, -2.822, -3.098, -3.384, -3.682, -3.991, -4.311, -4.642, -0.570, -0.460, -0.361, -0.273, -0.196, -0.130, -0.075, -0.032, 0.001, 0.022, 0.033, 0.032, 0.020, -0.003, -0.037, -0.082, -0.138, -0.205, -0.283, -0.373, -0.473, -0.585, -0.707, -0.841, -0.986, -1.142, -1.309, -1.487, -1.676, -1.876, -2.087, -2.310, -2.543, -2.788, -3.044, 0.137, 0.389, 0.630, 0.861, 1.080, 1.288, 1.485, 1.671, 1.846, 2.010, 2.162, 2.304]. .\n",
      "S(82,19) has d-invariant [0.341, 0.480, 0.602, 0.707, 0.797, 0.870, 0.927, 0.967, 0.992, 1.000, 0.992, 0.967, 0.927, 0.870, 0.797, 0.707, 0.602, 0.480, 0.341, 0.187, 0.016, -0.171, -0.374, -0.593, -0.829, -1.081, -1.350, -1.634, -1.935, -2.252, -2.585, -2.935, -3.301, -3.683, -4.081, -4.496, -4.927, -5.374, -5.837, -6.317, -6.813, -7.325, -7.854, -8.398, -8.959, -9.537, -10.130, -10.740, -11.366, -12.008, -12.667, -13.341, -14.033, -14.740, -15.463, -16.203, -16.959, -17.732, -18.520, -19.325, -20.146, -20.984, -21.837, -22.707, -23.593, -24.496, -25.415, -26.350, -27.301, -28.268, -29.252, -30.252, -31.268, -32.301, -33.350, -34.415, -35.496, -36.593, -37.707, -38.837, -39.984, -41.146, -0.606, -0.362, -0.135, 0.076, 0.270, 0.449, 0.611, 0.757, 0.887, 1.000, 1.097, 1.178, 1.243, 1.291, 1.323, 1.339, 1.338, 1.322, 1.289].\n",
      "S(79,37) and S(79,35) are different knots, and therefore have differing d-invariants.\n",
      "S(79,37) has d-invariant [-0.491, -0.813, -0.946, -0.889, -0.642, -0.206, 0.421, 1.237, 2.244, 3.440, 4.826, 6.402, 8.168, 10.123, 12.269, 14.604, 17.130, 19.845, 22.750, 25.845, 29.130, 32.604, 36.269, 40.123, 44.168, 48.402, 52.826, 57.440, 62.244, 67.237, 72.421, 77.794, 83.358, 89.111, 95.054, 101.187, 107.509, -0.678, -1.375, -1.883, -2.201, -2.328, -2.266, -2.015, -1.573, -0.941, -0.120, 0.892, 2.093, 3.484, 5.065, 6.836, 8.797, 10.947, 13.288, 15.818, 18.539, 21.449, 24.549, 27.839, 31.318, 34.988, 38.847, 42.897, 47.136, 51.565, 56.184, 60.993, 65.992, 71.180, 76.559, 82.127, 87.885, 93.834, -14.728, -15.801, -16.683, -17.375, -17.878, -1.463, -1.732, -1.811, -1.700, -1.399, -0.908, -0.228, 0.643, 1.703, 2.953, 4.394, 6.024, 7.843, 9.853, 12.053, 14.442, 17.022, 19.791, 22.750, 25.899, 29.238, 32.767, 36.485, 40.394, 44.492, 48.780, 53.258, 57.926, 62.784, 67.832, 73.070, 78.497, 84.114, 89.922, 95.919, 102.106, 108.482]. .\n",
      "S(79,35) has d-invariant [0.326, 0.210, 0.117, 0.046, -0.003, -0.030, -0.035, -0.017, 0.022, 0.084, 0.168, 0.274, 0.402, 0.552, 0.725, 0.919, 1.136, 1.375, 1.636, 1.919, 2.225, 2.552, 2.902, 3.274, 3.668, 4.084, 4.522, 4.983, 5.465, 5.970, 6.497, 7.046, 7.617, 8.210, 8.826, 0.227, -0.085, -0.375, -0.643, -0.889, -1.113, -1.315, -1.494, -1.652, -1.787, -1.900, -1.991, -2.059, -2.106, -2.130, -2.133, -2.113, -2.071, -2.007, -1.920, -1.812, -1.681, -1.528, -1.354, -1.156, -0.937, -0.696, -0.432, -0.147, 0.161, 0.491, 0.843, 1.218, 1.614, 2.033, -6.763, -7.272, -7.759, -8.224, -8.667, -9.088, -9.486, -9.863, -10.217, -0.645, -0.704, -0.740, -0.754, -0.746, -0.716, -0.663, -0.589, -0.492, -0.373, -0.232, -0.069, 0.116, 0.324, 0.553, 0.805, 1.079, 1.375, 1.693, 2.034, 2.396, 2.781, 3.188, 3.617, 4.068, 4.541, 5.036, 5.554, 6.094, 6.656, 7.240, 7.846, 8.474, 9.125, 9.797].\n",
      "S(89,82) and S(89,40) are different knots, and therefore have differing d-invariants.\n",
      "S(89,82) has d-invariant [-2.419, -2.076, -1.879, -1.829, -1.924, -2.166, -2.553, -2.387, -1.667, -1.093, -0.665, -0.383, -0.247, -0.257, 0.287, 1.385, 2.337, 3.142, 3.802, 4.315, 4.683, 5.604, 7.079, 8.408, 9.592, 10.629, 11.520, 12.265, 13.563, 15.416, 17.123, 18.684, 20.098, 21.367, 22.489, 24.166, 26.396, 28.480, 30.419, 32.211, 33.857, 35.357, 37.411, 40.019, 42.480, 44.796, 46.966, 48.989, 50.867, 53.298, 56.284, 59.123, 61.816, 64.363, 66.765, 69.020, 71.829, 75.192, 78.408, 81.479, 84.404, 87.183, 89.815, 93.002, 96.742, 100.337, 103.785, 107.087, 110.243, 113.253, 116.817, 120.935, 124.907, 128.733, 132.413, 135.947, 139.334, 143.276, 147.771, 152.121, 156.324, 160.381, -2.550, -2.471, -2.537, -2.750, -3.109, -3.614, -4.264, -3.406, -3.039, -2.818, -2.743, -2.814, -3.032, -3.395, -3.204, -2.460, -1.861, -1.409, -1.102, -0.942, -0.927, -0.359, 0.763, 1.739, 2.569, 3.253, 3.791, 4.183, 5.128, 6.628, 7.982, 9.189, 10.251, 11.166, 11.935, 13.259, 15.136, 16.867, 18.452, 19.891, 21.184, 22.331, 24.032, 26.286, 28.395, 30.358, 32.174, 33.845, 35.369, 37.447, 40.080, 42.566, 44.906, 47.100, 49.148, 51.050, 53.506, 56.515, 59.379, 62.097, 64.668, 67.094, 69.373, 72.207, 75.594, 78.835, 81.930, 84.880, 87.683, 90.340, 93.550, 97.315, 100.934, 104.407, 107.733, 110.914, 113.948, 117.537, 121.679, 125.676, 129.526, 133.230, 136.788, 140.200, 144.166, 148.686, 153.060, 157.288, 161.369]. .\n",
      "S(89,40) has d-invariant [0.301, 0.090, -0.070, -0.180, -0.239, -0.247, -0.205, -0.112, 0.031, 0.225, 0.469, 0.764, 1.110, 1.506, 1.952, 2.449, 2.997, 3.596, 4.244, 4.944, 5.694, 6.494, 7.346, 8.247, 9.199, 10.202, 11.256, 12.360, 13.514, 14.719, 15.975, 17.281, 18.638, 20.045, 21.503, 23.011, 24.570, 26.180, 27.840, 29.551, 0.201, -0.210, -0.570, -0.879, -1.138, -1.346, -1.503, -1.610, -1.667, -1.673, -1.628, -1.533, -1.387, -1.191, -0.944, -0.647, -0.299, 0.100, 0.549, 1.049, 1.599, 2.200, 2.851, 3.553, 4.306, 5.109, 5.962, 6.866, 7.821, 8.826, 9.882, 10.989, 12.146, 13.353, 14.611, 15.920, 17.279, 18.689, 20.150, 21.660, -7.889, -8.499, -9.059, -9.568, -10.027, -10.434, -10.792, -11.099, -11.355, -0.674, -0.835, -0.945, -1.005, -1.014, -0.972, -0.880, -0.737, -0.544, -0.300, -0.006, 0.339, 0.735, 1.181, 1.677, 2.224, 2.822, 3.471, 4.169, 4.919, 5.719, 6.569, 7.471, 8.422, 9.424, 10.477, 11.581, 12.735, 13.939, 15.194, 16.500, 17.856, 19.263, 20.720, 22.228, 23.786, 25.395, 27.055, 28.765, 30.526].\n",
      "S(95,44) and S(95,16) are different knots, and therefore have differing d-invariants.\n",
      "S(95,44) has d-invariant [0.003, -0.371, -0.608, -0.708, -0.671, -0.497, -0.187, 0.261, 0.845, 1.566, 2.424, 3.418, 4.550, 5.818, 7.224, 8.766, 10.445, 12.261, 14.213, 16.303, 18.529, 20.892, 23.392, 26.029, 28.803, 31.713, 34.761, 37.945, 41.266, 44.724, 48.318, 52.050, 55.918, 59.924, 64.066, 68.345, 72.761, 77.313, 82.003, 86.829, 91.792, 96.892, 102.129, 107.503, -0.130, -0.768, -1.270, -1.634, -1.862, -1.953, -1.907, -1.724, -1.405, -0.948, -0.355, 0.375, 1.242, 2.245, 3.386, 4.664, 6.078, 7.629, 9.317, 11.142, 13.103, 15.202, 17.437, 19.809, 22.318, 24.964, 27.747, 30.667, 33.723, 36.916, 40.246, 43.713, 47.317, 51.058, 54.935, 58.949, 63.100, 67.388, 71.813, 76.375, 81.073, 85.909, 90.881, 95.990, -11.907, -12.810, -13.576, -14.206, -14.698, -15.054, -15.273, -0.975, -1.303, -1.494, -1.549, -1.467, -1.247, -0.891, -0.399, 0.231, 0.998, 1.901, 2.941, 4.118, 5.432, 6.883, 8.470, 10.195, 12.056, 14.054, 16.189, 18.461, 20.869, 23.415, 26.097, 28.916, 31.872, 34.965, 38.195, 41.561, 45.065, 48.705, 52.482, 56.396, 60.446, 64.634, 68.958, 73.420, 78.018, 82.753, 87.624, 92.633, 97.778, 103.061, 108.480]. .\n",
      "S(95,16) has d-invariant [1.053, 1.102, 1.144, 1.179, 1.207, 1.228, 1.242, 1.249, 1.249, 1.242, 1.228, 1.207, 1.179, 1.144, 1.102, 1.053, 0.996, 0.933, 0.863, 0.786, 0.702, 0.611, 0.512, 0.407, 0.295, 0.175, 0.049, -0.084, -0.225, -0.372, -0.526, -0.688, -0.856, -1.032, -1.214, -1.404, -1.600, -1.804, -2.014, -2.232, -2.456, -2.688, -2.926, -3.172, -3.425, -3.684, -3.951, -4.225, -4.505, -4.793, -5.088, -5.389, -5.698, -6.014, -6.337, -6.667, -7.004, -7.347, -7.698, -8.056, -8.421, -8.793, -9.172, -9.558, -9.951, -10.351, -10.758, -11.172, -11.593, -12.021, -12.456, -12.898, -13.347, -13.804, -14.267, -14.737, -15.214, -15.698, -16.189, -16.688, -17.193, -17.705, -18.225, -18.751, -19.284, -19.825, -20.372, -20.926, -21.488, -22.056, -22.632, -23.214, -23.804, -24.400, -25.004, 0.115, 0.289, 0.456, 0.616, 0.770, 0.916, 1.055, 1.187, 1.312, 1.430, 1.541, 1.645, 1.741, 1.831, 1.914, 1.990].\n",
      "11950\n",
      "We tested 559210 pairs of unequivalent knots and found that 559210 of them had different d-invariants, a 100.0% success rate\n",
      "S(133,45) and S(133,10) are different knots, and therefore have differing d-invariants.\n",
      "S(133,45) has d-invariant [5.709, 5.224, 4.761, 4.321, 3.904, 3.509, 3.137, 2.788, 2.461, 2.156, 1.874, 1.615, 1.378, 1.164, 0.972, 0.803, 0.656, 0.532, 0.430, 0.352, 0.295, 0.261, 0.250, 0.261, 0.295, 0.352, 0.430, 0.532, 0.656, 0.803, 0.972, 1.164, 1.378, 1.615, 1.874, 2.156, 2.461, 2.788, 3.137, 3.509, 3.904, 4.321, 4.761, 5.224, 5.709, 5.693, 5.176, 4.683, 4.211, 3.763, 3.336, 2.933, 2.552, 2.193, 1.857, 1.544, 1.253, 0.984, 0.739, 0.515, 0.315, 0.137, -0.019, -0.152, -0.262, -0.350, -0.415, -0.458, -0.478, -0.476, -0.451, -0.404, -0.334, -0.241, -0.126, 0.012, 0.172, 0.355, 0.560, 0.788, 1.039, 1.312, 1.607, 1.925, 2.266, 2.629, 3.015, 3.424, 3.855, 4.308, 4.261, 3.713, 3.188, 2.685, 2.205, 1.747, 1.312, 0.899, 0.509, 0.142, -0.203, -0.526, -0.825, -1.103, -1.357, -1.589, -1.799, -1.986, -2.150, -2.292, -2.412, -2.508, -2.583, -2.634, -2.663, -2.670, -2.654, -2.615, -2.554, -2.471, -2.364, -2.236, -2.084, -1.910, -1.714, -1.495, -1.253, -0.989, -0.703, -0.393, -0.062, 0.293, 0.670, 4.731, 4.290, 3.872, 3.477, 3.104, 2.754, 2.426, 2.121, 1.838, 1.578, 1.341, 1.126, 0.933, 0.764, 0.616, 0.492, 0.389, 0.310, 0.253, 0.218, 0.206, 0.217, 0.250, 0.306, 0.384, 0.485, 0.608, 0.754, 0.923, 1.114, 1.327, 1.564, 1.822, 2.104, 2.407, 2.734, 3.083, 3.454, 3.848, 4.265, 4.704, 5.166, 5.650, 6.157, 6.686]. .\n",
      "S(133,10) has d-invariant [2.590, 2.851, 3.046, 3.177, 3.242, 3.242, 3.177, 3.046, 2.851, 2.590, 2.264, 1.873, 1.417, 0.896, 0.310, -0.342, -1.059, -1.841, -2.688, -3.600, -4.578, -5.620, -6.728, -7.901, -9.139, -10.442, -11.811, -13.244, -14.743, -16.307, -17.936, -19.630, -21.390, -23.214, -25.104, -27.059, -29.079, -31.164, -33.315, -35.530, -37.811, -40.157, -42.568, -45.044, -47.585, -50.192, -52.863, -55.600, -58.402, -61.269, -64.202, -67.199, -70.262, -73.390, -76.583, -79.841, -83.164, -86.553, -90.006, -93.525, -97.109, -100.758, -104.472, -108.252, -112.096, -116.006, -119.981, -124.021, -128.127, -132.297, -136.533, -140.833, -145.199, -149.630, -154.127, -158.688, -163.315, -168.006, -172.763, -177.585, -182.472, -187.425, -192.442, -197.525, -202.673, -207.886, -213.164, -218.508, -223.916, -229.390, -234.929, -240.533, -246.202, -251.936, -257.736, -263.600, -269.530, -275.525, -281.585, -287.711, -293.901, -300.157, -306.477, -312.863, -319.315, -325.831, -332.412, -339.059, -345.771, -352.548, -359.390, -366.297, -373.269, -380.307, -387.410, -394.578, -401.811, -409.109, -416.472, -423.901, -431.395, -438.954, -446.578, -454.267, -462.021, -469.841, -477.726, -485.675, -493.690, -501.771, -509.916, -518.127, -526.402, 1.690, 2.151, 2.546, 2.877, 3.142, 3.342, 3.477, 3.546, 3.551, 3.490].\n",
      "S(69,31) and S(69,2) are different knots, and therefore have differing d-invariants.\n",
      "S(69,31) has d-invariant [0.283, 0.022, -0.152, -0.239, -0.239, -0.152, 0.022, 0.283, 0.630, 1.065, 1.587, 2.196, 2.891, 3.674, 4.543, 5.500, 6.543, 7.674, 8.891, 10.196, 11.587, 13.065, 14.630, 16.283, 18.022, 19.848, 21.761, 23.761, 25.848, 28.022, 30.283, 0.154, -0.363, -0.794, -1.138, -1.394, -1.564, -1.647, -1.643, -1.552, -1.374, -1.109, -0.757, -0.318, 0.208, 0.821, 1.521, 2.307, 3.181, 4.142, 5.189, 6.324, 7.546, 8.854, 10.249, 11.732, 13.301, 14.958, 16.701, 18.531, 20.448, 22.452, -7.933, -8.707, -9.394, -9.995, -10.508, -10.935, -11.274, -0.685, -0.881, -0.991, -1.013, -0.949, -0.797, -0.559, -0.234, 0.179, 0.678, 1.264, 1.938, 2.698, 3.545, 4.479, 5.500, 6.608, 7.803, 9.085, 10.454, 11.910, 13.452, 15.082, 16.799, 18.602, 20.493, 22.471, 24.535, 26.687, 28.925, 31.250]. .\n",
      "S(69,2) has d-invariant [8.627, 8.127, 7.641, 7.170, 6.714, 6.272, 5.844, 5.431, 5.033, 4.649, 4.279, 3.924, 3.583, 3.257, 2.946, 2.649, 2.366, 2.098, 1.844, 1.605, 1.380, 1.170, 0.975, 0.793, 0.627, 0.475, 0.337, 0.214, 0.105, 0.011, -0.069, -0.134, -0.185, -0.221, -0.243, -0.250, -0.243, -0.221, -0.185, -0.134, -0.069, 0.011, 0.105, 0.214, 0.337, 0.475, 0.627, 0.793, 0.975, 1.170, 1.380, 1.605, 1.844, 2.098, 2.366, 2.649, 2.946, 3.257, 3.583, 3.924, 4.279, 4.649, 5.033, 5.431, 5.844, 6.272, 6.714, 7.170, 7.641, 8.127, 8.627].\n",
      "S(113,100) and S(113,34) are different knots, and therefore have differing d-invariants.\n",
      "S(113,100) has d-invariant [-1.476, -1.274, -1.113, -0.991, -0.909, -0.867, -0.865, -0.903, -0.980, -1.097, -1.254, -1.451, -1.688, -1.603, -1.198, -0.832, -0.505, -0.219, 0.028, 0.234, 0.401, 0.528, 0.616, 0.663, 0.671, 0.638, 0.927, 1.538, 2.108, 2.639, 3.130, 3.581, 3.992, 4.364, 4.695, 4.987, 5.239, 5.451, 5.624, 6.117, 6.932, 7.707, 8.442, 9.138, 9.794, 10.409, 10.985, 11.521, 12.018, 12.474, 12.891, 13.268, 13.966, 14.985, 15.965, 16.905, 17.805, 18.665, 19.485, 20.265, 21.006, 21.707, 22.368, 22.989, 23.571, 24.473, 25.697, 26.881, 28.026, 29.130, 30.195, 31.220, 32.205, 33.150, 34.055, 34.921, 35.746, 36.532, 37.639, 39.068, 40.456, 41.805, 43.114, 44.383, 45.613, 46.802, 47.952, 49.062, 50.132, 51.162, 52.153, 53.464, 55.097, 56.691, 58.244, 59.757, 61.231, 62.665, 64.059, 65.413, -1.544, -1.479, -1.453, -1.468, -1.522, -1.616, -1.750, -1.924, -2.137, -2.391, -2.684, -3.017, -3.390, -2.466, -2.244, -2.063, -1.921, -1.819, -1.757, -1.735, -1.753, -1.810, -1.907, -2.044, -2.221, -2.438, -2.333, -1.908, -1.522, -1.175, -0.869, -0.602, -0.376, -0.189, -0.042, 0.066, 0.133, 0.161, 0.148, 0.457, 1.088, 1.678, 2.229, 2.740, 3.211, 3.642, 4.034, 4.385, 4.697, 4.969, 5.201, 5.394, 5.907, 6.742, 7.537, 8.292, 9.008, 9.684, 10.319, 10.915, 11.471, 11.988, 12.464, 12.901, 13.298, 14.016, 15.055, 16.055, 17.015, 17.935, 18.815, 19.655, 20.455, 21.216, 21.937, 22.618, 23.259, 23.861, 24.783, 26.027, 27.231, 28.396, 29.520, 30.605, 31.650, 32.655, 33.620, 34.545, 35.431, 36.276, 37.082, 38.209, 39.658, 41.066, 42.435, 43.764, 45.053, 46.303, 47.512, 48.682, 49.812, 50.902, 51.952, 52.963, 54.294, 55.947, 57.561, 59.134, 60.667, 62.161, 63.615, 65.029, 66.403]. .\n",
      "S(113,34) has d-invariant [0.093, 0.170, 0.243, 0.310, 0.373, 0.431, 0.484, 0.532, 0.576, 0.614, 0.648, 0.677, 0.701, 0.720, 0.735, 0.745, 0.749, 0.749, 0.745, 0.735, 0.720, 0.701, 0.677, 0.648, 0.614, 0.576, 0.532, 0.484, 0.431, 0.373, 0.310, 0.243, 0.170, 0.093, 0.011, -0.076, -0.168, -0.264, -0.366, -0.472, -0.583, -0.699, -0.819, -0.945, -1.075, -1.210, -1.350, -1.495, -1.645, -1.799, -1.959, -2.123, -2.292, -2.465, -2.644, -2.827, -3.016, -3.209, -3.407, -3.609, -3.817, -4.029, -4.247, -4.469, -4.695, -4.927, -5.164, -5.405, -5.651, -5.902, -6.158, -6.419, -6.684, -6.955, -7.230, -7.510, -7.794, -8.084, -8.379, -8.678, -8.982, -9.291, -9.605, -9.923, -10.247, -10.575, -10.908, -11.246, -11.588, -11.936, -12.288, -12.646, -13.008, -13.374, -13.746, -14.123, -14.504, -14.890, -15.281, -15.677, -16.078, -16.483, -16.893, -17.309, -17.728, -18.153, -18.583, -19.017, -19.457, -19.901, -20.350, -20.803, -21.262, -0.878, -0.742, -0.610, -0.484, -0.362, -0.246, -0.134, -0.027, 0.076, 0.173, 0.266, 0.353, 0.436, 0.515, 0.588, 0.656, 0.720, 0.779, 0.833, 0.882, 0.926, 0.966, 1.001, 1.030, 1.055, 1.076, 1.091, 1.102, 1.107, 1.108, 1.104, 1.095, 1.082, 1.064].\n",
      "S(166,143) and S(166,69) are different knots, and therefore have differing d-invariants.\n",
      "S(166,143) has d-invariant [0.114, -0.175, -0.247, -0.102, 0.259, 0.004, -0.867, -1.522, -1.960, -2.181, -3.018, -4.472, -5.709, -6.729, -7.532, -8.952, -10.988, -12.807, -14.410, -15.795, -17.797, -20.416, -22.817, 0.031, 0.130, 0.446, 0.978, 1.728, 1.861, 1.377, 1.110, 1.061, 1.228, 0.778, -0.288, -1.137, -1.769, -2.184, -3.216, -4.864, -6.295, -7.510, -8.507, -10.121, -12.352, -14.365, 8.871, 9.358, 10.061, 10.982, 12.119, 12.640, 12.545, 12.666, 13.004, 13.559, 13.498, 12.820, 12.359, 12.114, 12.087, 11.443, 10.183, 9.140, 8.313, 7.704, 6.478, 4.635, 3.009, 26.634, 27.508, 28.600, 29.908, 31.434, 32.343, 32.635, 33.144, 33.870, 34.813, 35.140, 34.850, 34.777, 34.920, 35.281, 35.025, 34.153, 33.498, 33.059, 32.837, 31.999, 30.545, 29.307, 53.319, 54.582, 56.061, 57.758, 59.671, 60.968, 61.648, 62.545, 63.659, 64.990, 65.705, 65.803, 66.118, 66.649, 67.398, 67.530, 67.046, 66.778, 66.728, 66.894, 66.444, 65.377, 64.527, 88.928, 90.578, 92.446, 94.530, 96.831, 98.516, 99.584, 100.869, 102.371, 104.090, 105.193, 105.679, 106.382, 107.301, 108.438, 108.958, 108.861, 108.982, 109.319, 109.873, 109.811, 109.133, 108.671, 133.459, 135.498, 137.753, 140.225, 142.914, 0.077, -0.287, -0.434, -0.365, -0.078, -0.408, -1.354, -2.084, -2.597, -2.892, -3.805, -5.333, -6.645, -7.740, -8.618, -10.113, -12.224, -14.118, -15.795, -17.256, -19.333, -22.026, -24.503, -0.879, -1.154, -1.212, -1.053, -0.678, -0.919, -1.777, -2.417, -2.841, -3.048, -3.871, -5.311, -6.534, -7.540, -8.329, -9.735, -11.757, -13.562, -15.151, -16.522, -18.510, -21.115, -23.503, -0.640, -0.527, -0.198, 0.349, 1.112, 1.259, 0.790, 0.537, 0.501, 0.682, 0.247, -0.805, -1.640, -2.258, -2.659, -3.677, -5.311, -6.729, -7.929, -8.913, -10.513, -12.729, -14.729, 8.521, 9.022, 9.740, 10.674, 11.826, 12.360, 12.279, 12.414, 12.766, 13.335, 13.288, 12.624, 12.177, 11.947, 11.933, 11.304, 10.057, 9.028, 8.215, 7.620, 6.408, 4.579, 2.967, 26.606, 27.494, 28.600, 29.922, 31.462, 32.385, 32.691, 33.214, 33.954, 34.911, 35.252, 34.976, 34.917, 35.074, 35.449, 35.207, 34.349, 33.707, 33.283, 33.075, 32.251, 30.810, 29.587, 53.613, 54.890, 56.383, 58.093, 60.021, 61.332, 62.026, 62.937, 64.065, 65.410, 66.138, 66.250, 66.579, 67.125, 67.888, 68.034, 67.563, 67.310, 67.273, 67.453, 67.017, 65.965, 65.129, 89.543, 91.208, 93.089, 95.187, 97.503, 99.201, 100.284, 101.583, 103.099, 104.832, 105.948, 106.448, 107.165, 108.098, 109.249, 109.783, 109.701, 109.835, 110.186, 110.755, 110.706, 110.042, 109.594, 134.396, 136.449, 138.718, 141.204, 143.907]. .\n",
      "S(166,69) has d-invariant [-0.783, -0.361, -0.012, 0.265, 0.470, 0.602, 0.663, 0.651, 0.566, 0.410, 0.181, -0.120, -0.494, -0.940, -1.458, -2.048, -2.711, -3.446, -4.253, -5.133, -6.084, -7.108, -8.205, -9.373, -10.614, -11.928, -13.313, -14.771, -1.224, -0.673, -0.194, 0.213, 0.548, 0.810, 1.000, 1.118, 1.163, 1.136, 1.037, 0.866, 0.622, 0.306, -0.082, -0.543, -1.076, -1.681, -2.359, -3.108, -3.930, -4.825, -5.791, -6.830, -7.942, -9.125, -10.381, -11.709, 1.968, 2.649, 3.258, 3.794, 4.259, 4.651, 4.970, 5.218, 5.393, 5.496, 5.526, 5.485, 5.371, -0.813, -0.451, -0.160, 0.057, 0.203, 0.276, 0.277, 0.205, 0.062, -0.154, -0.443, -0.803, -1.236, -1.741, -2.319, -2.969, -3.691, -4.485, -5.352, -6.290, -7.302, -8.385, -9.541, -10.769, -12.069, -13.442, -14.887, -16.404, -2.917, -2.425, -2.005, -1.657, -1.382, -1.179, -1.049, -0.990, -1.004, -1.091, -1.249, -1.480, -1.783, -2.158, -2.606, -3.126, -3.718, -4.383, -5.120, -5.929, -6.810, -7.764, -8.790, -9.888, -11.059, -12.302, -13.617, -15.005, -1.387, -0.766, -0.216, 0.261, 0.666, 0.999, 1.259, 1.447, 1.563, 1.606, 1.578, 1.477, 1.303, -4.940, -4.637, -4.406, -4.248, -4.162, -4.148, -4.207, -4.337, -4.540, -4.816, -5.164, -5.583, -6.076, -6.640, -7.277, -7.986, -8.768, -9.621, -10.547, -11.546, -12.616, -13.759, -14.974, -16.262, -17.621, -19.053, -20.558, -22.134, -1.769, -1.318, -0.940, -0.633, -0.400, -0.238, -0.149, -0.132, -0.187, -0.315, -0.515, -0.787, -1.132, -1.548, -2.038, -2.599, -3.233, -3.939, -4.717, -5.567, -6.490, -7.485, -8.553, -9.692, -10.904, -12.189, -13.545, -14.974, -1.398, -0.818, -0.310, 0.126, 0.490, 0.781, 1.000, 1.147, 1.221, 1.223, 1.153, 1.011, 0.796, 0.509, 0.149, -0.282, -0.786, -1.362, -2.011, -2.732, -3.525, -4.390, -5.328, -6.338, -7.420, -8.574, -9.801, -11.100, 2.605, 3.315, 3.953, 4.519, 5.012, 5.433, 5.782, 6.058, 6.263, 6.394, 6.454, 6.441, 6.356].\n",
      "S(191,124) and S(191,11) are different knots, and therefore have differing d-invariants.\n",
      "S(191,124) has d-invariant [-1.016, -0.757, -0.569, -0.450, -0.401, -0.422, -0.513, -0.674, -0.904, -1.204, -1.098, -0.585, -0.143, 0.230, 0.534, 0.767, 0.930, 1.024, 1.048, 1.002, 1.363, 2.130, 2.827, 3.454, 4.011, 4.499, 4.917, 5.265, 5.543, 5.752, 6.366, 7.388, 8.339, 9.221, 10.032, 10.774, 11.447, 12.049, 12.581, 13.044, 13.913, 15.189, 16.394, 17.530, 18.596, 19.593, 20.519, 21.376, 22.163, 22.880, 24.003, 25.533, 26.993, 28.383, 29.703, 30.954, 32.135, -0.807, -0.728, -0.718, -0.779, -0.909, -1.109, -1.379, -1.718, -2.128, -2.607, -1.705, -1.422, -1.209, -1.066, -0.992, -0.989, -1.055, -1.191, -1.396, -1.672, -1.541, -1.004, -0.536, -0.139, 0.189, 0.447, 0.635, 0.753, 0.802, 0.781, 1.166, 1.957, 2.679, 3.331, 3.913, 4.425, 4.868, 5.240, 5.543, 5.776, 6.416, 7.462, 8.438, 9.344, 10.180, 10.947, 11.643, 12.270, 12.828, 13.315, 14.209, 15.509, 16.739, 17.900, 18.990, 20.011, 20.962, 21.843, 22.655, 23.397, 24.545, 26.099, 27.584, 28.998, 30.343, 31.619, 32.824, -1.025, -0.786, -0.617, -0.518, -0.489, -0.529, -0.639, -0.819, -1.069, -1.388, -1.301, -0.808, -0.385, -0.031, 0.253, 0.467, 0.611, 0.685, 0.690, 0.624, 0.965, 1.713, 2.391, 2.999, 3.537, 4.005, 4.403, 4.732, 4.991, 5.180, 5.775, 6.777, 7.709, 8.571, 9.364, 10.086, 10.739, 11.322, 11.835, 12.279, 13.128, 14.384, 15.571, 16.687, 17.734, 18.711, 19.618, 20.455, 21.223, 21.920, 23.024, 24.535, 25.975, 27.346, 28.647, 29.878, 31.040, -1.921, -1.861, -1.871, -1.951, -2.101, -2.320, -2.609, -2.968, -3.397, -3.896, -2.008, -1.733, -1.529, -1.394, -1.329, -1.334, -1.408, -1.553, -1.767, -2.051, -1.929, -1.400, -0.941, -0.552, -0.233, 0.017, 0.197, 0.306, 0.347, 0.317, 0.693, 1.476, 2.190, 2.833, 3.407, 3.910, 4.344, 4.709, 5.003, 5.227, 5.858, 6.896, 7.863, 8.761, 9.589, 10.347, 11.035, 11.654, 12.202, 12.681, 13.566, 14.858, 16.080, 17.232, 18.314, 19.326, 20.269, 21.142, 21.945, 22.678, 23.818, 25.363, 26.840, 28.246, 29.582, 30.849, 32.046, -0.879, -0.784, -0.758, -0.803, -0.917, -1.101, -1.354, -1.678, -2.071, -2.534, -1.616, -1.317, -1.088, -0.929, -0.839, -0.819, -0.869, -0.989, -1.179, -1.438, -1.291, -0.738, -0.254, 0.160, 0.503, 0.778, 0.982, 1.116, 1.181, 1.176, 1.577, 2.385, 3.123, 3.791, 4.389, 4.917, 5.376, 5.765, 6.084, 6.333, 6.988, 8.050, 9.042, 9.965, 10.817, 11.600, 12.313, 12.956, 13.529, 14.033, 14.943, 16.259, 17.505, 18.682, 19.789, 20.826, 21.793, 22.690, 23.518, 24.276, 25.440, 27.010, 28.511, 29.942, 31.303, 32.594, 33.816]. .\n",
      "S(191,11) has d-invariant [4.194, 3.977, 3.883, 3.911, 4.061, 4.333, 4.728, 5.244, 5.883, 6.644, 7.527, 3.949, 3.243, 2.659, 2.198, 1.858, 1.641, 1.546, 1.573, 1.722, 1.993, 2.387, -1.681, -2.876, -3.949, -4.901, -5.729, -6.436, -7.021, -7.483, -7.824, -8.042, -8.138, -12.695, -14.380, -15.943, -17.384, -18.702, -19.898, -20.973, -21.925, -22.754, -23.462, -24.048, -29.094, -31.269, -33.321, -35.251, -37.059, -38.745, -40.309, -41.750, -43.070, -44.267, -45.342, -50.878, -53.542, -56.084, -58.504, -60.801, -62.977, -65.030, -66.961, -68.770, -70.457, -72.021, -78.047, -81.201, -84.232, -87.141, -89.928, -92.593, -95.136, -97.557, -99.855, -102.031, -104.086, -110.601, -114.244, -117.765, -121.164, -124.440, -127.595, -130.627, -133.537, -136.325, -138.991, -141.534, -148.539, -152.672, -156.682, -160.571, -164.337, -167.981, -171.503, -174.902, -178.180, -181.335, -184.368, -191.863, -196.485, -200.985, -205.363, -209.618, -213.752, -217.763, -221.652, -225.419, -229.064, -232.587, -240.571, -245.682, -250.672, -255.539, -260.284, -264.908, -269.408, -273.787, -278.044, -282.178, -286.190, -294.664, -300.265, -305.744, -311.101, -316.336, -321.448, -326.438, -331.307, -336.053, -340.677, -345.178, -354.141, -360.232, -366.201, -372.047, -377.771, -383.373, -388.853, -394.211, -399.447, -404.560, -409.551, -419.004, -425.584, -432.042, -438.378, -444.592, -450.684, -456.653, -462.500, -468.226, -473.829, -479.309, -489.251, -496.321, -503.269, -510.094, -516.798, -523.379, -529.838, -536.175, -542.389, -548.482, -554.452, -564.884, -572.443, -579.880, -587.195, -594.388, -601.459, -608.407, -615.233, -621.938, -628.520, -634.979, -645.901, -653.949, -661.876, -669.681, -677.363, -684.923, -692.361, -699.677, -706.871, -713.942, -720.892, -732.302, -740.841, -749.257, -757.551, 3.285, 3.250, 3.338, 3.547, 3.879, 4.333, 4.910, 5.608, 6.429, 7.371, 8.436].\n"
     ]
    }
   ],
   "source": [
    "distinguish_2_bridge_links(100)\n",
    "# distinguish_2_bridge_links(200)"
   ]
  },
  {
   "cell_type": "markdown",
   "metadata": {},
   "source": [
    "## Conclusion"
   ]
  },
  {
   "cell_type": "markdown",
   "metadata": {},
   "source": [
    "While relatively unknown, the study of knots is widely applicable in the natural sciences, including the study of DNA strands and molecular structures. Further, in the late 19th Century, it was believed that knots make up the structure of the atom, developed by William Thomson, coined the Vortex theory of the atom (See [2]). Through this project, we hope to have motivated the study of knots, and demonstrated how we can use robust programming techniques and recursive relations to characterise/differentiate unique knots and 2-bridge links. "
   ]
  },
  {
   "cell_type": "markdown",
   "metadata": {},
   "source": [
    "<a id='Bib'></a>\n",
    "## References and Bibilography"
   ]
  },
  {
   "cell_type": "markdown",
   "metadata": {},
   "source": [
    "<a id='KronMrow2018'>[1]</a> Kronheimer, Peter B., and Tomasz S. Mrowka. Knots, Three-Manifolds and Instantons, Int. Cong. of Math., 2018, eta.impa.br/dl/PL014.pdf\n",
    "\n",
    "<a id='ThomWill'>[2]</a>  Thomson, William. “On Vortex Atoms.” Lord Kelvin | On Vortex Atoms, Proceedings of the Royal Society of Edinburgh, zapatopi.net/kelvin/papers/on_vortex_atoms.html [Accessed 5 May 2024]\n",
    "\n",
    "<a id='Wiki1'>[3]</a>  “History of Knot Theory.” Wikipedia, Wikimedia Foundation, 15 Feb. 2024, en.wikipedia.org/wiki/History_of_knot_theory\n",
    "\n",
    "<a id='Oszvath'>[4]</a>  “P. Oszváth and Z. Szabó. Absolutely graded Floer homologies and intersection forms for four-manifolds with boundary, Adv. Math. 173 (2003), 179–261.\n",
    "\n",
    "<a id='Torianyk'>[5]</a>  Torianyk, Maksym, and Ivan Balashov. Knots and Reidemeister Theorem, MIT Dept. of Mathematics, May 2023, math.mit.edu/research/highschool/primes/YuliasDream/2023/slides/2-1-BT.pdf. \n",
    "\n",
    "<a id='Wiki2'>[6]</a> “Reidemeister Move.” Wikipedia, Wikimedia Foundation, 11 Sept. 2021, en.wikipedia.org/wiki/Reidemeister_move. "
   ]
  }
 ],
 "metadata": {
  "interpreter": {
   "hash": "f08154012ddadd8e950e6e9e035c7a7b32c136e7647e9b7c77e02eb723a8bedb"
  },
  "kernelspec": {
   "display_name": "Python 3.9.7 ('base')",
   "language": "python",
   "name": "python3"
  },
  "language_info": {
   "codemirror_mode": {
    "name": "ipython",
    "version": 3
   },
   "file_extension": ".py",
   "mimetype": "text/x-python",
   "name": "python",
   "nbconvert_exporter": "python",
   "pygments_lexer": "ipython3",
   "version": "3.12.3"
  }
 },
 "nbformat": 4,
 "nbformat_minor": 2
}
